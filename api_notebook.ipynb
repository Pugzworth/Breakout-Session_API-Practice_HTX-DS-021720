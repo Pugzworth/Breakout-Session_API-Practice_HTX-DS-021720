{
 "cells": [
  {
   "cell_type": "markdown",
   "metadata": {
    "slideshow": {
     "slide_type": "slide"
    }
   },
   "source": [
    "# APIs and Python\n"
   ]
  },
  {
   "cell_type": "markdown",
   "metadata": {
    "slideshow": {
     "slide_type": "slide"
    }
   },
   "source": [
    "## The Many Use Cases For APIs\n",
    "\n",
    "APIs can be used for many things - much more than just retrieving information. Twilio has an API that allows you to write a script to send text messages to people. GitHub has an API for creating new repositories. Many services have APIs allowing computers to automate tasks that a person might otherwise have to do through a website - whether uploading a photo to Flickr, searching for a company name in a state database, or getting a list of garbage collection times for a municipality."
   ]
  },
  {
   "cell_type": "markdown",
   "metadata": {
    "slideshow": {
     "slide_type": "slide"
    }
   },
   "source": [
    "### Learning Goals:\n",
    "\n",
    "  - Identify and discuss APIs\n",
    "  - Discuss and explain different request (GET, POST, PUT, DELETE) and CRUD operations\n",
    "  - Explore the attributes of a response object\n",
    "  - Check the status of a request and interpret status codes\n",
    "  - Access data from an API using the requests library\n",
    "  - Create a pandas dataframe from the data returned from an API and visualize the data\n"
   ]
  },
  {
   "cell_type": "markdown",
   "metadata": {
    "slideshow": {
     "slide_type": "slide"
    }
   },
   "source": [
    "## Limitations of APIs\n",
    "\n",
    "When working with APIs, there are some limitations you have to be aware of - especially relating to scope and scale.\n",
    "\n",
    "* **Scope** - Just because a company has an API and has information, it doesn't mean you can get all of the information through their API. \n",
    "\n",
    "* **Scale** - Some APIs are provided for free as a public service. Others you have to pay for, or allow you to perform activities (like sending a text message) that you pay for. Make sure that you know what the rate limits are and that your use case isn't going to need more API calls than you will be able to make.\n",
    "\n",
    "What else is good to know? Every API is different! There are some standards out there in terms of documentation and usage... but it's like the wild west - rapid expansion with few rules.\n",
    "\n",
    "With all that out of the way - Let's take a look at the `requests` library and its uses."
   ]
  },
  {
   "cell_type": "markdown",
   "metadata": {
    "slideshow": {
     "slide_type": "slide"
    }
   },
   "source": [
    "### \"Requests is the only Non-GMO HTTP library for Python, safe for human consumption.\"\n",
    "\n",
    "> \"Requests allows you to send organic, grass-fed HTTP/1.1 requests, without the need for manual labor.\"\n",
    "\n",
    "Straight from the `requests` [documentation](https://pypi.org/project/requests/)"
   ]
  },
  {
   "cell_type": "markdown",
   "metadata": {},
   "source": [
    "### Let's get started!"
   ]
  },
  {
   "cell_type": "code",
   "execution_count": null,
   "metadata": {
    "slideshow": {
     "slide_type": "slide"
    }
   },
   "outputs": [],
   "source": [
    "import requests"
   ]
  },
  {
   "cell_type": "code",
   "execution_count": null,
   "metadata": {},
   "outputs": [],
   "source": [
    "# Don't already have the library? Uncomment the below code and install it\n",
    "#!pip install requests"
   ]
  },
  {
   "cell_type": "markdown",
   "metadata": {},
   "source": [
    "### Types of requests\n",
    "\n",
    "We will mostly use GET requests in order to get data, but there are other options.\n",
    "\n",
    "![CRUD image from IntelliPaat](https://intellipaat.com/mediaFiles/2015/08/MongoDB-CRUD-operations.jpg)\n",
    "\n",
    "That's right - CRUD summarizes the kinds of requests you can make with most APIs. \n",
    "\n",
    "Let's say you are looking at an API for a car rental company like Hertz or Zipcar - the following different requests could generate these different responses:\n",
    "\n",
    "| Request               | Result                               | In CRUD Terms |\n",
    "| --------------------- | ------------------------------------ | ------------- |\n",
    "| GET /stores/          | User sees the list of stores         | Read          |\n",
    "| GET /rentals/         | User sees the history of car rentals | Read          |\n",
    "| POST /rentals/        | User rents a car                     | Create        |\n",
    "| PUT /rentals/{id}/    | User changes destination store       | Update        |\n",
    "| DELETE /rentals/{id}/ | User cancels the active car rental   | Delete        |\n"
   ]
  },
  {
   "cell_type": "markdown",
   "metadata": {
    "slideshow": {
     "slide_type": "slide"
    }
   },
   "source": [
    "### Request Class and Attributes"
   ]
  },
  {
   "cell_type": "code",
   "execution_count": null,
   "metadata": {},
   "outputs": [],
   "source": [
    "# Create a GET request, then check the type of object\n",
    "\n",
    "r = requests.get('https://api.github.com/events') \n",
    "type(r)"
   ]
  },
  {
   "cell_type": "code",
   "execution_count": null,
   "metadata": {
    "scrolled": true
   },
   "outputs": [],
   "source": [
    "# So what does this look like?\n",
    "r.text"
   ]
  },
  {
   "cell_type": "markdown",
   "metadata": {},
   "source": [
    "![Oh good heavens gif, from gfycat](https://thumbs.gfycat.com/ColdAmbitiousDogwoodtwigborer-size_restricted.gif)"
   ]
  },
  {
   "cell_type": "markdown",
   "metadata": {
    "slideshow": {
     "slide_type": "slide"
    }
   },
   "source": [
    "Obviously you're never going to just scan that quickly for any data you need, we need to wrangle that response to make it usable.\n",
    "\n",
    "But first, let's look at some of the other attributes of `requests.models.Response` objects.\n",
    "\n",
    "We can check out all of the attributes [here](https://2.python-requests.org//en/v0.10.6/api/) in the documentation."
   ]
  },
  {
   "cell_type": "code",
   "execution_count": null,
   "metadata": {},
   "outputs": [],
   "source": [
    "# Another attribute, what does this show us?\n",
    "r.headers"
   ]
  },
  {
   "cell_type": "markdown",
   "metadata": {
    "slideshow": {
     "slide_type": "slide"
    }
   },
   "source": [
    "### Checking out the status of your request"
   ]
  },
  {
   "cell_type": "code",
   "execution_count": null,
   "metadata": {},
   "outputs": [],
   "source": [
    "# Another attribute\n",
    "r.status_code"
   ]
  },
  {
   "cell_type": "markdown",
   "metadata": {
    "slideshow": {
     "slide_type": "slide"
    }
   },
   "source": [
    "### [Types of status codes](https://http.cat/)\n",
    "\n",
    "1xx - Informational responses\n",
    "\n",
    "2xx - Success\n",
    "- 200 OK\n",
    "- 201 Created\n",
    "- 204 No Content\n",
    "\n",
    "3xx - Redirection\n",
    "\n",
    "- 301 Moved Permanently (permanent URL redirection)\n",
    "- 304 Not Modified (A conditional GET or HEAD request has been received and would have resulted in a 200 OK response if it were not for the fact that the condition evaluated to false.)\n",
    "\n",
    "4xx - Client errors\n",
    "\n",
    "- 400 Bad Request\n",
    "- 401 Unauthorized\n",
    "- 403 Forbidden\n",
    "- 404 Not Found\n",
    "\n",
    "5xx - Server errors\n",
    "\n",
    "- 500 Internal Server Error"
   ]
  },
  {
   "cell_type": "code",
   "execution_count": null,
   "metadata": {
    "slideshow": {
     "slide_type": "slide"
    }
   },
   "outputs": [],
   "source": [
    "# Get status code for a \"broken\" link\n",
    "\n",
    "r_broken = requests.get('https://api.github.com/fake-ending')\n",
    "r_broken.status_code"
   ]
  },
  {
   "cell_type": "markdown",
   "metadata": {
    "slideshow": {
     "slide_type": "slide"
    }
   },
   "source": [
    "Can also explictly ask for the returned format to be json as a method."
   ]
  },
  {
   "cell_type": "code",
   "execution_count": null,
   "metadata": {},
   "outputs": [],
   "source": [
    "# Going back to our working request - how does this look, compared to text?\n",
    "r.json()"
   ]
  },
  {
   "cell_type": "markdown",
   "metadata": {
    "slideshow": {
     "slide_type": "slide"
    }
   },
   "source": [
    "#### A note on errors and exceptions with the Requests library\n",
    "\n",
    "There are a number of exceptions and error codes you need to be familiar with when using the Requests library in Python.\n",
    "\n",
    "- The Requests library will raise a ConnectionError exception if there is a network problem like a DNS failure, or refused connection.\n",
    "- These are rare, but with invalid HTTP responses, Requests will also raise an HTTPError exception. \n",
    "- A Timeout exception will be raised if a request times out.\n",
    "- If and when a request exceeds the preconfigured number of maximum redirections, then a TooManyRedirects exception will be raised"
   ]
  },
  {
   "cell_type": "markdown",
   "metadata": {},
   "source": [
    "## Another Way to Deal with APIs\n",
    "\n",
    "Check out [Postman](https://www.getpostman.com/).\n",
    "\n",
    "(Cue Lindsey showing you how to use Postman with the [Dark Sky API](https://darksky.net/dev))"
   ]
  },
  {
   "cell_type": "markdown",
   "metadata": {},
   "source": [
    "## Back to the requests Library: Another Example\n",
    "\n",
    "To start, go over to the API documentation [here](https://dev.socrata.com/foundry/data.cityofnewyork.us/fhrw-4uyv)\n",
    "\n",
    "![311 api documentation screenshot](311_api_docs.png)"
   ]
  },
  {
   "cell_type": "markdown",
   "metadata": {
    "slideshow": {
     "slide_type": "slide"
    }
   },
   "source": [
    "### Make an initial API call to retrieve 311 complaints from a zip code of your choice in New York City\n",
    "\n",
    "We arrived at this URL by checking out the documentation here [here](https://data.cityofnewyork.us/Social-Services/311-Service-Requests-from-2010-to-Present/erm2-nwe9) and clicking API."
   ]
  },
  {
   "cell_type": "code",
   "execution_count": null,
   "metadata": {
    "slideshow": {
     "slide_type": "-"
    }
   },
   "outputs": [],
   "source": [
    "import requests\n",
    "import pandas as pd\n",
    "\n",
    "# Defining the variable to be changed\n",
    "zip_code = '11004' # you can put any NYC zip code here\n",
    "url = \"https://data.cityofnewyork.us/resource/fhrw-4uyv.json?incident_zip={}\".format(zip_code)\n",
    "\n",
    "# Pull from the API\n",
    "response = requests.get(url)\n",
    "if response.status_code == 200:\n",
    "    data = response.json()\n",
    "else:\n",
    "    print('Hit an error.')"
   ]
  },
  {
   "cell_type": "markdown",
   "metadata": {
    "slideshow": {
     "slide_type": "slide"
    }
   },
   "source": [
    "### Briefly explore the structure of the response you received"
   ]
  },
  {
   "cell_type": "code",
   "execution_count": null,
   "metadata": {
    "slideshow": {
     "slide_type": "-"
    }
   },
   "outputs": [],
   "source": [
    "# What type is our data?\n",
    "print(type(data))"
   ]
  },
  {
   "cell_type": "code",
   "execution_count": null,
   "metadata": {
    "slideshow": {
     "slide_type": "-"
    }
   },
   "outputs": [],
   "source": [
    "# Size?\n",
    "len(data)"
   ]
  },
  {
   "cell_type": "code",
   "execution_count": null,
   "metadata": {
    "slideshow": {
     "slide_type": "fragment"
    }
   },
   "outputs": [],
   "source": [
    "# Let's check one of the items out\n",
    "data[20]"
   ]
  },
  {
   "cell_type": "markdown",
   "metadata": {
    "slideshow": {
     "slide_type": "slide"
    }
   },
   "source": [
    "### Create a DataFrame of the data from the response"
   ]
  },
  {
   "cell_type": "code",
   "execution_count": null,
   "metadata": {
    "slideshow": {
     "slide_type": "-"
    }
   },
   "outputs": [],
   "source": [
    "df = pd.DataFrame(data)"
   ]
  },
  {
   "cell_type": "code",
   "execution_count": null,
   "metadata": {},
   "outputs": [],
   "source": [
    "# Let's look at some details\n",
    "print(len(df))\n",
    "print(df.columns)\n",
    "df.head()"
   ]
  },
  {
   "cell_type": "markdown",
   "metadata": {
    "slideshow": {
     "slide_type": "slide"
    }
   },
   "source": [
    "### Create a Chart of Complaint Types "
   ]
  },
  {
   "cell_type": "code",
   "execution_count": null,
   "metadata": {
    "slideshow": {
     "slide_type": "fragment"
    }
   },
   "outputs": [],
   "source": [
    "import matplotlib.pyplot as plt\n",
    "%matplotlib inline"
   ]
  },
  {
   "cell_type": "code",
   "execution_count": null,
   "metadata": {
    "scrolled": true,
    "slideshow": {
     "slide_type": "fragment"
    }
   },
   "outputs": [],
   "source": [
    "# Can you break down how this plot is generated?\n",
    "df.complaint_type.value_counts().plot(kind='barh', figsize=(8,12))\n",
    "plt.show()"
   ]
  },
  {
   "cell_type": "markdown",
   "metadata": {
    "slideshow": {
     "slide_type": "slide"
    }
   },
   "source": [
    "## Extra credit - Further Practice\n",
    "\n",
    "There are many ways to access data through APIs! [Sodapy](https://github.com/xmunoz/sodapy) is the Python client for the Socrata Open Data API."
   ]
  },
  {
   "cell_type": "code",
   "execution_count": null,
   "metadata": {},
   "outputs": [],
   "source": [
    "# Install before running \n",
    "# !pip install sodapy"
   ]
  },
  {
   "cell_type": "markdown",
   "metadata": {
    "slideshow": {
     "slide_type": "-"
    }
   },
   "source": [
    "#### Tokenize yourself!\n",
    "\n",
    "https://dev.socrata.com/foundry/data.cityofnewyork.us/fhrw-4uyv\n",
    "\n",
    "Scroll down and click to sign up for an app token! No credit cards required!"
   ]
  },
  {
   "cell_type": "code",
   "execution_count": null,
   "metadata": {},
   "outputs": [],
   "source": [
    "token = '' # paste your token here \n",
    "\n",
    "import pandas as pd\n",
    "from sodapy import Socrata\n",
    "\n",
    "# Unauthenticated client only works with public data sets. Note 'None'\n",
    "# in place of application token, and no username or password:\n",
    "client = Socrata(\"data.cityofnewyork.us\", token)\n",
    "\n",
    "# Example authenticated client (needed for non-public datasets):\n",
    "# client = Socrata(data.cityofnewyork.us,\n",
    "#                  MyAppToken,\n",
    "#                  userame=\"user@example.com\",\n",
    "#                  password=\"AFakePassword\")\n",
    "\n",
    "# First 2000 results, returned as JSON from API / converted to Python list of\n",
    "# dictionaries by sodapy.\n",
    "results = client.get(\"fhrw-4uyv\", incident_zip = '11004', limit=1000)"
   ]
  },
  {
   "cell_type": "code",
   "execution_count": null,
   "metadata": {
    "slideshow": {
     "slide_type": "-"
    }
   },
   "outputs": [],
   "source": [
    "type(results)"
   ]
  },
  {
   "cell_type": "code",
   "execution_count": null,
   "metadata": {
    "slideshow": {
     "slide_type": "-"
    }
   },
   "outputs": [],
   "source": [
    "len(results)"
   ]
  },
  {
   "cell_type": "code",
   "execution_count": null,
   "metadata": {
    "slideshow": {
     "slide_type": "-"
    }
   },
   "outputs": [],
   "source": [
    "results[0]"
   ]
  },
  {
   "cell_type": "code",
   "execution_count": null,
   "metadata": {
    "slideshow": {
     "slide_type": "-"
    }
   },
   "outputs": [],
   "source": [
    "df_soda = pd.DataFrame(results)\n",
    "\n",
    "print(len(df_soda))\n",
    "print(df_soda.columns)\n",
    "df_soda.head()"
   ]
  },
  {
   "cell_type": "markdown",
   "metadata": {
    "slideshow": {
     "slide_type": "slide"
    }
   },
   "source": [
    "## Even Further Practice\n",
    "\n",
    "https://github.com/toddmotto/public-apis\n",
    "\n",
    "Find a buddy, find a free api, get a key, and do a GET. Try to transform the response into a dataframe."
   ]
  },
  {
   "cell_type": "code",
   "execution_count": null,
   "metadata": {},
   "outputs": [],
   "source": []
  }
 ],
 "metadata": {
  "kernelspec": {
   "display_name": "Python 3",
   "language": "python",
   "name": "python3"
  },
  "language_info": {
   "codemirror_mode": {
    "name": "ipython",
    "version": 3
   },
   "file_extension": ".py",
   "mimetype": "text/x-python",
   "name": "python",
   "nbconvert_exporter": "python",
   "pygments_lexer": "ipython3",
   "version": "3.6.9"
  }
 },
 "nbformat": 4,
 "nbformat_minor": 2
}
