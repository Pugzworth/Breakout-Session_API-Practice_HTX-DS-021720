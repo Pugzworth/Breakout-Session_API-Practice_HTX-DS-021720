{
 "cells": [
  {
   "cell_type": "markdown",
   "metadata": {
    "slideshow": {
     "slide_type": "slide"
    }
   },
   "source": [
    "# APIs and Python\n"
   ]
  },
  {
   "cell_type": "markdown",
   "metadata": {
    "slideshow": {
     "slide_type": "slide"
    }
   },
   "source": [
    "## The Many Use Cases For APIs\n",
    "\n",
    "APIs can be used for many things - much more than just retrieving information. Twilio has an API that allows you to write a script to send text messages to people. GitHub has an API for creating new repositories. Many services have APIs allowing computers to automate tasks that a person might otherwise have to do through a website - whether uploading a photo to Flickr, searching for a company name in a state database, or getting a list of garbage collection times for a municipality."
   ]
  },
  {
   "cell_type": "markdown",
   "metadata": {
    "slideshow": {
     "slide_type": "slide"
    }
   },
   "source": [
    "### Learning Goals:\n",
    "\n",
    "  - Identify and discuss APIs\n",
    "  - Discuss and explain different request (GET, POST, PUT, DELETE) and CRUD operations\n",
    "  - Explore the attributes of a response object\n",
    "  - Check the status of a request and interpret status codes\n",
    "  - Access data from an API using the requests library\n",
    "  - Create a pandas dataframe from the data returned from an API and visualize the data\n"
   ]
  },
  {
   "cell_type": "markdown",
   "metadata": {
    "slideshow": {
     "slide_type": "slide"
    }
   },
   "source": [
    "## Limitations of APIs\n",
    "\n",
    "When working with APIs, there are some limitations you have to be aware of - especially relating to scope and scale.\n",
    "\n",
    "* **Scope** - Just because a company has an API and has information, it doesn't mean you can get all of the information through their API. \n",
    "\n",
    "* **Scale** - Some APIs are provided for free as a public service. Others you have to pay for, or allow you to perform activities (like sending a text message) that you pay for. Make sure that you know what the rate limits are and that your use case isn't going to need more API calls than you will be able to make.\n",
    "\n",
    "What else is good to know? Every API is different! There are some standards out there in terms of documentation and usage... but it's like the wild west - rapid expansion with few rules.\n",
    "\n",
    "With all that out of the way - Let's take a look at the `requests` library and its uses."
   ]
  },
  {
   "cell_type": "markdown",
   "metadata": {
    "slideshow": {
     "slide_type": "slide"
    }
   },
   "source": [
    "### \"Requests is the only Non-GMO HTTP library for Python, safe for human consumption.\"\n",
    "\n",
    "> \"Requests allows you to send organic, grass-fed HTTP/1.1 requests, without the need for manual labor.\"\n",
    "\n",
    "Straight from the `requests` [documentation](https://pypi.org/project/requests/)"
   ]
  },
  {
   "cell_type": "markdown",
   "metadata": {},
   "source": [
    "### Let's get started!"
   ]
  },
  {
   "cell_type": "code",
   "execution_count": 1,
   "metadata": {
    "slideshow": {
     "slide_type": "slide"
    }
   },
   "outputs": [],
   "source": [
    "import requests"
   ]
  },
  {
   "cell_type": "code",
   "execution_count": null,
   "metadata": {},
   "outputs": [],
   "source": [
    "# Don't already have the library? Uncomment the below code and install it\n",
    "#!pip install requests"
   ]
  },
  {
   "cell_type": "markdown",
   "metadata": {},
   "source": [
    "### Types of requests\n",
    "\n",
    "We will mostly use GET requests in order to get data, but there are other options.\n",
    "\n",
    "![CRUD image from IntelliPaat](https://intellipaat.com/mediaFiles/2015/08/MongoDB-CRUD-operations.jpg)\n",
    "\n",
    "That's right - CRUD summarizes the kinds of requests you can make with most APIs. \n",
    "\n",
    "Let's say you are looking at an API for a car rental company like Hertz or Zipcar - the following different requests could generate these different responses:\n",
    "\n",
    "| Request               | Result                               | In CRUD Terms |\n",
    "| --------------------- | ------------------------------------ | ------------- |\n",
    "| GET /stores/          | User sees the list of stores         | Read          |\n",
    "| GET /rentals/         | User sees the history of car rentals | Read          |\n",
    "| POST /rentals/        | User rents a car                     | Create        |\n",
    "| PUT /rentals/{id}/    | User changes destination store       | Update        |\n",
    "| DELETE /rentals/{id}/ | User cancels the active car rental   | Delete        |\n"
   ]
  },
  {
   "cell_type": "markdown",
   "metadata": {
    "slideshow": {
     "slide_type": "slide"
    }
   },
   "source": [
    "### Request Class and Attributes"
   ]
  },
  {
   "cell_type": "code",
   "execution_count": 2,
   "metadata": {},
   "outputs": [
    {
     "data": {
      "text/plain": [
       "requests.models.Response"
      ]
     },
     "execution_count": 2,
     "metadata": {},
     "output_type": "execute_result"
    }
   ],
   "source": [
    "# Create a GET request, then check the type of object\n",
    "\n",
    "r = requests.get('https://api.github.com/events') \n",
    "type(r)"
   ]
  },
  {
   "cell_type": "code",
   "execution_count": 3,
   "metadata": {
    "scrolled": true
   },
   "outputs": [
    {
     "data": {
      "text/plain": [
       "'[{\"id\":\"10991521721\",\"type\":\"PushEvent\",\"actor\":{\"id\":8164534,\"login\":\"DerekCL\",\"display_login\":\"DerekCL\",\"gravatar_id\":\"\",\"url\":\"https://api.github.com/users/DerekCL\",\"avatar_url\":\"https://avatars.githubusercontent.com/u/8164534?\"},\"repo\":{\"id\":225287363,\"name\":\"DerekCL/AmazonFlaskApp\",\"url\":\"https://api.github.com/repos/DerekCL/AmazonFlaskApp\"},\"payload\":{\"push_id\":4344829026,\"size\":1,\"distinct_size\":1,\"ref\":\"refs/heads/master\",\"head\":\"8d6b9df3c1c3569e9ffc439d174ac49f42c0fea4\",\"before\":\"be483ca0e163d7a0a893696fc557b803450df926\",\"commits\":[{\"sha\":\"8d6b9df3c1c3569e9ffc439d174ac49f42c0fea4\",\"author\":{\"email\":\"derek.lewandowski@coda.global\",\"name\":\"derek.lewandowski\"},\"message\":\"returning simple hello world\",\"distinct\":true,\"url\":\"https://api.github.com/repos/DerekCL/AmazonFlaskApp/commits/8d6b9df3c1c3569e9ffc439d174ac49f42c0fea4\"}]},\"public\":true,\"created_at\":\"2019-12-02T17:07:21Z\"},{\"id\":\"10991521713\",\"type\":\"PushEvent\",\"actor\":{\"id\":57900031,\"login\":\"bestfingame\",\"display_login\":\"bestfingame\",\"gravatar_id\":\"\",\"url\":\"https://api.github.com/users/bestfingame\",\"avatar_url\":\"https://avatars.githubusercontent.com/u/57900031?\"},\"repo\":{\"id\":225426335,\"name\":\"bestfingame/mobtopgame\",\"url\":\"https://api.github.com/repos/bestfingame/mobtopgame\"},\"payload\":{\"push_id\":4344829018,\"size\":1,\"distinct_size\":1,\"ref\":\"refs/heads/master\",\"head\":\"842bd879147a36fa0274c5201cbf97edddf9f581\",\"before\":\"e133604f2969a0c38e5a2c68536bacaa4151df39\",\"commits\":[{\"sha\":\"842bd879147a36fa0274c5201cbf97edddf9f581\",\"author\":{\"email\":\"57900031+bestfingame@users.noreply.github.com\",\"name\":\"bestfingame\"},\"message\":\"Update index.html\",\"distinct\":true,\"url\":\"https://api.github.com/repos/bestfingame/mobtopgame/commits/842bd879147a36fa0274c5201cbf97edddf9f581\"}]},\"public\":true,\"created_at\":\"2019-12-02T17:07:21Z\"},{\"id\":\"10991521710\",\"type\":\"PushEvent\",\"actor\":{\"id\":9073706,\"login\":\"chriseth\",\"display_login\":\"chriseth\",\"gravatar_id\":\"\",\"url\":\"https://api.github.com/users/chriseth\",\"avatar_url\":\"https://avatars.githubusercontent.com/u/9073706?\"},\"repo\":{\"id\":85063629,\"name\":\"ethereum/solidity-test-bytecode\",\"url\":\"https://api.github.com/repos/ethereum/solidity-test-bytecode\"},\"payload\":{\"push_id\":4344829019,\"size\":1,\"distinct_size\":1,\"ref\":\"refs/heads/master\",\"head\":\"27166d88aa54752649b86617ab35f4da5fc95db2\",\"before\":\"584dd07dee76b7e638b9f68fbc20b1efb6f1b2ec\",\"commits\":[{\"sha\":\"27166d88aa54752649b86617ab35f4da5fc95db2\",\"author\":{\"email\":\"chris@ethereum.org\",\"name\":\"travis\"},\"message\":\"Added report 2019-12-02-1a70f1440cba8fadbe9e95781421c9adf4cb1e11/ubuntu-trusty-clang.txt\",\"distinct\":true,\"url\":\"https://api.github.com/repos/ethereum/solidity-test-bytecode/commits/27166d88aa54752649b86617ab35f4da5fc95db2\"}]},\"public\":true,\"created_at\":\"2019-12-02T17:07:21Z\",\"org\":{\"id\":6250754,\"login\":\"ethereum\",\"gravatar_id\":\"\",\"url\":\"https://api.github.com/orgs/ethereum\",\"avatar_url\":\"https://avatars.githubusercontent.com/u/6250754?\"}},{\"id\":\"10991521703\",\"type\":\"PushEvent\",\"actor\":{\"id\":14146000,\"login\":\"judytraj007\",\"display_login\":\"judytraj007\",\"gravatar_id\":\"\",\"url\":\"https://api.github.com/users/judytraj007\",\"avatar_url\":\"https://avatars.githubusercontent.com/u/14146000?\"},\"repo\":{\"id\":222447354,\"name\":\"judytraj007/Vid2pic\",\"url\":\"https://api.github.com/repos/judytraj007/Vid2pic\"},\"payload\":{\"push_id\":4344829016,\"size\":1,\"distinct_size\":1,\"ref\":\"refs/heads/master\",\"head\":\"8c1ad9ec53241db947684c77b07a175925863829\",\"before\":\"6e230fcbd01a9d915369960907f4b58fa7dc7d72\",\"commits\":[{\"sha\":\"8c1ad9ec53241db947684c77b07a175925863829\",\"author\":{\"email\":\"judy.raj007@gmail.com\",\"name\":\"Judy T Raj\"},\"message\":\"Add files via upload\",\"distinct\":true,\"url\":\"https://api.github.com/repos/judytraj007/Vid2pic/commits/8c1ad9ec53241db947684c77b07a175925863829\"}]},\"public\":true,\"created_at\":\"2019-12-02T17:07:21Z\"},{\"id\":\"10991521705\",\"type\":\"CreateEvent\",\"actor\":{\"id\":47150129,\"login\":\"MrJoseF17\",\"display_login\":\"MrJoseF17\",\"gravatar_id\":\"\",\"url\":\"https://api.github.com/users/MrJoseF17\",\"avatar_url\":\"https://avatars.githubusercontent.com/u/47150129?\"},\"repo\":{\"id\":225425298,\"name\":\"MrJoseF17/WinterCup-HDF\",\"url\":\"https://api.github.com/repos/MrJoseF17/WinterCup-HDF\"},\"payload\":{\"ref\":\"master\",\"ref_type\":\"branch\",\"master_branch\":\"master\",\"description\":\"Project for publishing Winter Cup HDF Results\",\"pusher_type\":\"user\"},\"public\":true,\"created_at\":\"2019-12-02T17:07:21Z\"},{\"id\":\"10991521682\",\"type\":\"PushEvent\",\"actor\":{\"id\":50048816,\"login\":\"ShayMotion\",\"display_login\":\"ShayMotion\",\"gravatar_id\":\"\",\"url\":\"https://api.github.com/users/ShayMotion\",\"avatar_url\":\"https://avatars.githubusercontent.com/u/50048816?\"},\"repo\":{\"id\":225290450,\"name\":\"ShayMotion/html-forms-lab-online-web-sp-000\",\"url\":\"https://api.github.com/repos/ShayMotion/html-forms-lab-online-web-sp-000\"},\"payload\":{\"push_id\":4344829001,\"size\":1,\"distinct_size\":1,\"ref\":\"refs/heads/wip\",\"head\":\"cd56413e0c1abe097c3b5441fb532476c0a77eed\",\"before\":\"d4b4b7347211798b7acf5a2f8355d1dc510a4e0b\",\"commits\":[{\"sha\":\"cd56413e0c1abe097c3b5441fb532476c0a77eed\",\"author\":{\"email\":\"shaymotionfilms@gmail.com\",\"name\":\"Shayan Mohsin\"},\"message\":\"Automatically backed up by Learn\",\"distinct\":true,\"url\":\"https://api.github.com/repos/ShayMotion/html-forms-lab-online-web-sp-000/commits/cd56413e0c1abe097c3b5441fb532476c0a77eed\"}]},\"public\":true,\"created_at\":\"2019-12-02T17:07:21Z\"},{\"id\":\"10991521686\",\"type\":\"IssueCommentEvent\",\"actor\":{\"id\":16886711,\"login\":\"peterpeterparker\",\"display_login\":\"peterpeterparker\",\"gravatar_id\":\"\",\"url\":\"https://api.github.com/users/peterpeterparker\",\"avatar_url\":\"https://avatars.githubusercontent.com/u/16886711?\"},\"repo\":{\"id\":37959149,\"name\":\"jeduan/cordova-plugin-facebook4\",\"url\":\"https://api.github.com/repos/jeduan/cordova-plugin-facebook4\"},\"payload\":{\"action\":\"created\",\"issue\":{\"url\":\"https://api.github.com/repos/jeduan/cordova-plugin-facebook4/issues/795\",\"repository_url\":\"https://api.github.com/repos/jeduan/cordova-plugin-facebook4\",\"labels_url\":\"https://api.github.com/repos/jeduan/cordova-plugin-facebook4/issues/795/labels{/name}\",\"comments_url\":\"https://api.github.com/repos/jeduan/cordova-plugin-facebook4/issues/795/comments\",\"events_url\":\"https://api.github.com/repos/jeduan/cordova-plugin-facebook4/issues/795/events\",\"html_url\":\"https://github.com/jeduan/cordova-plugin-facebook4/issues/795\",\"id\":483357292,\"node_id\":\"MDU6SXNzdWU0ODMzNTcyOTI=\",\"number\":795,\"title\":\"\\'FBSDKCoreKit/FBSDKCoreKit.h\\' file not found after updating plugin to V6.0.0\",\"user\":{\"login\":\"hellkith\",\"id\":6150722,\"node_id\":\"MDQ6VXNlcjYxNTA3MjI=\",\"avatar_url\":\"https://avatars0.githubusercontent.com/u/6150722?v=4\",\"gravatar_id\":\"\",\"url\":\"https://api.github.com/users/hellkith\",\"html_url\":\"https://github.com/hellkith\",\"followers_url\":\"https://api.github.com/users/hellkith/followers\",\"following_url\":\"https://api.github.com/users/hellkith/following{/other_user}\",\"gists_url\":\"https://api.github.com/users/hellkith/gists{/gist_id}\",\"starred_url\":\"https://api.github.com/users/hellkith/starred{/owner}{/repo}\",\"subscriptions_url\":\"https://api.github.com/users/hellkith/subscriptions\",\"organizations_url\":\"https://api.github.com/users/hellkith/orgs\",\"repos_url\":\"https://api.github.com/users/hellkith/repos\",\"events_url\":\"https://api.github.com/users/hellkith/events{/privacy}\",\"received_events_url\":\"https://api.github.com/users/hellkith/received_events\",\"type\":\"User\",\"site_admin\":false},\"labels\":[],\"state\":\"closed\",\"locked\":false,\"assignee\":null,\"assignees\":[],\"milestone\":null,\"comments\":40,\"created_at\":\"2019-08-21T11:13:56Z\",\"updated_at\":\"2019-12-02T17:07:21Z\",\"closed_at\":\"2019-10-09T06:00:22Z\",\"author_association\":\"NONE\",\"body\":\"**Bug or feature request**\\\\r\\\\n\\\\r\\\\n[x] I\\'m reporting a reproducible issue with the code\\\\r\\\\n[ ] I\\'m reporting a feature request\\\\r\\\\n\\\\r\\\\n**Describe the Bug of feature request**\\\\r\\\\n\\\\r\\\\nThis plugin has always worked perfectly for me on iOS. However since the changes for the pods manager, it doesn\\'t work when I open the project in xCode and the build command fails.\\\\r\\\\n\\\\r\\\\nWhen I run the following command: ionic cordova build ios -- --buildFlag=\\\\\"-UseModernBuildSystem=0\\\\\" command it throws an error when it is done.\\\\r\\\\nStating that the CompileC for \\\\\"FacebookConnectPlugin.m normal x86_64 objective-c com.apple.compilers.llvm.clang.1_0.compiler\\\\\" has failed. (Removed the lengthy file path for readability)\\\\r\\\\n\\\\r\\\\nif I then open the project in xCode and build the app it fails with the error: \\'FBSDKCoreKit/FBSDKCoreKit.h\\' file not found\\\\r\\\\n\\\\r\\\\nI did check and see if cocoapods was installed and I updated it just incase it could have been due to an outdated version.\\\\r\\\\n\\\\r\\\\n**Plugin version, OS, devices, etc**\\\\r\\\\n\\\\r\\\\nplugin version: 6.0.0\\\\r\\\\nIonic version: 4.1.0\\\\r\\\\nCordova version: 9.0\\\\r\\\\ncordova-ios version: 4.5.5\"},\"comment\":{\"url\":\"https://api.github.com/repos/jeduan/cordova-plugin-facebook4/issues/comments/560487859\",\"html_url\":\"https://github.com/jeduan/cordova-plugin-facebook4/issues/795#issuecomment-560487859\",\"issue_url\":\"https://api.github.com/repos/jeduan/cordova-plugin-facebook4/issues/795\",\"id\":560487859,\"node_id\":\"MDEyOklzc3VlQ29tbWVudDU2MDQ4Nzg1OQ==\",\"user\":{\"login\":\"peterpeterparker\",\"id\":16886711,\"node_id\":\"MDQ6VXNlcjE2ODg2NzEx\",\"avatar_url\":\"https://avatars0.githubusercontent.com/u/16886711?v=4\",\"gravatar_id\":\"\",\"url\":\"https://api.github.com/users/peterpeterparker\",\"html_url\":\"https://github.com/peterpeterparker\",\"followers_url\":\"https://api.github.com/users/peterpeterparker/followers\",\"following_url\":\"https://api.github.com/users/peterpeterparker/following{/other_user}\",\"gists_url\":\"https://api.github.com/users/peterpeterparker/gists{/gist_id}\",\"starred_url\":\"https://api.github.com/users/peterpeterparker/starred{/owner}{/repo}\",\"subscriptions_url\":\"https://api.github.com/users/peterpeterparker/subscriptions\",\"organizations_url\":\"https://api.github.com/users/peterpeterparker/orgs\",\"repos_url\":\"https://api.github.com/users/peterpeterparker/repos\",\"events_url\":\"https://api.github.com/users/peterpeterparker/events{/privacy}\",\"received_events_url\":\"https://api.github.com/users/peterpeterparker/received_events\",\"type\":\"User\",\"site_admin\":false},\"created_at\":\"2019-12-02T17:07:21Z\",\"updated_at\":\"2019-12-02T17:07:21Z\",\"author_association\":\"COLLABORATOR\",\"body\":\"cool to hear you found something. could you add your solution to the documentation and provide a PR @pipoa ? \"}},\"public\":true,\"created_at\":\"2019-12-02T17:07:21Z\"},{\"id\":\"10991521683\",\"type\":\"CreateEvent\",\"actor\":{\"id\":6749661,\"login\":\"test987987\",\"display_login\":\"test987987\",\"gravatar_id\":\"\",\"url\":\"https://api.github.com/users/test987987\",\"avatar_url\":\"https://avatars.githubusercontent.com/u/6749661?\"},\"repo\":{\"id\":40834904,\"name\":\"test987987/test12\",\"url\":\"https://api.github.com/repos/test987987/test12\"},\"payload\":{\"ref\":\"3f817221-8be6-4f6e-b90c-3f76f79c9569\",\"ref_type\":\"branch\",\"master_branch\":\"master\",\"description\":null,\"pusher_type\":\"user\"},\"public\":true,\"created_at\":\"2019-12-02T17:07:21Z\"},{\"id\":\"10991521680\",\"type\":\"PushEvent\",\"actor\":{\"id\":2422745,\"login\":\"cecemel\",\"display_login\":\"cecemel\",\"gravatar_id\":\"\",\"url\":\"https://api.github.com/users/cecemel\",\"avatar_url\":\"https://avatars.githubusercontent.com/u/2422745?\"},\"repo\":{\"id\":162878149,\"name\":\"lblod/frontend-toezicht-abb\",\"url\":\"https://api.github.com/repos/lblod/frontend-toezicht-abb\"},\"payload\":{\"push_id\":4344829004,\"size\":1,\"distinct_size\":1,\"ref\":\"refs/heads/development\",\"head\":\"e6fedef19017786af8d2db996974e9c797a90d19\",\"before\":\"939d2417e0d873fa8ad5aca10c0f8de1ada7424e\",\"commits\":[{\"sha\":\"e6fedef19017786af8d2db996974e9c797a90d19\",\"author\":{\"email\":\"ruiz.felixruiz@gmail.com\",\"name\":\"Felix Ruiz de Arcaute\"},\"message\":\"added simplifiedTaxRate\",\"distinct\":true,\"url\":\"https://api.github.com/repos/lblod/frontend-toezicht-abb/commits/e6fedef19017786af8d2db996974e9c797a90d19\"}]},\"public\":true,\"created_at\":\"2019-12-02T17:07:21Z\",\"org\":{\"id\":17881187,\"login\":\"lblod\",\"gravatar_id\":\"\",\"url\":\"https://api.github.com/orgs/lblod\",\"avatar_url\":\"https://avatars.githubusercontent.com/u/17881187?\"}},{\"id\":\"10991521670\",\"type\":\"PushEvent\",\"actor\":{\"id\":45680494,\"login\":\"15600995244\",\"display_login\":\"15600995244\",\"gravatar_id\":\"\",\"url\":\"https://api.github.com/users/15600995244\",\"avatar_url\":\"https://avatars.githubusercontent.com/u/45680494?\"},\"repo\":{\"id\":157518180,\"name\":\"jdcloudcom/MKTContent\",\"url\":\"https://api.github.com/repos/jdcloudcom/MKTContent\"},\"payload\":{\"push_id\":4344828990,\"size\":1,\"distinct_size\":1,\"ref\":\"refs/heads/cn-sync\",\"head\":\"0b1ae1b3cbea92ffbfee111f777ffbed83c5b03c\",\"before\":\"aaccc42b2ff8a86a467505f6614cc305ae8e6967\",\"commits\":[{\"sha\":\"0b1ae1b3cbea92ffbfee111f777ffbed83c5b03c\",\"author\":{\"email\":\"45680494+15600995244@users.noreply.github.com\",\"name\":\"15600995244\"},\"message\":\"\",\"distinct\":true,\"url\":\"https://api.github.com/repos/jdcloudcom/MKTContent/commits/0b1ae1b3cbea92ffbfee111f777ffbed83c5b03c\"}]},\"public\":true,\"created_at\":\"2019-12-02T17:07:21Z\",\"org\":{\"id\":40586795,\"login\":\"jdcloudcom\",\"gravatar_id\":\"\",\"url\":\"https://api.github.com/orgs/jdcloudcom\",\"avatar_url\":\"https://avatars.githubusercontent.com/u/40586795?\"}},{\"id\":\"10991521661\",\"type\":\"PushEvent\",\"actor\":{\"id\":54335126,\"login\":\"rkbetcher\",\"display_login\":\"rkbetcher\",\"gravatar_id\":\"\",\"url\":\"https://api.github.com/users/rkbetcher\",\"avatar_url\":\"https://avatars.githubusercontent.com/u/54335126?\"},\"repo\":{\"id\":209830157,\"name\":\"rkbetcher/2020DigitalMediaPortfolio\",\"url\":\"https://api.github.com/repos/rkbetcher/2020DigitalMediaPortfolio\"},\"payload\":{\"push_id\":4344828986,\"size\":1,\"distinct_size\":1,\"ref\":\"refs/heads/master\",\"head\":\"80d27e42d86dc066c67a1cc31ae540800efccde9\",\"before\":\"f2505b1d26298f232c49e62f31b03f1c35b6f521\",\"commits\":[{\"sha\":\"80d27e42d86dc066c67a1cc31ae540800efccde9\",\"author\":{\"email\":\"54335126+rkbetcher@users.noreply.github.com\",\"name\":\"rkbetcher\"},\"message\":\"Add files via upload\",\"distinct\":true,\"url\":\"https://api.github.com/repos/rkbetcher/2020DigitalMediaPortfolio/commits/80d27e42d86dc066c67a1cc31ae540800efccde9\"}]},\"public\":true,\"created_at\":\"2019-12-02T17:07:21Z\"},{\"id\":\"10991521660\",\"type\":\"IssueCommentEvent\",\"actor\":{\"id\":3494509,\"login\":\"codeithuman\",\"display_login\":\"codeithuman\",\"gravatar_id\":\"\",\"url\":\"https://api.github.com/users/codeithuman\",\"avatar_url\":\"https://avatars.githubusercontent.com/u/3494509?\"},\"repo\":{\"id\":2203645,\"name\":\"CocoaPods/CocoaPods\",\"url\":\"https://api.github.com/repos/CocoaPods/CocoaPods\"},\"payload\":{\"action\":\"created\",\"issue\":{\"url\":\"https://api.github.com/repos/CocoaPods/CocoaPods/issues/9214\",\"repository_url\":\"https://api.github.com/repos/CocoaPods/CocoaPods\",\"labels_url\":\"https://api.github.com/repos/CocoaPods/CocoaPods/issues/9214/labels{/name}\",\"comments_url\":\"https://api.github.com/repos/CocoaPods/CocoaPods/issues/9214/comments\",\"events_url\":\"https://api.github.com/repos/CocoaPods/CocoaPods/issues/9214/events\",\"html_url\":\"https://github.com/CocoaPods/CocoaPods/issues/9214\",\"id\":501461865,\"node_id\":\"MDU6SXNzdWU1MDE0NjE4NjU=\",\"number\":9214,\"title\":\"No such file or directory @ rb_sysopen -- AppCenter -- ReactNative\",\"user\":{\"login\":\"connorpmullins\",\"id\":24562987,\"node_id\":\"MDQ6VXNlcjI0NTYyOTg3\",\"avatar_url\":\"https://avatars0.githubusercontent.com/u/24562987?v=4\",\"gravatar_id\":\"\",\"url\":\"https://api.github.com/users/connorpmullins\",\"html_url\":\"https://github.com/connorpmullins\",\"followers_url\":\"https://api.github.com/users/connorpmullins/followers\",\"following_url\":\"https://api.github.com/users/connorpmullins/following{/other_user}\",\"gists_url\":\"https://api.github.com/users/connorpmullins/gists{/gist_id}\",\"starred_url\":\"https://api.github.com/users/connorpmullins/starred{/owner}{/repo}\",\"subscriptions_url\":\"https://api.github.com/users/connorpmullins/subscriptions\",\"organizations_url\":\"https://api.github.com/users/connorpmullins/orgs\",\"repos_url\":\"https://api.github.com/users/connorpmullins/repos\",\"events_url\":\"https://api.github.com/users/connorpmullins/events{/privacy}\",\"received_events_url\":\"https://api.github.com/users/connorpmullins/received_events\",\"type\":\"User\",\"site_admin\":false},\"labels\":[{\"id\":60951604,\"node_id\":\"MDU6TGFiZWw2MDk1MTYwNA==\",\"url\":\"https://api.github.com/repos/CocoaPods/CocoaPods/labels/s1:awaiting%20input\",\"name\":\"s1:awaiting input\",\"color\":\"EDCE24\",\"default\":false,\"description\":\"Waiting for input from the original author\"},{\"id\":897051021,\"node_id\":\"MDU6TGFiZWw4OTcwNTEwMjE=\",\"url\":\"https://api.github.com/repos/CocoaPods/CocoaPods/labels/s6:need%20sample\",\"name\":\"s6:need sample\",\"color\":\"bfd4f2\",\"default\":false,\"description\":\"Needs a sample project that reproduces the issue\"}],\"state\":\"closed\",\"locked\":false,\"assignee\":null,\"assignees\":[],\"milestone\":null,\"comments\":21,\"created_at\":\"2019-10-02T12:35:57Z\",\"updated_at\":\"2019-12-02T17:07:20Z\",\"closed_at\":\"2019-10-16T17:06:49Z\",\"author_association\":\"NONE\",\"body\":\"🌈\\\\r\\\\n* [X] I\\'ve read and understood the [*CONTRIBUTING* guidelines and have done my best effort to follow](https://github.com/CocoaPods/CocoaPods/blob/master/CONTRIBUTING.md).\\\\r\\\\n\\\\r\\\\n# Report\\\\r\\\\n### Command\\\\r\\\\n```\\\\r\\\\n/usr/local/bin/pod install\\\\r\\\\n```\\\\r\\\\n\\\\r\\\\n### Report\\\\r\\\\n\\\\r\\\\n* What did you do?\\\\r\\\\nI ran `pod install` after I upgraded from react native 0.59.10 to v 0.61.1.\\\\r\\\\n\\\\r\\\\n* What did you expect to happen?\\\\r\\\\nI expected CocoaPods to successfully install the appcenter pod. \\\\r\\\\n\\\\r\\\\n* What happened instead?\\\\r\\\\nappcenter was not installed and no pod lockfile was generated. \\\\r\\\\n\\\\r\\\\n### Stack\\\\r\\\\n\\\\r\\\\n```\\\\r\\\\n   CocoaPods : 1.8.1\\\\r\\\\n        Ruby : ruby 2.3.7p456 (2018-03-28 revision 63024) [universal.x86_64-darwin18]\\\\r\\\\n    RubyGems : 2.5.2.3\\\\r\\\\n        Host : Mac OS X 10.14.5 (18F132)\\\\r\\\\n       Xcode : 10.3 (10G8)\\\\r\\\\n         Git : git version 2.20.1 (Apple Git-117)\\\\r\\\\nRuby lib dir : /System/Library/Frameworks/Ruby.framework/Versions/2.3/usr/lib\\\\r\\\\nRepositories : master - git - https://github.com/CocoaPods/Specs.git @ d5888bc829f0f05059cc675d47dcef97f52b9ef9\\\\r\\\\n               trunk - CDN - https://cdn.cocoapods.org/\\\\r\\\\n```\\\\r\\\\n\\\\r\\\\n### Plugins\\\\r\\\\n\\\\r\\\\n```\\\\r\\\\ncocoapods-deintegrate : 1.0.4\\\\r\\\\ncocoapods-plugins     : 1.0.0\\\\r\\\\ncocoapods-search      : 1.0.0\\\\r\\\\ncocoapods-stats       : 1.1.0\\\\r\\\\ncocoapods-trunk       : 1.4.0\\\\r\\\\ncocoapods-try         : 1.1.0\\\\r\\\\n```\\\\r\\\\n\\\\r\\\\n### Podfile\\\\r\\\\n\\\\r\\\\n```ruby\\\\r\\\\nplatform :ios, \\'10.0\\'\\\\r\\\\n\\\\r\\\\nrequire_relative \\'../node_modules/react-native-unimodules/cocoapods\\'\\\\r\\\\nrequire_relative \\'../node_modules/@react-native-community/cli-platform-ios/native_modules\\'\\\\r\\\\n\\\\r\\\\ntarget \\'Sonder\\' do\\\\r\\\\n  # Pods for Sonder\\\\r\\\\n  pod \\'appcenter\\', path: \\'../node_modules/appcenter/ios/appcenter.podspec\\'\\\\r\\\\n  pod \\'appcenter-analytics\\', path: \\'../node_modules/appcenter-analytics/ios\\'\\\\r\\\\n  pod \\'appcenter-crashes\\', path: \\'../node_modules/appcenter-crashes/ios\\'\\\\r\\\\n  pod \\'appcenter-push\\', path: \\'../node_modules/appcenter-push/ios\\'\\\\r\\\\n  pod \\'FBLazyVector\\', :path => \\\\\"../node_modules/react-native/Libraries/FBLazyVector\\\\\"\\\\r\\\\n  pod \\'FBReactNativeSpec\\', :path => \\\\\"../node_modules/react-native/Libraries/FBReactNativeSpec\\\\\"\\\\r\\\\n  pod \\'RCTRequired\\', :path => \\\\\"../node_modules/react-native/Libraries/RCTRequired\\\\\"\\\\r\\\\n  pod \\'RCTTypeSafety\\', :path => \\\\\"../node_modules/react-native/Libraries/TypeSafety\\\\\"\\\\r\\\\n  pod \\'React\\', :path => \\'../node_modules/react-native/\\'\\\\r\\\\n  pod \\'React-Core\\', :path => \\'../node_modules/react-native/\\'\\\\r\\\\n  pod \\'React-CoreModules\\', :path => \\'../node_modules/react-native/React/CoreModules\\'\\\\r\\\\n  pod \\'React-Core/DevSupport\\', :path => \\'../node_modules/react-native/\\'\\\\r\\\\n  pod \\'React-RCTActionSheet\\', :path => \\'../node_modules/react-native/Libraries/ActionSheetIOS\\'\\\\r\\\\n  pod \\'React-RCTAnimation\\', :path => \\'../node_modules/react-native/Libraries/NativeAnimation\\'\\\\r\\\\n  pod \\'React-RCTBlob\\', :path => \\'../node_modules/react-native/Libraries/Blob\\'\\\\r\\\\n  pod \\'React-RCTImage\\', :path => \\'../node_modules/react-native/Libraries/Image\\'\\\\r\\\\n  pod \\'React-RCTLinking\\', :path => \\'../node_modules/react-native/Libraries/LinkingIOS\\'\\\\r\\\\n  pod \\'React-RCTNetwork\\', :path => \\'../node_modules/react-native/Libraries/Network\\'\\\\r\\\\n  pod \\'React-RCTSettings\\', :path => \\'../node_modules/react-native/Libraries/Settings\\'\\\\r\\\\n  pod \\'React-RCTText\\', :path => \\'../node_modules/react-native/Libraries/Text\\'\\\\r\\\\n  pod \\'React-RCTVibration\\', :path => \\'../node_modules/react-native/Libraries/Vibration\\'\\\\r\\\\n  pod \\'React-Core/RCTWebSocket\\', :path => \\'../node_modules/react-native/\\'\\\\r\\\\n  pod \\'React-cxxreact\\', :path => \\'../node_modules/react-native/ReactCommon/cxxreact\\'\\\\r\\\\n  pod \\'React-jsi\\', :path => \\'../node_modules/react-native/ReactCommon/jsi\\'\\\\r\\\\n  pod \\'React-jsiexecutor\\', :path => \\'../node_modules/react-native/ReactCommon/jsiexecutor\\'\\\\r\\\\n  pod \\'React-jsinspector\\', :path => \\'../node_modules/react-native/ReactCommon/jsinspector\\'\\\\r\\\\n  pod \\'ReactCommon/jscallinvoker\\', :path => \\\\\"../node_modules/react-native/ReactCommon\\\\\"\\\\r\\\\n  pod \\'ReactCommon/turbomodule/core\\', :path => \\\\\"../node_modules/react-native/ReactCommon\\\\\"\\\\r\\\\n  pod \\'Yoga\\', :path => \\'../node_modules/react-native/ReactCommon/yoga\\'\\\\r\\\\n  pod \\'DoubleConversion\\', :podspec => \\'../node_modules/react-native/third-party-podspecs/DoubleConversion.podspec\\'\\\\r\\\\n  pod \\'glog\\', :podspec => \\'../node_modules/react-native/third-party-podspecs/glog.podspec\\'\\\\r\\\\n  pod \\'Folly\\', :podspec => \\'../node_modules/react-native/third-party-podspecs/Folly.podspec\\'\\\\r\\\\n\\\\r\\\\n  use_unimodules!\\\\r\\\\n\\\\r\\\\nend\\\\r\\\\n```\\\\r\\\\n\\\\r\\\\n### Error\\\\r\\\\n\\\\r\\\\n```\\\\r\\\\nErrno::ENOENT - No such file or directory @ rb_sysopen - /Users/connormullins/Sonder/ios/Pods/Local Podspecs/appcenter.podspec.json\\\\r\\\\n/Library/Ruby/Gems/2.3.0/gems/cocoapods-core-1.8.1/lib/cocoapods-core/specification.rb:646:in `read\\'\\\\r\\\\n/Library/Ruby/Gems/2.3.0/gems/cocoapods-core-1.8.1/lib/cocoapods-core/specification.rb:646:in `checksum\\'\\\\r\\\\n/Library/Ruby/Gems/2.3.0/gems/cocoapods-core-1.8.1/lib/cocoapods-core/lockfile.rb:533:in `block in generate_checksums\\'\\\\r\\\\n/Library/Ruby/Gems/2.3.0/gems/cocoapods-core-1.8.1/lib/cocoapods-core/lockfile.rb:532:in `each\\'\\\\r\\\\n/Library/Ruby/Gems/2.3.0/gems/cocoapods-core-1.8.1/lib/cocoapods-core/lockfile.rb:532:in `generate_checksums\\'\\\\r\\\\n/Library/Ruby/Gems/2.3.0/gems/cocoapods-core-1.8.1/lib/cocoapods-core/lockfile.rb:428:in `generate\\'\\\\r\\\\n/Library/Ruby/Gems/2.3.0/gems/cocoapods-1.8.1/lib/cocoapods/installer.rb:744:in `generate_lockfile\\'\\\\r\\\\n/Library/Ruby/Gems/2.3.0/gems/cocoapods-1.8.1/lib/cocoapods/installer.rb:752:in `write_lockfiles\\'\\\\r\\\\n/Library/Ruby/Gems/2.3.0/gems/cocoapods-1.8.1/lib/cocoapods/installer.rb:299:in `generate_pods_project\\'\\\\r\\\\n/Library/Ruby/Gems/2.3.0/gems/cocoapods-1.8.1/lib/cocoapods/installer.rb:173:in `integrate\\'\\\\r\\\\n/Library/Ruby/Gems/2.3.0/gems/cocoapods-1.8.1/lib/cocoapods/installer.rb:162:in `install!\\'\\\\r\\\\n/Library/Ruby/Gems/2.3.0/gems/cocoapods-1.8.1/lib/cocoapods/command/install.rb:52:in `run\\'\\\\r\\\\n/Library/Ruby/Gems/2.3.0/gems/claide-1.0.3/lib/claide/command.rb:334:in `run\\'\\\\r\\\\n/Library/Ruby/Gems/2.3.0/gems/cocoapods-1.8.1/lib/cocoapods/command.rb:52:in `run\\'\\\\r\\\\n/Library/Ruby/Gems/2.3.0/gems/cocoapods-1.8.1/bin/pod:55:in `<top (required)>\\'\\\\r\\\\n/usr/local/bin/pod:22:in `load\\'\\\\r\\\\n/usr/local/bin/pod:22:in `<main>\\'\\\\r\\\\n```\\\\r\\\\n\\\\r\\\\nEXTRA NOTES: \\\\r\\\\nAppCenter was not autolinked when I installed it with npm after upgrading to the most recent version of react native. I manually added the import lines to my Podfile. I am positive though that the appcenter.podspec file is present in the path being looked at.  No combination of cache clearing, Pod folder deleting, npm installing, or repo-updating has helped me. These are the only suggestions I have found on solving the error `No such file or directory @ rb_sysopen`\\\\r\\\\n\\\\r\\\\nThanks in advance!\"},\"comment\":{\"url\":\"https://api.github.com/repos/CocoaPods/CocoaPods/issues/comments/560487855\",\"html_url\":\"https://github.com/CocoaPods/CocoaPods/issues/9214#issuecomment-560487855\",\"issue_url\":\"https://api.github.com/repos/CocoaPods/CocoaPods/issues/9214\",\"id\":560487855,\"node_id\":\"MDEyOklzc3VlQ29tbWVudDU2MDQ4Nzg1NQ==\",\"user\":{\"login\":\"codeithuman\",\"id\":3494509,\"node_id\":\"MDQ6VXNlcjM0OTQ1MDk=\",\"avatar_url\":\"https://avatars3.githubusercontent.com/u/3494509?v=4\",\"gravatar_id\":\"\",\"url\":\"https://api.github.com/users/codeithuman\",\"html_url\":\"https://github.com/codeithuman\",\"followers_url\":\"https://api.github.com/users/codeithuman/followers\",\"following_url\":\"https://api.github.com/users/codeithuman/following{/other_user}\",\"gists_url\":\"https://api.github.com/users/codeithuman/gists{/gist_id}\",\"starred_url\":\"https://api.github.com/users/codeithuman/starred{/owner}{/repo}\",\"subscriptions_url\":\"https://api.github.com/users/codeithuman/subscriptions\",\"organizations_url\":\"https://api.github.com/users/codeithuman/orgs\",\"repos_url\":\"https://api.github.com/users/codeithuman/repos\",\"events_url\":\"https://api.github.com/users/codeithuman/events{/privacy}\",\"received_events_url\":\"https://api.github.com/users/codeithuman/received_events\",\"type\":\"User\",\"site_admin\":false},\"created_at\":\"2019-12-02T17:07:20Z\",\"updated_at\":\"2019-12-02T17:07:20Z\",\"author_association\":\"NONE\",\"body\":\"We are having the same issue with the following versions:\\\\r\\\\n\\\\r\\\\n- Cocoapods 1.8.4\\\\r\\\\n- Yarn 1.16.0\\\\r\\\\n- React Native 0.60.6\\\\r\\\\n- App Center packages 2.4.0\\\\r\\\\n\\\\r\\\\nUpgrading our App Center packages to 2.6.0 did not resolve the issue, but the [instructions above](https://github.com/CocoaPods/CocoaPods/issues/9214#issuecomment-548392866) from @sm1th did work. \\\\r\\\\n\\\\r\\\\nWe do not want the extra yarn remove/add steps in our workflow so we\\'re just going to downgrade cocoapods to 1.7.x till we upgrade React Native and/or the issue is resolved another way. \"}},\"public\":true,\"created_at\":\"2019-12-02T17:07:21Z\",\"org\":{\"id\":1189714,\"login\":\"CocoaPods\",\"gravatar_id\":\"\",\"url\":\"https://api.github.com/orgs/CocoaPods\",\"avatar_url\":\"https://avatars.githubusercontent.com/u/1189714?\"}},{\"id\":\"10991521667\",\"type\":\"CreateEvent\",\"actor\":{\"id\":25086506,\"login\":\"jbraunschweiger\",\"display_login\":\"jbraunschweiger\",\"gravatar_id\":\"\",\"url\":\"https://api.github.com/users/jbraunschweiger\",\"avatar_url\":\"https://avatars.githubusercontent.com/u/25086506?\"},\"repo\":{\"id\":222589226,\"name\":\"carejeanies/Snacc\",\"url\":\"https://api.github.com/repos/carejeanies/Snacc\"},\"payload\":{\"ref\":\"final\",\"ref_type\":\"branch\",\"master_branch\":\"master\",\"description\":\"WUSTL 438 final project - SNACC the cooking app you need. \",\"pusher_type\":\"user\"},\"public\":true,\"created_at\":\"2019-12-02T17:07:21Z\"},{\"id\":\"10991521656\",\"type\":\"IssueCommentEvent\",\"actor\":{\"id\":14909267,\"login\":\"lidiasm\",\"display_login\":\"lidiasm\",\"gravatar_id\":\"\",\"url\":\"https://api.github.com/users/lidiasm\",\"avatar_url\":\"https://avatars.githubusercontent.com/u/14909267?\"},\"repo\":{\"id\":213888199,\"name\":\"lidiasm/ProyectoCC\",\"url\":\"https://api.github.com/repos/lidiasm/ProyectoCC\"},\"payload\":{\"action\":\"created\",\"issue\":{\"url\":\"https://api.github.com/repos/lidiasm/ProyectoCC/issues/52\",\"repository_url\":\"https://api.github.com/repos/lidiasm/ProyectoCC\",\"labels_url\":\"https://api.github.com/repos/lidiasm/ProyectoCC/issues/52/labels{/name}\",\"comments_url\":\"https://api.github.com/repos/lidiasm/ProyectoCC/issues/52/comments\",\"events_url\":\"https://api.github.com/repos/lidiasm/ProyectoCC/issues/52/events\",\"html_url\":\"https://github.com/lidiasm/ProyectoCC/issues/52\",\"id\":529601974,\"node_id\":\"MDU6SXNzdWU1Mjk2MDE5NzQ=\",\"number\":52,\"title\":\"Despliegue del contenedor en la nube.\",\"user\":{\"login\":\"lidiasm\",\"id\":14909267,\"node_id\":\"MDQ6VXNlcjE0OTA5MjY3\",\"avatar_url\":\"https://avatars0.githubusercontent.com/u/14909267?v=4\",\"gravatar_id\":\"\",\"url\":\"https://api.github.com/users/lidiasm\",\"html_url\":\"https://github.com/lidiasm\",\"followers_url\":\"https://api.github.com/users/lidiasm/followers\",\"following_url\":\"https://api.github.com/users/lidiasm/following{/other_user}\",\"gists_url\":\"https://api.github.com/users/lidiasm/gists{/gist_id}\",\"starred_url\":\"https://api.github.com/users/lidiasm/starred{/owner}{/repo}\",\"subscriptions_url\":\"https://api.github.com/users/lidiasm/subscriptions\",\"organizations_url\":\"https://api.github.com/users/lidiasm/orgs\",\"repos_url\":\"https://api.github.com/users/lidiasm/repos\",\"events_url\":\"https://api.github.com/users/lidiasm/events{/privacy}\",\"received_events_url\":\"https://api.github.com/users/lidiasm/received_events\",\"type\":\"User\",\"site_admin\":false},\"labels\":[],\"state\":\"open\",\"locked\":false,\"assignee\":null,\"assignees\":[],\"milestone\":{\"url\":\"https://api.github.com/repos/lidiasm/ProyectoCC/milestones/2\",\"html_url\":\"https://github.com/lidiasm/ProyectoCC/milestone/2\",\"labels_url\":\"https://api.github.com/repos/lidiasm/ProyectoCC/milestones/2/labels\",\"id\":4739796,\"node_id\":\"MDk6TWlsZXN0b25lNDczOTc5Ng==\",\"number\":2,\"title\":\"Contenedores para microservicios y despliegue.\",\"description\":\"En este hito se diseñarán los microframeworks necesarios para proporcionarle a las clases las peticiones que vayan llegando con el fin de devolver la correspondiente respuesta. \\\\r\\\\nExiste un caso particular en el que para obtener los datos se utilizará el servidor de tareas Celery.\\\\r\\\\n\\\\r\\\\nPor último se empaquetarán cada microservicio y sus clases asociadas en un contenedor para su posterior despliegue en la nube. \",\"creator\":{\"login\":\"lidiasm\",\"id\":14909267,\"node_id\":\"MDQ6VXNlcjE0OTA5MjY3\",\"avatar_url\":\"https://avatars0.githubusercontent.com/u/14909267?v=4\",\"gravatar_id\":\"\",\"url\":\"https://api.github.com/users/lidiasm\",\"html_url\":\"https://github.com/lidiasm\",\"followers_url\":\"https://api.github.com/users/lidiasm/followers\",\"following_url\":\"https://api.github.com/users/lidiasm/following{/other_user}\",\"gists_url\":\"https://api.github.com/users/lidiasm/gists{/gist_id}\",\"starred_url\":\"https://api.github.com/users/lidiasm/starred{/owner}{/repo}\",\"subscriptions_url\":\"https://api.github.com/users/lidiasm/subscriptions\",\"organizations_url\":\"https://api.github.com/users/lidiasm/orgs\",\"repos_url\":\"https://api.github.com/users/lidiasm/repos\",\"events_url\":\"https://api.github.com/users/lidiasm/events{/privacy}\",\"received_events_url\":\"https://api.github.com/users/lidiasm/received_events\",\"type\":\"User\",\"site_admin\":false},\"open_issues\":1,\"closed_issues\":11,\"state\":\"open\",\"created_at\":\"2019-10-10T12:20:37Z\",\"updated_at\":\"2019-12-02T17:06:47Z\",\"due_on\":null,\"closed_at\":null},\"comments\":1,\"created_at\":\"2019-11-27T22:36:20Z\",\"updated_at\":\"2019-12-02T17:07:21Z\",\"closed_at\":null,\"author_association\":\"OWNER\",\"body\":\"\"},\"comment\":{\"url\":\"https://api.github.com/repos/lidiasm/ProyectoCC/issues/comments/560487858\",\"html_url\":\"https://github.com/lidiasm/ProyectoCC/issues/52#issuecomment-560487858\",\"issue_url\":\"https://api.github.com/repos/lidiasm/ProyectoCC/issues/52\",\"id\":560487858,\"node_id\":\"MDEyOklzc3VlQ29tbWVudDU2MDQ4Nzg1OA==\",\"user\":{\"login\":\"lidiasm\",\"id\":14909267,\"node_id\":\"MDQ6VXNlcjE0OTA5MjY3\",\"avatar_url\":\"https://avatars0.githubusercontent.com/u/14909267?v=4\",\"gravatar_id\":\"\",\"url\":\"https://api.github.com/users/lidiasm\",\"html_url\":\"https://github.com/lidiasm\",\"followers_url\":\"https://api.github.com/users/lidiasm/followers\",\"following_url\":\"https://api.github.com/users/lidiasm/following{/other_user}\",\"gists_url\":\"https://api.github.com/users/lidiasm/gists{/gist_id}\",\"starred_url\":\"https://api.github.com/users/lidiasm/starred{/owner}{/repo}\",\"subscriptions_url\":\"https://api.github.com/users/lidiasm/subscriptions\",\"organizations_url\":\"https://api.github.com/users/lidiasm/orgs\",\"repos_url\":\"https://api.github.com/users/lidiasm/repos\",\"events_url\":\"https://api.github.com/users/lidiasm/events{/privacy}\",\"received_events_url\":\"https://api.github.com/users/lidiasm/received_events\",\"type\":\"User\",\"site_admin\":false},\"created_at\":\"2019-12-02T17:07:21Z\",\"updated_at\":\"2019-12-02T17:07:21Z\",\"author_association\":\"OWNER\",\"body\":\"Para ello se utilizará Heroku conectado al repositorio de GitHub del proyecto.\"}},\"public\":true,\"created_at\":\"2019-12-02T17:07:21Z\"},{\"id\":\"10991521652\",\"type\":\"PushEvent\",\"actor\":{\"id\":3150,\"login\":\"shlomif\",\"display_login\":\"shlomif\",\"gravatar_id\":\"\",\"url\":\"https://api.github.com/users/shlomif\",\"avatar_url\":\"https://avatars.githubusercontent.com/u/3150?\"},\"repo\":{\"id\":9723343,\"name\":\"shlomif/Fiction-XML\",\"url\":\"https://api.github.com/repos/shlomif/Fiction-XML\"},\"payload\":{\"push_id\":4344828975,\"size\":1,\"distinct_size\":1,\"ref\":\"refs/heads/master\",\"head\":\"6ad81ed818f803c989b85e20e2a1b26c63e8c4d9\",\"before\":\"d4a38dcf7be7f79b1d0116835a23748464a7c7fb\",\"commits\":[{\"sha\":\"6ad81ed818f803c989b85e20e2a1b26c63e8c4d9\",\"author\":{\"email\":\"shlomif@shlomifish.org\",\"name\":\"Shlomi Fish\"},\"message\":\"explicit imports and avoid cruft.\",\"distinct\":true,\"url\":\"https://api.github.com/repos/shlomif/Fiction-XML/commits/6ad81ed818f803c989b85e20e2a1b26c63e8c4d9\"}]},\"public\":true,\"created_at\":\"2019-12-02T17:07:21Z\"},{\"id\":\"10991521634\",\"type\":\"WatchEvent\",\"actor\":{\"id\":6471372,\"login\":\"Jacobh2\",\"display_login\":\"Jacobh2\",\"gravatar_id\":\"\",\"url\":\"https://api.github.com/users/Jacobh2\",\"avatar_url\":\"https://avatars.githubusercontent.com/u/6471372?\"},\"repo\":{\"id\":225174708,\"name\":\"plankt/advent-of-code-2019\",\"url\":\"https://api.github.com/repos/plankt/advent-of-code-2019\"},\"payload\":{\"action\":\"started\"},\"public\":true,\"created_at\":\"2019-12-02T17:07:21Z\"},{\"id\":\"10991521614\",\"type\":\"PushEvent\",\"actor\":{\"id\":37777543,\"login\":\"FreddieWarren\",\"display_login\":\"FreddieWarren\",\"gravatar_id\":\"\",\"url\":\"https://api.github.com/users/FreddieWarren\",\"avatar_url\":\"https://avatars.githubusercontent.com/u/37777543?\"},\"repo\":{\"id\":223345421,\"name\":\"YelloJW/rails-podfast\",\"url\":\"https://api.github.com/repos/YelloJW/rails-podfast\"},\"payload\":{\"push_id\":4344828962,\"size\":2,\"distinct_size\":1,\"ref\":\"refs/heads/master\",\"head\":\"e8c1d6590389815018a67ffeae261aff76546e63\",\"before\":\"3b00d2b27d1d3293db5462c351ecd82878956f94\",\"commits\":[{\"sha\":\"1b55cfb3c71400c79ea2863b024db547ee671443\",\"author\":{\"email\":\"douglasjmnoble@googlemail.com\",\"name\":\"Doug Noble\"},\"message\":\"formatting of code\",\"distinct\":false,\"url\":\"https://api.github.com/repos/YelloJW/rails-podfast/commits/1b55cfb3c71400c79ea2863b024db547ee671443\"},{\"sha\":\"e8c1d6590389815018a67ffeae261aff76546e63\",\"author\":{\"email\":\"37777543+FreddieWarren@users.noreply.github.com\",\"name\":\"Freddie Warren\"},\"message\":\"Merge pull request #127 from YelloJW/formatting_followable_avatar\\\\n\\\\nformatting of code\",\"distinct\":true,\"url\":\"https://api.github.com/repos/YelloJW/rails-podfast/commits/e8c1d6590389815018a67ffeae261aff76546e63\"}]},\"public\":true,\"created_at\":\"2019-12-02T17:07:20Z\"},{\"id\":\"10991521624\",\"type\":\"ForkEvent\",\"actor\":{\"id\":4339937,\"login\":\"kmil0\",\"display_login\":\"kmil0\",\"gravatar_id\":\"\",\"url\":\"https://api.github.com/users/kmil0\",\"avatar_url\":\"https://avatars.githubusercontent.com/u/4339937?\"},\"repo\":{\"id\":206854866,\"name\":\"pauldipietro/CarouselViewChallenge\",\"url\":\"https://api.github.com/repos/pauldipietro/CarouselViewChallenge\"},\"payload\":{\"forkee\":{\"id\":225427460,\"node_id\":\"MDEwOlJlcG9zaXRvcnkyMjU0Mjc0NjA=\",\"name\":\"CarouselViewChallenge\",\"full_name\":\"kmil0/CarouselViewChallenge\",\"private\":false,\"owner\":{\"login\":\"kmil0\",\"id\":4339937,\"node_id\":\"MDQ6VXNlcjQzMzk5Mzc=\",\"avatar_url\":\"https://avatars1.githubusercontent.com/u/4339937?v=4\",\"gravatar_id\":\"\",\"url\":\"https://api.github.com/users/kmil0\",\"html_url\":\"https://github.com/kmil0\",\"followers_url\":\"https://api.github.com/users/kmil0/followers\",\"following_url\":\"https://api.github.com/users/kmil0/following{/other_user}\",\"gists_url\":\"https://api.github.com/users/kmil0/gists{/gist_id}\",\"starred_url\":\"https://api.github.com/users/kmil0/starred{/owner}{/repo}\",\"subscriptions_url\":\"https://api.github.com/users/kmil0/subscriptions\",\"organizations_url\":\"https://api.github.com/users/kmil0/orgs\",\"repos_url\":\"https://api.github.com/users/kmil0/repos\",\"events_url\":\"https://api.github.com/users/kmil0/events{/privacy}\",\"received_events_url\":\"https://api.github.com/users/kmil0/received_events\",\"type\":\"User\",\"site_admin\":false},\"html_url\":\"https://github.com/kmil0/CarouselViewChallenge\",\"description\":null,\"fork\":true,\"url\":\"https://api.github.com/repos/kmil0/CarouselViewChallenge\",\"forks_url\":\"https://api.github.com/repos/kmil0/CarouselViewChallenge/forks\",\"keys_url\":\"https://api.github.com/repos/kmil0/CarouselViewChallenge/keys{/key_id}\",\"collaborators_url\":\"https://api.github.com/repos/kmil0/CarouselViewChallenge/collaborators{/collaborator}\",\"teams_url\":\"https://api.github.com/repos/kmil0/CarouselViewChallenge/teams\",\"hooks_url\":\"https://api.github.com/repos/kmil0/CarouselViewChallenge/hooks\",\"issue_events_url\":\"https://api.github.com/repos/kmil0/CarouselViewChallenge/issues/events{/number}\",\"events_url\":\"https://api.github.com/repos/kmil0/CarouselViewChallenge/events\",\"assignees_url\":\"https://api.github.com/repos/kmil0/CarouselViewChallenge/assignees{/user}\",\"branches_url\":\"https://api.github.com/repos/kmil0/CarouselViewChallenge/branches{/branch}\",\"tags_url\":\"https://api.github.com/repos/kmil0/CarouselViewChallenge/tags\",\"blobs_url\":\"https://api.github.com/repos/kmil0/CarouselViewChallenge/git/blobs{/sha}\",\"git_tags_url\":\"https://api.github.com/repos/kmil0/CarouselViewChallenge/git/tags{/sha}\",\"git_refs_url\":\"https://api.github.com/repos/kmil0/CarouselViewChallenge/git/refs{/sha}\",\"trees_url\":\"https://api.github.com/repos/kmil0/CarouselViewChallenge/git/trees{/sha}\",\"statuses_url\":\"https://api.github.com/repos/kmil0/CarouselViewChallenge/statuses/{sha}\",\"languages_url\":\"https://api.github.com/repos/kmil0/CarouselViewChallenge/languages\",\"stargazers_url\":\"https://api.github.com/repos/kmil0/CarouselViewChallenge/stargazers\",\"contributors_url\":\"https://api.github.com/repos/kmil0/CarouselViewChallenge/contributors\",\"subscribers_url\":\"https://api.github.com/repos/kmil0/CarouselViewChallenge/subscribers\",\"subscription_url\":\"https://api.github.com/repos/kmil0/CarouselViewChallenge/subscription\",\"commits_url\":\"https://api.github.com/repos/kmil0/CarouselViewChallenge/commits{/sha}\",\"git_commits_url\":\"https://api.github.com/repos/kmil0/CarouselViewChallenge/git/commits{/sha}\",\"comments_url\":\"https://api.github.com/repos/kmil0/CarouselViewChallenge/comments{/number}\",\"issue_comment_url\":\"https://api.github.com/repos/kmil0/CarouselViewChallenge/issues/comments{/number}\",\"contents_url\":\"https://api.github.com/repos/kmil0/CarouselViewChallenge/contents/{+path}\",\"compare_url\":\"https://api.github.com/repos/kmil0/CarouselViewChallenge/compare/{base}...{head}\",\"merges_url\":\"https://api.github.com/repos/kmil0/CarouselViewChallenge/merges\",\"archive_url\":\"https://api.github.com/repos/kmil0/CarouselViewChallenge/{archive_format}{/ref}\",\"downloads_url\":\"https://api.github.com/repos/kmil0/CarouselViewChallenge/downloads\",\"issues_url\":\"https://api.github.com/repos/kmil0/CarouselViewChallenge/issues{/number}\",\"pulls_url\":\"https://api.github.com/repos/kmil0/CarouselViewChallenge/pulls{/number}\",\"milestones_url\":\"https://api.github.com/repos/kmil0/CarouselViewChallenge/milestones{/number}\",\"notifications_url\":\"https://api.github.com/repos/kmil0/CarouselViewChallenge/notifications{?since,all,participating}\",\"labels_url\":\"https://api.github.com/repos/kmil0/CarouselViewChallenge/labels{/name}\",\"releases_url\":\"https://api.github.com/repos/kmil0/CarouselViewChallenge/releases{/id}\",\"deployments_url\":\"https://api.github.com/repos/kmil0/CarouselViewChallenge/deployments\",\"created_at\":\"2019-12-02T17:07:20Z\",\"updated_at\":\"2019-11-06T23:20:57Z\",\"pushed_at\":\"2019-10-10T06:23:10Z\",\"git_url\":\"git://github.com/kmil0/CarouselViewChallenge.git\",\"ssh_url\":\"git@github.com:kmil0/CarouselViewChallenge.git\",\"clone_url\":\"https://github.com/kmil0/CarouselViewChallenge.git\",\"svn_url\":\"https://github.com/kmil0/CarouselViewChallenge\",\"homepage\":null,\"size\":518,\"stargazers_count\":0,\"watchers_count\":0,\"language\":null,\"has_issues\":false,\"has_projects\":true,\"has_downloads\":true,\"has_wiki\":true,\"has_pages\":false,\"forks_count\":0,\"mirror_url\":null,\"archived\":false,\"disabled\":false,\"open_issues_count\":0,\"license\":null,\"forks\":0,\"open_issues\":0,\"watchers\":0,\"default_branch\":\"master\",\"public\":true}},\"public\":true,\"created_at\":\"2019-12-02T17:07:20Z\"},{\"id\":\"10991521609\",\"type\":\"PushEvent\",\"actor\":{\"id\":24938324,\"login\":\"glekner\",\"display_login\":\"glekner\",\"gravatar_id\":\"\",\"url\":\"https://api.github.com/users/glekner\",\"avatar_url\":\"https://avatars.githubusercontent.com/u/24938324?\"},\"repo\":{\"id\":195652055,\"name\":\"glekner/console\",\"url\":\"https://api.github.com/repos/glekner/console\"},\"payload\":{\"push_id\":4344828963,\"size\":1,\"distinct_size\":1,\"ref\":\"refs/heads/non-admin-flow\",\"head\":\"38f88ec11751da505c3e6eff6c83c00dbeda554b\",\"before\":\"1749eaf9a84cfc79a5f85a50cde68b7c5ef2fcaf\",\"commits\":[{\"sha\":\"38f88ec11751da505c3e6eff6c83c00dbeda554b\",\"author\":{\"email\":\"glekner@Gilads-i9-Hackintosh.local\",\"name\":\"Gilad Lekner\"},\"message\":\"add non-admin user create-vm flow\",\"distinct\":true,\"url\":\"https://api.github.com/repos/glekner/console/commits/38f88ec11751da505c3e6eff6c83c00dbeda554b\"}]},\"public\":true,\"created_at\":\"2019-12-02T17:07:20Z\"},{\"id\":\"10991521601\",\"type\":\"PushEvent\",\"actor\":{\"id\":57976910,\"login\":\"riya007-code\",\"display_login\":\"riya007-code\",\"gravatar_id\":\"\",\"url\":\"https://api.github.com/users/riya007-code\",\"avatar_url\":\"https://avatars.githubusercontent.com/u/57976910?\"},\"repo\":{\"id\":225370117,\"name\":\"riya007-code/dss-assignment\",\"url\":\"https://api.github.com/repos/riya007-code/dss-assignment\"},\"payload\":{\"push_id\":4344828955,\"size\":1,\"distinct_size\":1,\"ref\":\"refs/heads/master\",\"head\":\"3880c5d66f351f3359b58ac414ece6c73ed9ce7e\",\"before\":\"e95d6768d5fcd8f80a60db71099dcb1766eb15df\",\"commits\":[{\"sha\":\"3880c5d66f351f3359b58ac414ece6c73ed9ce7e\",\"author\":{\"email\":\"57976910+riya007-code@users.noreply.github.com\",\"name\":\"riya007-code\"},\"message\":\"Rename Dss-Assignment1.html to DSS_assignment1.html\",\"distinct\":true,\"url\":\"https://api.github.com/repos/riya007-code/dss-assignment/commits/3880c5d66f351f3359b58ac414ece6c73ed9ce7e\"}]},\"public\":true,\"created_at\":\"2019-12-02T17:07:20Z\"},{\"id\":\"10991521605\",\"type\":\"CreateEvent\",\"actor\":{\"id\":46568484,\"login\":\"AaronLucasBone\",\"display_login\":\"AaronLucasBone\",\"gravatar_id\":\"\",\"url\":\"https://api.github.com/users/AaronLucasBone\",\"avatar_url\":\"https://avatars.githubusercontent.com/u/46568484?\"},\"repo\":{\"id\":225427458,\"name\":\"AaronLucasBone/MerkleTreeALB\",\"url\":\"https://api.github.com/repos/AaronLucasBone/MerkleTreeALB\"},\"payload\":{\"ref\":null,\"ref_type\":\"repository\",\"master_branch\":\"master\",\"description\":null,\"pusher_type\":\"user\"},\"public\":true,\"created_at\":\"2019-12-02T17:07:20Z\"},{\"id\":\"10991521585\",\"type\":\"PushEvent\",\"actor\":{\"id\":29249523,\"login\":\"Cjay-Chou\",\"display_login\":\"Cjay-Chou\",\"gravatar_id\":\"\",\"url\":\"https://api.github.com/users/Cjay-Chou\",\"avatar_url\":\"https://avatars.githubusercontent.com/u/29249523?\"},\"repo\":{\"id\":225023658,\"name\":\"Chouweizhong2/Contour_marker\",\"url\":\"https://api.github.com/repos/Chouweizhong2/Contour_marker\"},\"payload\":{\"push_id\":4344828950,\"size\":1,\"distinct_size\":1,\"ref\":\"refs/heads/master\",\"head\":\"dcf6d6edb17928a68b741723dc154c9be6cb3016\",\"before\":\"e631c45bb65f3094b86e9a1720c15aceb871b897\",\"commits\":[{\"sha\":\"dcf6d6edb17928a68b741723dc154c9be6cb3016\",\"author\":{\"email\":\"chouweizhong2@gmail.com\",\"name\":\"Cjay-Chou\"},\"message\":\"update\",\"distinct\":true,\"url\":\"https://api.github.com/repos/Chouweizhong2/Contour_marker/commits/dcf6d6edb17928a68b741723dc154c9be6cb3016\"}]},\"public\":true,\"created_at\":\"2019-12-02T17:07:20Z\",\"org\":{\"id\":58365271,\"login\":\"Chouweizhong2\",\"gravatar_id\":\"\",\"url\":\"https://api.github.com/orgs/Chouweizhong2\",\"avatar_url\":\"https://avatars.githubusercontent.com/u/58365271?\"}},{\"id\":\"10991521602\",\"type\":\"CreateEvent\",\"actor\":{\"id\":55330019,\"login\":\"ptrckbrown94\",\"display_login\":\"ptrckbrown94\",\"gravatar_id\":\"\",\"url\":\"https://api.github.com/users/ptrckbrown94\",\"avatar_url\":\"https://avatars.githubusercontent.com/u/55330019?\"},\"repo\":{\"id\":223995740,\"name\":\"SirPotatoIV/pikachu-posse\",\"url\":\"https://api.github.com/repos/SirPotatoIV/pikachu-posse\"},\"payload\":{\"ref\":\"created-search-object\",\"ref_type\":\"branch\",\"master_branch\":\"master\",\"description\":\"Purpose of repository is to store files for our first web development boot camp project.\",\"pusher_type\":\"user\"},\"public\":true,\"created_at\":\"2019-12-02T17:07:20Z\"},{\"id\":\"10991521581\",\"type\":\"PushEvent\",\"actor\":{\"id\":56198872,\"login\":\"betyadamkova\",\"display_login\":\"betyadamkova\",\"gravatar_id\":\"\",\"url\":\"https://api.github.com/users/betyadamkova\",\"avatar_url\":\"https://avatars.githubusercontent.com/u/56198872?\"},\"repo\":{\"id\":213021989,\"name\":\"betyadamkova/uloziste\",\"url\":\"https://api.github.com/repos/betyadamkova/uloziste\"},\"payload\":{\"push_id\":4344828947,\"size\":1,\"distinct_size\":1,\"ref\":\"refs/heads/master\",\"head\":\"e0b18f34309897065367f56e7d2253e2b0c55b40\",\"before\":\"dd88217192052cd0c8db6b3e32d900521c374b74\",\"commits\":[{\"sha\":\"e0b18f34309897065367f56e7d2253e2b0c55b40\",\"author\":{\"email\":\"bety.adamkova@gmail.com\",\"name\":\"Alžběta Adámková\"},\"message\":\"test cycle\",\"distinct\":true,\"url\":\"https://api.github.com/repos/betyadamkova/uloziste/commits/e0b18f34309897065367f56e7d2253e2b0c55b40\"}]},\"public\":true,\"created_at\":\"2019-12-02T17:07:20Z\"},{\"id\":\"10991521570\",\"type\":\"PushEvent\",\"actor\":{\"id\":32373099,\"login\":\"MysterieDev\",\"display_login\":\"MysterieDev\",\"gravatar_id\":\"\",\"url\":\"https://api.github.com/users/MysterieDev\",\"avatar_url\":\"https://avatars.githubusercontent.com/u/32373099?\"},\"repo\":{\"id\":222284510,\"name\":\"MysterieDev/cocktailDB-Angular\",\"url\":\"https://api.github.com/repos/MysterieDev/cocktailDB-Angular\"},\"payload\":{\"push_id\":4344828942,\"size\":2,\"distinct_size\":2,\"ref\":\"refs/heads/master\",\"head\":\"4d49372178249f80692159532523e3512899a09f\",\"before\":\"8c2dd397e03f7fb707314ee883e86bfc449fbc1f\",\"commits\":[{\"sha\":\"ee4a49eac8a8eecd6924106e186f2f5a8cdb3a3d\",\"author\":{\"email\":\"josefslezak@Josefs-MacBook-Pro.local\",\"name\":\"Josef Slezak\"},\"message\":\"search now shows empty search results instead of error\",\"distinct\":true,\"url\":\"https://api.github.com/repos/MysterieDev/cocktailDB-Angular/commits/ee4a49eac8a8eecd6924106e186f2f5a8cdb3a3d\"},{\"sha\":\"4d49372178249f80692159532523e3512899a09f\",\"author\":{\"email\":\"josefslezak@Josefs-MacBook-Pro.local\",\"name\":\"Josef Slezak\"},\"message\":\"removed instructions from search results\",\"distinct\":true,\"url\":\"https://api.github.com/repos/MysterieDev/cocktailDB-Angular/commits/4d49372178249f80692159532523e3512899a09f\"}]},\"public\":true,\"created_at\":\"2019-12-02T17:07:20Z\"},{\"id\":\"10991521554\",\"type\":\"PushEvent\",\"actor\":{\"id\":34555510,\"login\":\"RDIL\",\"display_login\":\"RDIL\",\"gravatar_id\":\"\",\"url\":\"https://api.github.com/users/RDIL\",\"avatar_url\":\"https://avatars.githubusercontent.com/u/34555510?\"},\"repo\":{\"id\":225406874,\"name\":\"ourforks/cirrus-ci-web\",\"url\":\"https://api.github.com/repos/ourforks/cirrus-ci-web\"},\"payload\":{\"push_id\":4344828931,\"size\":1,\"distinct_size\":1,\"ref\":\"refs/heads/tweaks\",\"head\":\"21af20d019b53f21662c888bcaa14aa57fb3dd92\",\"before\":\"9a288c74dfcfc9a661146ce2c33196614005f864\",\"commits\":[{\"sha\":\"21af20d019b53f21662c888bcaa14aa57fb3dd92\",\"author\":{\"email\":\"me@rdil.rocks\",\"name\":\"Reece Dunham\"},\"message\":\"tweaks\",\"distinct\":true,\"url\":\"https://api.github.com/repos/ourforks/cirrus-ci-web/commits/21af20d019b53f21662c888bcaa14aa57fb3dd92\"}]},\"public\":true,\"created_at\":\"2019-12-02T17:07:20Z\",\"org\":{\"id\":57116881,\"login\":\"ourforks\",\"gravatar_id\":\"\",\"url\":\"https://api.github.com/orgs/ourforks\",\"avatar_url\":\"https://avatars.githubusercontent.com/u/57116881?\"}},{\"id\":\"10991521545\",\"type\":\"PushEvent\",\"actor\":{\"id\":55929657,\"login\":\"muslehm\",\"display_login\":\"muslehm\",\"gravatar_id\":\"\",\"url\":\"https://api.github.com/users/muslehm\",\"avatar_url\":\"https://avatars.githubusercontent.com/u/55929657?\"},\"repo\":{\"id\":225409019,\"name\":\"muslehm/assignment2\",\"url\":\"https://api.github.com/repos/muslehm/assignment2\"},\"payload\":{\"push_id\":4344828938,\"size\":1,\"distinct_size\":1,\"ref\":\"refs/heads/master\",\"head\":\"910014533a055cf3fbe1780e39b3842830d30acc\",\"before\":\"3fbcada194bb7729b575a105146d072c3f6453d3\",\"commits\":[{\"sha\":\"910014533a055cf3fbe1780e39b3842830d30acc\",\"author\":{\"email\":\"mm223wa@student.lnu.se\",\"name\":\"Maath\"},\"message\":\"updates to deploy to heroku\",\"distinct\":true,\"url\":\"https://api.github.com/repos/muslehm/assignment2/commits/910014533a055cf3fbe1780e39b3842830d30acc\"}]},\"public\":true,\"created_at\":\"2019-12-02T17:07:20Z\"},{\"id\":\"10991521561\",\"type\":\"PushEvent\",\"actor\":{\"id\":58338818,\"login\":\"sreeparnabanerjee53\",\"display_login\":\"sreeparnabanerjee53\",\"gravatar_id\":\"\",\"url\":\"https://api.github.com/users/sreeparnabanerjee53\",\"avatar_url\":\"https://avatars.githubusercontent.com/u/58338818?\"},\"repo\":{\"id\":224883749,\"name\":\"sreeparnabanerjee53/sendSMS\",\"url\":\"https://api.github.com/repos/sreeparnabanerjee53/sendSMS\"},\"payload\":{\"push_id\":4344828937,\"size\":1,\"distinct_size\":1,\"ref\":\"refs/heads/master\",\"head\":\"e55f818b25686f9dfbc22a1407c509e161d2ae25\",\"before\":\"f54fcce6196de8ba7d12af186c80543d6550cf98\",\"commits\":[{\"sha\":\"e55f818b25686f9dfbc22a1407c509e161d2ae25\",\"author\":{\"email\":\"sreeparna.banerjee@sap.com\",\"name\":\"I502404\"},\"message\":\"test\",\"distinct\":true,\"url\":\"https://api.github.com/repos/sreeparnabanerjee53/sendSMS/commits/e55f818b25686f9dfbc22a1407c509e161d2ae25\"}]},\"public\":true,\"created_at\":\"2019-12-02T17:07:20Z\"},{\"id\":\"10991521551\",\"type\":\"PushEvent\",\"actor\":{\"id\":45512128,\"login\":\"mig1023\",\"display_login\":\"mig1023\",\"gravatar_id\":\"\",\"url\":\"https://api.github.com/users/mig1023\",\"avatar_url\":\"https://avatars.githubusercontent.com/u/45512128?\"},\"repo\":{\"id\":160043808,\"name\":\"mig1023/autoform\",\"url\":\"https://api.github.com/repos/mig1023/autoform\"},\"payload\":{\"push_id\":4344828935,\"size\":1,\"distinct_size\":1,\"ref\":\"refs/heads/master\",\"head\":\"895d52196ec2845b287e3096bed7b8b4b4eb9c62\",\"before\":\"7496cdc5d503501404c6f45b7b4cba8091515cf4\",\"commits\":[{\"sha\":\"895d52196ec2845b287e3096bed7b8b4b4eb9c62\",\"author\":{\"email\":\"mig1023@yandex.ru\",\"name\":\"mig1023\"},\"message\":\"fingerprint save\",\"distinct\":true,\"url\":\"https://api.github.com/repos/mig1023/autoform/commits/895d52196ec2845b287e3096bed7b8b4b4eb9c62\"}]},\"public\":true,\"created_at\":\"2019-12-02T17:07:20Z\"},{\"id\":\"10991521537\",\"type\":\"PushEvent\",\"actor\":{\"id\":48299200,\"login\":\"herb-kuta-lge\",\"display_login\":\"herb-kuta-lge\",\"gravatar_id\":\"\",\"url\":\"https://api.github.com/users/herb-kuta-lge\",\"avatar_url\":\"https://avatars.githubusercontent.com/u/48299200?\"},\"repo\":{\"id\":223518629,\"name\":\"herb-kuta-lge/meta-ros-webos\",\"url\":\"https://api.github.com/repos/herb-kuta-lge/meta-ros-webos\"},\"payload\":{\"push_id\":4344828922,\"size\":7,\"distinct_size\":2,\"ref\":\"refs/heads/master-draft-ms11\",\"head\":\"45984b5430b87d36512d593e9b93ae29ce01cbdc\",\"before\":\"fc1692ec6b19b2feca6c91dbfb09e3150c307348\",\"commits\":[{\"sha\":\"6df0383183fc88c7cb2c9bdc936fc50d99d5ba71\",\"author\":{\"email\":\"herb.kuta@lge.com\",\"name\":\"Herb Kuta\"},\"message\":\"DRAFT Import from meta-ros without history\",\"distinct\":false,\"url\":\"https://api.github.com/repos/herb-kuta-lge/meta-ros-webos/commits/6df0383183fc88c7cb2c9bdc936fc50d99d5ba71\"},{\"sha\":\"63b019cc2feb0bda5a41d596bb20037290cad86b\",\"author\":{\"email\":\"herb.kuta@lge.com\",\"name\":\"Herb Kuta\"},\"message\":\"DRAFT layer.conf: Update for new layer name\",\"distinct\":false,\"url\":\"https://api.github.com/repos/herb-kuta-lge/meta-ros-webos/commits/63b019cc2feb0bda5a41d596bb20037290cad86b\"},{\"sha\":\"39ac23debdc9dd33fb288d8f24fd5be4a999aecc\",\"author\":{\"email\":\"herb.kuta@lge.com\",\"name\":\"Herb Kuta\"},\"message\":\"[[master-draft]] README.md: Indicate branch\",\"distinct\":false,\"url\":\"https://api.github.com/repos/herb-kuta-lge/meta-ros-webos/commits/39ac23debdc9dd33fb288d8f24fd5be4a999aecc\"},{\"sha\":\"cf045f8606f2316bdc0b26d6846f0280d4ac4e36\",\"author\":{\"email\":\"martin.jansa@lge.com\",\"name\":\"Martin Jansa\"},\"message\":\"webos-compat.inc: make do_configure_prepend_pn-webos-initscripts compatible with webOS OSE build 91\\\\n\\\\nSigned-off-by: Martin Jansa <martin.jansa@lge.com>\",\"distinct\":false,\"url\":\"https://api.github.com/repos/herb-kuta-lge/meta-ros-webos/commits/cf045f8606f2316bdc0b26d6846f0280d4ac4e36\"},{\"sha\":\"63cac4bcc0849c2ae045181bbc12a167f2115813\",\"author\":{\"email\":\"herb.kuta@lge.com\",\"name\":\"Herb Kuta\"},\"message\":\"[[master-draft-ms9]] README.md: Update branch\",\"distinct\":false,\"url\":\"https://api.github.com/repos/herb-kuta-lge/meta-ros-webos/commits/63cac4bcc0849c2ae045181bbc12a167f2115813\"},{\"sha\":\"42208bdb86aa6e6f5d77a2a3afa147e94398751f\",\"author\":{\"email\":\"martin.jansa@lge.com\",\"name\":\"Martin Jansa\"},\"message\":\"DRAFT [warrior] Add linux-raspberrypi-4.19\\\\n\\\\nSigned-off-by: Martin Jansa <martin.jansa@lge.com>\",\"distinct\":true,\"url\":\"https://api.github.com/repos/herb-kuta-lge/meta-ros-webos/commits/42208bdb86aa6e6f5d77a2a3afa147e94398751f\"},{\"sha\":\"45984b5430b87d36512d593e9b93ae29ce01cbdc\",\"author\":{\"email\":\"herb.kuta@lge.com\",\"name\":\"Herb Kuta\"},\"message\":\"[[master-draft-ms11]] TEMP README.md: Update branch\",\"distinct\":true,\"url\":\"https://api.github.com/repos/herb-kuta-lge/meta-ros-webos/commits/45984b5430b87d36512d593e9b93ae29ce01cbdc\"}]},\"public\":true,\"created_at\":\"2019-12-02T17:07:20Z\"}]'"
      ]
     },
     "execution_count": 3,
     "metadata": {},
     "output_type": "execute_result"
    }
   ],
   "source": [
    "# So what does this look like?\n",
    "r.text"
   ]
  },
  {
   "cell_type": "markdown",
   "metadata": {},
   "source": [
    "![Oh good heavens gif, from gfycat](https://thumbs.gfycat.com/ColdAmbitiousDogwoodtwigborer-size_restricted.gif)"
   ]
  },
  {
   "cell_type": "markdown",
   "metadata": {
    "slideshow": {
     "slide_type": "slide"
    }
   },
   "source": [
    "Obviously you're never going to just scan that quickly for any data you need, we need to wrangle that response to make it usable.\n",
    "\n",
    "But first, let's look at some of the other attributes of `requests.models.Response` objects.\n",
    "\n",
    "We can check out all of the attributes [here](https://2.python-requests.org//en/v0.10.6/api/) in the documentation."
   ]
  },
  {
   "cell_type": "code",
   "execution_count": 4,
   "metadata": {},
   "outputs": [
    {
     "data": {
      "text/plain": [
       "{'Server': 'GitHub.com', 'Date': 'Mon, 02 Dec 2019 17:12:21 GMT', 'Content-Type': 'application/json; charset=utf-8', 'Transfer-Encoding': 'chunked', 'Status': '200 OK', 'X-RateLimit-Limit': '60', 'X-RateLimit-Remaining': '53', 'X-RateLimit-Reset': '1575309565', 'Cache-Control': 'public, max-age=60, s-maxage=60', 'Vary': 'Accept', 'ETag': 'W/\"c82d424e2a4b7ac42033f396089379fd\"', 'Last-Modified': 'Mon, 02 Dec 2019 17:07:21 GMT', 'X-Poll-Interval': '60', 'X-GitHub-Media-Type': 'github.v3; format=json', 'Link': '<https://api.github.com/events?page=2>; rel=\"next\", <https://api.github.com/events?page=10>; rel=\"last\"', 'Access-Control-Expose-Headers': 'ETag, Link, Location, Retry-After, X-GitHub-OTP, X-RateLimit-Limit, X-RateLimit-Remaining, X-RateLimit-Reset, X-OAuth-Scopes, X-Accepted-OAuth-Scopes, X-Poll-Interval, X-GitHub-Media-Type', 'Access-Control-Allow-Origin': '*', 'Strict-Transport-Security': 'max-age=31536000; includeSubdomains; preload', 'X-Frame-Options': 'deny', 'X-Content-Type-Options': 'nosniff', 'X-XSS-Protection': '1; mode=block', 'Referrer-Policy': 'origin-when-cross-origin, strict-origin-when-cross-origin', 'Content-Security-Policy': \"default-src 'none'\", 'Content-Encoding': 'gzip', 'X-GitHub-Request-Id': 'C56C:476F:8BA5CC:167D6FC:5DE545F5'}"
      ]
     },
     "execution_count": 4,
     "metadata": {},
     "output_type": "execute_result"
    }
   ],
   "source": [
    "# Another attribute, what does this show us?\n",
    "r.headers"
   ]
  },
  {
   "cell_type": "markdown",
   "metadata": {
    "slideshow": {
     "slide_type": "slide"
    }
   },
   "source": [
    "### Checking out the status of your request"
   ]
  },
  {
   "cell_type": "code",
   "execution_count": 5,
   "metadata": {},
   "outputs": [
    {
     "data": {
      "text/plain": [
       "200"
      ]
     },
     "execution_count": 5,
     "metadata": {},
     "output_type": "execute_result"
    }
   ],
   "source": [
    "# Another attribute\n",
    "r.status_code"
   ]
  },
  {
   "cell_type": "markdown",
   "metadata": {
    "slideshow": {
     "slide_type": "slide"
    }
   },
   "source": [
    "### [Types of status codes](https://http.cat/)\n",
    "\n",
    "1xx - Informational responses\n",
    "\n",
    "2xx - Success\n",
    "- 200 OK\n",
    "- 201 Created\n",
    "- 204 No Content\n",
    "\n",
    "3xx - Redirection\n",
    "\n",
    "- 301 Moved Permanently (permanent URL redirection)\n",
    "- 304 Not Modified (A conditional GET or HEAD request has been received and would have resulted in a 200 OK response if it were not for the fact that the condition evaluated to false.)\n",
    "\n",
    "4xx - Client errors\n",
    "\n",
    "- 400 Bad Request\n",
    "- 401 Unauthorized\n",
    "- 403 Forbidden\n",
    "- 404 Not Found\n",
    "\n",
    "5xx - Server errors\n",
    "\n",
    "- 500 Internal Server Error"
   ]
  },
  {
   "cell_type": "code",
   "execution_count": 6,
   "metadata": {
    "slideshow": {
     "slide_type": "slide"
    }
   },
   "outputs": [
    {
     "data": {
      "text/plain": [
       "404"
      ]
     },
     "execution_count": 6,
     "metadata": {},
     "output_type": "execute_result"
    }
   ],
   "source": [
    "# Get status code for a \"broken\" link\n",
    "\n",
    "r_broken = requests.get('https://api.github.com/fake-ending')\n",
    "r_broken.status_code"
   ]
  },
  {
   "cell_type": "markdown",
   "metadata": {
    "slideshow": {
     "slide_type": "slide"
    }
   },
   "source": [
    "Can also explictly ask for the returned format to be json as a method."
   ]
  },
  {
   "cell_type": "code",
   "execution_count": 7,
   "metadata": {},
   "outputs": [
    {
     "data": {
      "text/plain": [
       "[{'id': '10991521721',\n",
       "  'type': 'PushEvent',\n",
       "  'actor': {'id': 8164534,\n",
       "   'login': 'DerekCL',\n",
       "   'display_login': 'DerekCL',\n",
       "   'gravatar_id': '',\n",
       "   'url': 'https://api.github.com/users/DerekCL',\n",
       "   'avatar_url': 'https://avatars.githubusercontent.com/u/8164534?'},\n",
       "  'repo': {'id': 225287363,\n",
       "   'name': 'DerekCL/AmazonFlaskApp',\n",
       "   'url': 'https://api.github.com/repos/DerekCL/AmazonFlaskApp'},\n",
       "  'payload': {'push_id': 4344829026,\n",
       "   'size': 1,\n",
       "   'distinct_size': 1,\n",
       "   'ref': 'refs/heads/master',\n",
       "   'head': '8d6b9df3c1c3569e9ffc439d174ac49f42c0fea4',\n",
       "   'before': 'be483ca0e163d7a0a893696fc557b803450df926',\n",
       "   'commits': [{'sha': '8d6b9df3c1c3569e9ffc439d174ac49f42c0fea4',\n",
       "     'author': {'email': 'derek.lewandowski@coda.global',\n",
       "      'name': 'derek.lewandowski'},\n",
       "     'message': 'returning simple hello world',\n",
       "     'distinct': True,\n",
       "     'url': 'https://api.github.com/repos/DerekCL/AmazonFlaskApp/commits/8d6b9df3c1c3569e9ffc439d174ac49f42c0fea4'}]},\n",
       "  'public': True,\n",
       "  'created_at': '2019-12-02T17:07:21Z'},\n",
       " {'id': '10991521713',\n",
       "  'type': 'PushEvent',\n",
       "  'actor': {'id': 57900031,\n",
       "   'login': 'bestfingame',\n",
       "   'display_login': 'bestfingame',\n",
       "   'gravatar_id': '',\n",
       "   'url': 'https://api.github.com/users/bestfingame',\n",
       "   'avatar_url': 'https://avatars.githubusercontent.com/u/57900031?'},\n",
       "  'repo': {'id': 225426335,\n",
       "   'name': 'bestfingame/mobtopgame',\n",
       "   'url': 'https://api.github.com/repos/bestfingame/mobtopgame'},\n",
       "  'payload': {'push_id': 4344829018,\n",
       "   'size': 1,\n",
       "   'distinct_size': 1,\n",
       "   'ref': 'refs/heads/master',\n",
       "   'head': '842bd879147a36fa0274c5201cbf97edddf9f581',\n",
       "   'before': 'e133604f2969a0c38e5a2c68536bacaa4151df39',\n",
       "   'commits': [{'sha': '842bd879147a36fa0274c5201cbf97edddf9f581',\n",
       "     'author': {'email': '57900031+bestfingame@users.noreply.github.com',\n",
       "      'name': 'bestfingame'},\n",
       "     'message': 'Update index.html',\n",
       "     'distinct': True,\n",
       "     'url': 'https://api.github.com/repos/bestfingame/mobtopgame/commits/842bd879147a36fa0274c5201cbf97edddf9f581'}]},\n",
       "  'public': True,\n",
       "  'created_at': '2019-12-02T17:07:21Z'},\n",
       " {'id': '10991521710',\n",
       "  'type': 'PushEvent',\n",
       "  'actor': {'id': 9073706,\n",
       "   'login': 'chriseth',\n",
       "   'display_login': 'chriseth',\n",
       "   'gravatar_id': '',\n",
       "   'url': 'https://api.github.com/users/chriseth',\n",
       "   'avatar_url': 'https://avatars.githubusercontent.com/u/9073706?'},\n",
       "  'repo': {'id': 85063629,\n",
       "   'name': 'ethereum/solidity-test-bytecode',\n",
       "   'url': 'https://api.github.com/repos/ethereum/solidity-test-bytecode'},\n",
       "  'payload': {'push_id': 4344829019,\n",
       "   'size': 1,\n",
       "   'distinct_size': 1,\n",
       "   'ref': 'refs/heads/master',\n",
       "   'head': '27166d88aa54752649b86617ab35f4da5fc95db2',\n",
       "   'before': '584dd07dee76b7e638b9f68fbc20b1efb6f1b2ec',\n",
       "   'commits': [{'sha': '27166d88aa54752649b86617ab35f4da5fc95db2',\n",
       "     'author': {'email': 'chris@ethereum.org', 'name': 'travis'},\n",
       "     'message': 'Added report 2019-12-02-1a70f1440cba8fadbe9e95781421c9adf4cb1e11/ubuntu-trusty-clang.txt',\n",
       "     'distinct': True,\n",
       "     'url': 'https://api.github.com/repos/ethereum/solidity-test-bytecode/commits/27166d88aa54752649b86617ab35f4da5fc95db2'}]},\n",
       "  'public': True,\n",
       "  'created_at': '2019-12-02T17:07:21Z',\n",
       "  'org': {'id': 6250754,\n",
       "   'login': 'ethereum',\n",
       "   'gravatar_id': '',\n",
       "   'url': 'https://api.github.com/orgs/ethereum',\n",
       "   'avatar_url': 'https://avatars.githubusercontent.com/u/6250754?'}},\n",
       " {'id': '10991521703',\n",
       "  'type': 'PushEvent',\n",
       "  'actor': {'id': 14146000,\n",
       "   'login': 'judytraj007',\n",
       "   'display_login': 'judytraj007',\n",
       "   'gravatar_id': '',\n",
       "   'url': 'https://api.github.com/users/judytraj007',\n",
       "   'avatar_url': 'https://avatars.githubusercontent.com/u/14146000?'},\n",
       "  'repo': {'id': 222447354,\n",
       "   'name': 'judytraj007/Vid2pic',\n",
       "   'url': 'https://api.github.com/repos/judytraj007/Vid2pic'},\n",
       "  'payload': {'push_id': 4344829016,\n",
       "   'size': 1,\n",
       "   'distinct_size': 1,\n",
       "   'ref': 'refs/heads/master',\n",
       "   'head': '8c1ad9ec53241db947684c77b07a175925863829',\n",
       "   'before': '6e230fcbd01a9d915369960907f4b58fa7dc7d72',\n",
       "   'commits': [{'sha': '8c1ad9ec53241db947684c77b07a175925863829',\n",
       "     'author': {'email': 'judy.raj007@gmail.com', 'name': 'Judy T Raj'},\n",
       "     'message': 'Add files via upload',\n",
       "     'distinct': True,\n",
       "     'url': 'https://api.github.com/repos/judytraj007/Vid2pic/commits/8c1ad9ec53241db947684c77b07a175925863829'}]},\n",
       "  'public': True,\n",
       "  'created_at': '2019-12-02T17:07:21Z'},\n",
       " {'id': '10991521705',\n",
       "  'type': 'CreateEvent',\n",
       "  'actor': {'id': 47150129,\n",
       "   'login': 'MrJoseF17',\n",
       "   'display_login': 'MrJoseF17',\n",
       "   'gravatar_id': '',\n",
       "   'url': 'https://api.github.com/users/MrJoseF17',\n",
       "   'avatar_url': 'https://avatars.githubusercontent.com/u/47150129?'},\n",
       "  'repo': {'id': 225425298,\n",
       "   'name': 'MrJoseF17/WinterCup-HDF',\n",
       "   'url': 'https://api.github.com/repos/MrJoseF17/WinterCup-HDF'},\n",
       "  'payload': {'ref': 'master',\n",
       "   'ref_type': 'branch',\n",
       "   'master_branch': 'master',\n",
       "   'description': 'Project for publishing Winter Cup HDF Results',\n",
       "   'pusher_type': 'user'},\n",
       "  'public': True,\n",
       "  'created_at': '2019-12-02T17:07:21Z'},\n",
       " {'id': '10991521682',\n",
       "  'type': 'PushEvent',\n",
       "  'actor': {'id': 50048816,\n",
       "   'login': 'ShayMotion',\n",
       "   'display_login': 'ShayMotion',\n",
       "   'gravatar_id': '',\n",
       "   'url': 'https://api.github.com/users/ShayMotion',\n",
       "   'avatar_url': 'https://avatars.githubusercontent.com/u/50048816?'},\n",
       "  'repo': {'id': 225290450,\n",
       "   'name': 'ShayMotion/html-forms-lab-online-web-sp-000',\n",
       "   'url': 'https://api.github.com/repos/ShayMotion/html-forms-lab-online-web-sp-000'},\n",
       "  'payload': {'push_id': 4344829001,\n",
       "   'size': 1,\n",
       "   'distinct_size': 1,\n",
       "   'ref': 'refs/heads/wip',\n",
       "   'head': 'cd56413e0c1abe097c3b5441fb532476c0a77eed',\n",
       "   'before': 'd4b4b7347211798b7acf5a2f8355d1dc510a4e0b',\n",
       "   'commits': [{'sha': 'cd56413e0c1abe097c3b5441fb532476c0a77eed',\n",
       "     'author': {'email': 'shaymotionfilms@gmail.com', 'name': 'Shayan Mohsin'},\n",
       "     'message': 'Automatically backed up by Learn',\n",
       "     'distinct': True,\n",
       "     'url': 'https://api.github.com/repos/ShayMotion/html-forms-lab-online-web-sp-000/commits/cd56413e0c1abe097c3b5441fb532476c0a77eed'}]},\n",
       "  'public': True,\n",
       "  'created_at': '2019-12-02T17:07:21Z'},\n",
       " {'id': '10991521686',\n",
       "  'type': 'IssueCommentEvent',\n",
       "  'actor': {'id': 16886711,\n",
       "   'login': 'peterpeterparker',\n",
       "   'display_login': 'peterpeterparker',\n",
       "   'gravatar_id': '',\n",
       "   'url': 'https://api.github.com/users/peterpeterparker',\n",
       "   'avatar_url': 'https://avatars.githubusercontent.com/u/16886711?'},\n",
       "  'repo': {'id': 37959149,\n",
       "   'name': 'jeduan/cordova-plugin-facebook4',\n",
       "   'url': 'https://api.github.com/repos/jeduan/cordova-plugin-facebook4'},\n",
       "  'payload': {'action': 'created',\n",
       "   'issue': {'url': 'https://api.github.com/repos/jeduan/cordova-plugin-facebook4/issues/795',\n",
       "    'repository_url': 'https://api.github.com/repos/jeduan/cordova-plugin-facebook4',\n",
       "    'labels_url': 'https://api.github.com/repos/jeduan/cordova-plugin-facebook4/issues/795/labels{/name}',\n",
       "    'comments_url': 'https://api.github.com/repos/jeduan/cordova-plugin-facebook4/issues/795/comments',\n",
       "    'events_url': 'https://api.github.com/repos/jeduan/cordova-plugin-facebook4/issues/795/events',\n",
       "    'html_url': 'https://github.com/jeduan/cordova-plugin-facebook4/issues/795',\n",
       "    'id': 483357292,\n",
       "    'node_id': 'MDU6SXNzdWU0ODMzNTcyOTI=',\n",
       "    'number': 795,\n",
       "    'title': \"'FBSDKCoreKit/FBSDKCoreKit.h' file not found after updating plugin to V6.0.0\",\n",
       "    'user': {'login': 'hellkith',\n",
       "     'id': 6150722,\n",
       "     'node_id': 'MDQ6VXNlcjYxNTA3MjI=',\n",
       "     'avatar_url': 'https://avatars0.githubusercontent.com/u/6150722?v=4',\n",
       "     'gravatar_id': '',\n",
       "     'url': 'https://api.github.com/users/hellkith',\n",
       "     'html_url': 'https://github.com/hellkith',\n",
       "     'followers_url': 'https://api.github.com/users/hellkith/followers',\n",
       "     'following_url': 'https://api.github.com/users/hellkith/following{/other_user}',\n",
       "     'gists_url': 'https://api.github.com/users/hellkith/gists{/gist_id}',\n",
       "     'starred_url': 'https://api.github.com/users/hellkith/starred{/owner}{/repo}',\n",
       "     'subscriptions_url': 'https://api.github.com/users/hellkith/subscriptions',\n",
       "     'organizations_url': 'https://api.github.com/users/hellkith/orgs',\n",
       "     'repos_url': 'https://api.github.com/users/hellkith/repos',\n",
       "     'events_url': 'https://api.github.com/users/hellkith/events{/privacy}',\n",
       "     'received_events_url': 'https://api.github.com/users/hellkith/received_events',\n",
       "     'type': 'User',\n",
       "     'site_admin': False},\n",
       "    'labels': [],\n",
       "    'state': 'closed',\n",
       "    'locked': False,\n",
       "    'assignee': None,\n",
       "    'assignees': [],\n",
       "    'milestone': None,\n",
       "    'comments': 40,\n",
       "    'created_at': '2019-08-21T11:13:56Z',\n",
       "    'updated_at': '2019-12-02T17:07:21Z',\n",
       "    'closed_at': '2019-10-09T06:00:22Z',\n",
       "    'author_association': 'NONE',\n",
       "    'body': '**Bug or feature request**\\r\\n\\r\\n[x] I\\'m reporting a reproducible issue with the code\\r\\n[ ] I\\'m reporting a feature request\\r\\n\\r\\n**Describe the Bug of feature request**\\r\\n\\r\\nThis plugin has always worked perfectly for me on iOS. However since the changes for the pods manager, it doesn\\'t work when I open the project in xCode and the build command fails.\\r\\n\\r\\nWhen I run the following command: ionic cordova build ios -- --buildFlag=\"-UseModernBuildSystem=0\" command it throws an error when it is done.\\r\\nStating that the CompileC for \"FacebookConnectPlugin.m normal x86_64 objective-c com.apple.compilers.llvm.clang.1_0.compiler\" has failed. (Removed the lengthy file path for readability)\\r\\n\\r\\nif I then open the project in xCode and build the app it fails with the error: \\'FBSDKCoreKit/FBSDKCoreKit.h\\' file not found\\r\\n\\r\\nI did check and see if cocoapods was installed and I updated it just incase it could have been due to an outdated version.\\r\\n\\r\\n**Plugin version, OS, devices, etc**\\r\\n\\r\\nplugin version: 6.0.0\\r\\nIonic version: 4.1.0\\r\\nCordova version: 9.0\\r\\ncordova-ios version: 4.5.5'},\n",
       "   'comment': {'url': 'https://api.github.com/repos/jeduan/cordova-plugin-facebook4/issues/comments/560487859',\n",
       "    'html_url': 'https://github.com/jeduan/cordova-plugin-facebook4/issues/795#issuecomment-560487859',\n",
       "    'issue_url': 'https://api.github.com/repos/jeduan/cordova-plugin-facebook4/issues/795',\n",
       "    'id': 560487859,\n",
       "    'node_id': 'MDEyOklzc3VlQ29tbWVudDU2MDQ4Nzg1OQ==',\n",
       "    'user': {'login': 'peterpeterparker',\n",
       "     'id': 16886711,\n",
       "     'node_id': 'MDQ6VXNlcjE2ODg2NzEx',\n",
       "     'avatar_url': 'https://avatars0.githubusercontent.com/u/16886711?v=4',\n",
       "     'gravatar_id': '',\n",
       "     'url': 'https://api.github.com/users/peterpeterparker',\n",
       "     'html_url': 'https://github.com/peterpeterparker',\n",
       "     'followers_url': 'https://api.github.com/users/peterpeterparker/followers',\n",
       "     'following_url': 'https://api.github.com/users/peterpeterparker/following{/other_user}',\n",
       "     'gists_url': 'https://api.github.com/users/peterpeterparker/gists{/gist_id}',\n",
       "     'starred_url': 'https://api.github.com/users/peterpeterparker/starred{/owner}{/repo}',\n",
       "     'subscriptions_url': 'https://api.github.com/users/peterpeterparker/subscriptions',\n",
       "     'organizations_url': 'https://api.github.com/users/peterpeterparker/orgs',\n",
       "     'repos_url': 'https://api.github.com/users/peterpeterparker/repos',\n",
       "     'events_url': 'https://api.github.com/users/peterpeterparker/events{/privacy}',\n",
       "     'received_events_url': 'https://api.github.com/users/peterpeterparker/received_events',\n",
       "     'type': 'User',\n",
       "     'site_admin': False},\n",
       "    'created_at': '2019-12-02T17:07:21Z',\n",
       "    'updated_at': '2019-12-02T17:07:21Z',\n",
       "    'author_association': 'COLLABORATOR',\n",
       "    'body': 'cool to hear you found something. could you add your solution to the documentation and provide a PR @pipoa ? '}},\n",
       "  'public': True,\n",
       "  'created_at': '2019-12-02T17:07:21Z'},\n",
       " {'id': '10991521683',\n",
       "  'type': 'CreateEvent',\n",
       "  'actor': {'id': 6749661,\n",
       "   'login': 'test987987',\n",
       "   'display_login': 'test987987',\n",
       "   'gravatar_id': '',\n",
       "   'url': 'https://api.github.com/users/test987987',\n",
       "   'avatar_url': 'https://avatars.githubusercontent.com/u/6749661?'},\n",
       "  'repo': {'id': 40834904,\n",
       "   'name': 'test987987/test12',\n",
       "   'url': 'https://api.github.com/repos/test987987/test12'},\n",
       "  'payload': {'ref': '3f817221-8be6-4f6e-b90c-3f76f79c9569',\n",
       "   'ref_type': 'branch',\n",
       "   'master_branch': 'master',\n",
       "   'description': None,\n",
       "   'pusher_type': 'user'},\n",
       "  'public': True,\n",
       "  'created_at': '2019-12-02T17:07:21Z'},\n",
       " {'id': '10991521680',\n",
       "  'type': 'PushEvent',\n",
       "  'actor': {'id': 2422745,\n",
       "   'login': 'cecemel',\n",
       "   'display_login': 'cecemel',\n",
       "   'gravatar_id': '',\n",
       "   'url': 'https://api.github.com/users/cecemel',\n",
       "   'avatar_url': 'https://avatars.githubusercontent.com/u/2422745?'},\n",
       "  'repo': {'id': 162878149,\n",
       "   'name': 'lblod/frontend-toezicht-abb',\n",
       "   'url': 'https://api.github.com/repos/lblod/frontend-toezicht-abb'},\n",
       "  'payload': {'push_id': 4344829004,\n",
       "   'size': 1,\n",
       "   'distinct_size': 1,\n",
       "   'ref': 'refs/heads/development',\n",
       "   'head': 'e6fedef19017786af8d2db996974e9c797a90d19',\n",
       "   'before': '939d2417e0d873fa8ad5aca10c0f8de1ada7424e',\n",
       "   'commits': [{'sha': 'e6fedef19017786af8d2db996974e9c797a90d19',\n",
       "     'author': {'email': 'ruiz.felixruiz@gmail.com',\n",
       "      'name': 'Felix Ruiz de Arcaute'},\n",
       "     'message': 'added simplifiedTaxRate',\n",
       "     'distinct': True,\n",
       "     'url': 'https://api.github.com/repos/lblod/frontend-toezicht-abb/commits/e6fedef19017786af8d2db996974e9c797a90d19'}]},\n",
       "  'public': True,\n",
       "  'created_at': '2019-12-02T17:07:21Z',\n",
       "  'org': {'id': 17881187,\n",
       "   'login': 'lblod',\n",
       "   'gravatar_id': '',\n",
       "   'url': 'https://api.github.com/orgs/lblod',\n",
       "   'avatar_url': 'https://avatars.githubusercontent.com/u/17881187?'}},\n",
       " {'id': '10991521670',\n",
       "  'type': 'PushEvent',\n",
       "  'actor': {'id': 45680494,\n",
       "   'login': '15600995244',\n",
       "   'display_login': '15600995244',\n",
       "   'gravatar_id': '',\n",
       "   'url': 'https://api.github.com/users/15600995244',\n",
       "   'avatar_url': 'https://avatars.githubusercontent.com/u/45680494?'},\n",
       "  'repo': {'id': 157518180,\n",
       "   'name': 'jdcloudcom/MKTContent',\n",
       "   'url': 'https://api.github.com/repos/jdcloudcom/MKTContent'},\n",
       "  'payload': {'push_id': 4344828990,\n",
       "   'size': 1,\n",
       "   'distinct_size': 1,\n",
       "   'ref': 'refs/heads/cn-sync',\n",
       "   'head': '0b1ae1b3cbea92ffbfee111f777ffbed83c5b03c',\n",
       "   'before': 'aaccc42b2ff8a86a467505f6614cc305ae8e6967',\n",
       "   'commits': [{'sha': '0b1ae1b3cbea92ffbfee111f777ffbed83c5b03c',\n",
       "     'author': {'email': '45680494+15600995244@users.noreply.github.com',\n",
       "      'name': '15600995244'},\n",
       "     'message': '',\n",
       "     'distinct': True,\n",
       "     'url': 'https://api.github.com/repos/jdcloudcom/MKTContent/commits/0b1ae1b3cbea92ffbfee111f777ffbed83c5b03c'}]},\n",
       "  'public': True,\n",
       "  'created_at': '2019-12-02T17:07:21Z',\n",
       "  'org': {'id': 40586795,\n",
       "   'login': 'jdcloudcom',\n",
       "   'gravatar_id': '',\n",
       "   'url': 'https://api.github.com/orgs/jdcloudcom',\n",
       "   'avatar_url': 'https://avatars.githubusercontent.com/u/40586795?'}},\n",
       " {'id': '10991521661',\n",
       "  'type': 'PushEvent',\n",
       "  'actor': {'id': 54335126,\n",
       "   'login': 'rkbetcher',\n",
       "   'display_login': 'rkbetcher',\n",
       "   'gravatar_id': '',\n",
       "   'url': 'https://api.github.com/users/rkbetcher',\n",
       "   'avatar_url': 'https://avatars.githubusercontent.com/u/54335126?'},\n",
       "  'repo': {'id': 209830157,\n",
       "   'name': 'rkbetcher/2020DigitalMediaPortfolio',\n",
       "   'url': 'https://api.github.com/repos/rkbetcher/2020DigitalMediaPortfolio'},\n",
       "  'payload': {'push_id': 4344828986,\n",
       "   'size': 1,\n",
       "   'distinct_size': 1,\n",
       "   'ref': 'refs/heads/master',\n",
       "   'head': '80d27e42d86dc066c67a1cc31ae540800efccde9',\n",
       "   'before': 'f2505b1d26298f232c49e62f31b03f1c35b6f521',\n",
       "   'commits': [{'sha': '80d27e42d86dc066c67a1cc31ae540800efccde9',\n",
       "     'author': {'email': '54335126+rkbetcher@users.noreply.github.com',\n",
       "      'name': 'rkbetcher'},\n",
       "     'message': 'Add files via upload',\n",
       "     'distinct': True,\n",
       "     'url': 'https://api.github.com/repos/rkbetcher/2020DigitalMediaPortfolio/commits/80d27e42d86dc066c67a1cc31ae540800efccde9'}]},\n",
       "  'public': True,\n",
       "  'created_at': '2019-12-02T17:07:21Z'},\n",
       " {'id': '10991521660',\n",
       "  'type': 'IssueCommentEvent',\n",
       "  'actor': {'id': 3494509,\n",
       "   'login': 'codeithuman',\n",
       "   'display_login': 'codeithuman',\n",
       "   'gravatar_id': '',\n",
       "   'url': 'https://api.github.com/users/codeithuman',\n",
       "   'avatar_url': 'https://avatars.githubusercontent.com/u/3494509?'},\n",
       "  'repo': {'id': 2203645,\n",
       "   'name': 'CocoaPods/CocoaPods',\n",
       "   'url': 'https://api.github.com/repos/CocoaPods/CocoaPods'},\n",
       "  'payload': {'action': 'created',\n",
       "   'issue': {'url': 'https://api.github.com/repos/CocoaPods/CocoaPods/issues/9214',\n",
       "    'repository_url': 'https://api.github.com/repos/CocoaPods/CocoaPods',\n",
       "    'labels_url': 'https://api.github.com/repos/CocoaPods/CocoaPods/issues/9214/labels{/name}',\n",
       "    'comments_url': 'https://api.github.com/repos/CocoaPods/CocoaPods/issues/9214/comments',\n",
       "    'events_url': 'https://api.github.com/repos/CocoaPods/CocoaPods/issues/9214/events',\n",
       "    'html_url': 'https://github.com/CocoaPods/CocoaPods/issues/9214',\n",
       "    'id': 501461865,\n",
       "    'node_id': 'MDU6SXNzdWU1MDE0NjE4NjU=',\n",
       "    'number': 9214,\n",
       "    'title': 'No such file or directory @ rb_sysopen -- AppCenter -- ReactNative',\n",
       "    'user': {'login': 'connorpmullins',\n",
       "     'id': 24562987,\n",
       "     'node_id': 'MDQ6VXNlcjI0NTYyOTg3',\n",
       "     'avatar_url': 'https://avatars0.githubusercontent.com/u/24562987?v=4',\n",
       "     'gravatar_id': '',\n",
       "     'url': 'https://api.github.com/users/connorpmullins',\n",
       "     'html_url': 'https://github.com/connorpmullins',\n",
       "     'followers_url': 'https://api.github.com/users/connorpmullins/followers',\n",
       "     'following_url': 'https://api.github.com/users/connorpmullins/following{/other_user}',\n",
       "     'gists_url': 'https://api.github.com/users/connorpmullins/gists{/gist_id}',\n",
       "     'starred_url': 'https://api.github.com/users/connorpmullins/starred{/owner}{/repo}',\n",
       "     'subscriptions_url': 'https://api.github.com/users/connorpmullins/subscriptions',\n",
       "     'organizations_url': 'https://api.github.com/users/connorpmullins/orgs',\n",
       "     'repos_url': 'https://api.github.com/users/connorpmullins/repos',\n",
       "     'events_url': 'https://api.github.com/users/connorpmullins/events{/privacy}',\n",
       "     'received_events_url': 'https://api.github.com/users/connorpmullins/received_events',\n",
       "     'type': 'User',\n",
       "     'site_admin': False},\n",
       "    'labels': [{'id': 60951604,\n",
       "      'node_id': 'MDU6TGFiZWw2MDk1MTYwNA==',\n",
       "      'url': 'https://api.github.com/repos/CocoaPods/CocoaPods/labels/s1:awaiting%20input',\n",
       "      'name': 's1:awaiting input',\n",
       "      'color': 'EDCE24',\n",
       "      'default': False,\n",
       "      'description': 'Waiting for input from the original author'},\n",
       "     {'id': 897051021,\n",
       "      'node_id': 'MDU6TGFiZWw4OTcwNTEwMjE=',\n",
       "      'url': 'https://api.github.com/repos/CocoaPods/CocoaPods/labels/s6:need%20sample',\n",
       "      'name': 's6:need sample',\n",
       "      'color': 'bfd4f2',\n",
       "      'default': False,\n",
       "      'description': 'Needs a sample project that reproduces the issue'}],\n",
       "    'state': 'closed',\n",
       "    'locked': False,\n",
       "    'assignee': None,\n",
       "    'assignees': [],\n",
       "    'milestone': None,\n",
       "    'comments': 21,\n",
       "    'created_at': '2019-10-02T12:35:57Z',\n",
       "    'updated_at': '2019-12-02T17:07:20Z',\n",
       "    'closed_at': '2019-10-16T17:06:49Z',\n",
       "    'author_association': 'NONE',\n",
       "    'body': '🌈\\r\\n* [X] I\\'ve read and understood the [*CONTRIBUTING* guidelines and have done my best effort to follow](https://github.com/CocoaPods/CocoaPods/blob/master/CONTRIBUTING.md).\\r\\n\\r\\n# Report\\r\\n### Command\\r\\n```\\r\\n/usr/local/bin/pod install\\r\\n```\\r\\n\\r\\n### Report\\r\\n\\r\\n* What did you do?\\r\\nI ran `pod install` after I upgraded from react native 0.59.10 to v 0.61.1.\\r\\n\\r\\n* What did you expect to happen?\\r\\nI expected CocoaPods to successfully install the appcenter pod. \\r\\n\\r\\n* What happened instead?\\r\\nappcenter was not installed and no pod lockfile was generated. \\r\\n\\r\\n### Stack\\r\\n\\r\\n```\\r\\n   CocoaPods : 1.8.1\\r\\n        Ruby : ruby 2.3.7p456 (2018-03-28 revision 63024) [universal.x86_64-darwin18]\\r\\n    RubyGems : 2.5.2.3\\r\\n        Host : Mac OS X 10.14.5 (18F132)\\r\\n       Xcode : 10.3 (10G8)\\r\\n         Git : git version 2.20.1 (Apple Git-117)\\r\\nRuby lib dir : /System/Library/Frameworks/Ruby.framework/Versions/2.3/usr/lib\\r\\nRepositories : master - git - https://github.com/CocoaPods/Specs.git @ d5888bc829f0f05059cc675d47dcef97f52b9ef9\\r\\n               trunk - CDN - https://cdn.cocoapods.org/\\r\\n```\\r\\n\\r\\n### Plugins\\r\\n\\r\\n```\\r\\ncocoapods-deintegrate : 1.0.4\\r\\ncocoapods-plugins     : 1.0.0\\r\\ncocoapods-search      : 1.0.0\\r\\ncocoapods-stats       : 1.1.0\\r\\ncocoapods-trunk       : 1.4.0\\r\\ncocoapods-try         : 1.1.0\\r\\n```\\r\\n\\r\\n### Podfile\\r\\n\\r\\n```ruby\\r\\nplatform :ios, \\'10.0\\'\\r\\n\\r\\nrequire_relative \\'../node_modules/react-native-unimodules/cocoapods\\'\\r\\nrequire_relative \\'../node_modules/@react-native-community/cli-platform-ios/native_modules\\'\\r\\n\\r\\ntarget \\'Sonder\\' do\\r\\n  # Pods for Sonder\\r\\n  pod \\'appcenter\\', path: \\'../node_modules/appcenter/ios/appcenter.podspec\\'\\r\\n  pod \\'appcenter-analytics\\', path: \\'../node_modules/appcenter-analytics/ios\\'\\r\\n  pod \\'appcenter-crashes\\', path: \\'../node_modules/appcenter-crashes/ios\\'\\r\\n  pod \\'appcenter-push\\', path: \\'../node_modules/appcenter-push/ios\\'\\r\\n  pod \\'FBLazyVector\\', :path => \"../node_modules/react-native/Libraries/FBLazyVector\"\\r\\n  pod \\'FBReactNativeSpec\\', :path => \"../node_modules/react-native/Libraries/FBReactNativeSpec\"\\r\\n  pod \\'RCTRequired\\', :path => \"../node_modules/react-native/Libraries/RCTRequired\"\\r\\n  pod \\'RCTTypeSafety\\', :path => \"../node_modules/react-native/Libraries/TypeSafety\"\\r\\n  pod \\'React\\', :path => \\'../node_modules/react-native/\\'\\r\\n  pod \\'React-Core\\', :path => \\'../node_modules/react-native/\\'\\r\\n  pod \\'React-CoreModules\\', :path => \\'../node_modules/react-native/React/CoreModules\\'\\r\\n  pod \\'React-Core/DevSupport\\', :path => \\'../node_modules/react-native/\\'\\r\\n  pod \\'React-RCTActionSheet\\', :path => \\'../node_modules/react-native/Libraries/ActionSheetIOS\\'\\r\\n  pod \\'React-RCTAnimation\\', :path => \\'../node_modules/react-native/Libraries/NativeAnimation\\'\\r\\n  pod \\'React-RCTBlob\\', :path => \\'../node_modules/react-native/Libraries/Blob\\'\\r\\n  pod \\'React-RCTImage\\', :path => \\'../node_modules/react-native/Libraries/Image\\'\\r\\n  pod \\'React-RCTLinking\\', :path => \\'../node_modules/react-native/Libraries/LinkingIOS\\'\\r\\n  pod \\'React-RCTNetwork\\', :path => \\'../node_modules/react-native/Libraries/Network\\'\\r\\n  pod \\'React-RCTSettings\\', :path => \\'../node_modules/react-native/Libraries/Settings\\'\\r\\n  pod \\'React-RCTText\\', :path => \\'../node_modules/react-native/Libraries/Text\\'\\r\\n  pod \\'React-RCTVibration\\', :path => \\'../node_modules/react-native/Libraries/Vibration\\'\\r\\n  pod \\'React-Core/RCTWebSocket\\', :path => \\'../node_modules/react-native/\\'\\r\\n  pod \\'React-cxxreact\\', :path => \\'../node_modules/react-native/ReactCommon/cxxreact\\'\\r\\n  pod \\'React-jsi\\', :path => \\'../node_modules/react-native/ReactCommon/jsi\\'\\r\\n  pod \\'React-jsiexecutor\\', :path => \\'../node_modules/react-native/ReactCommon/jsiexecutor\\'\\r\\n  pod \\'React-jsinspector\\', :path => \\'../node_modules/react-native/ReactCommon/jsinspector\\'\\r\\n  pod \\'ReactCommon/jscallinvoker\\', :path => \"../node_modules/react-native/ReactCommon\"\\r\\n  pod \\'ReactCommon/turbomodule/core\\', :path => \"../node_modules/react-native/ReactCommon\"\\r\\n  pod \\'Yoga\\', :path => \\'../node_modules/react-native/ReactCommon/yoga\\'\\r\\n  pod \\'DoubleConversion\\', :podspec => \\'../node_modules/react-native/third-party-podspecs/DoubleConversion.podspec\\'\\r\\n  pod \\'glog\\', :podspec => \\'../node_modules/react-native/third-party-podspecs/glog.podspec\\'\\r\\n  pod \\'Folly\\', :podspec => \\'../node_modules/react-native/third-party-podspecs/Folly.podspec\\'\\r\\n\\r\\n  use_unimodules!\\r\\n\\r\\nend\\r\\n```\\r\\n\\r\\n### Error\\r\\n\\r\\n```\\r\\nErrno::ENOENT - No such file or directory @ rb_sysopen - /Users/connormullins/Sonder/ios/Pods/Local Podspecs/appcenter.podspec.json\\r\\n/Library/Ruby/Gems/2.3.0/gems/cocoapods-core-1.8.1/lib/cocoapods-core/specification.rb:646:in `read\\'\\r\\n/Library/Ruby/Gems/2.3.0/gems/cocoapods-core-1.8.1/lib/cocoapods-core/specification.rb:646:in `checksum\\'\\r\\n/Library/Ruby/Gems/2.3.0/gems/cocoapods-core-1.8.1/lib/cocoapods-core/lockfile.rb:533:in `block in generate_checksums\\'\\r\\n/Library/Ruby/Gems/2.3.0/gems/cocoapods-core-1.8.1/lib/cocoapods-core/lockfile.rb:532:in `each\\'\\r\\n/Library/Ruby/Gems/2.3.0/gems/cocoapods-core-1.8.1/lib/cocoapods-core/lockfile.rb:532:in `generate_checksums\\'\\r\\n/Library/Ruby/Gems/2.3.0/gems/cocoapods-core-1.8.1/lib/cocoapods-core/lockfile.rb:428:in `generate\\'\\r\\n/Library/Ruby/Gems/2.3.0/gems/cocoapods-1.8.1/lib/cocoapods/installer.rb:744:in `generate_lockfile\\'\\r\\n/Library/Ruby/Gems/2.3.0/gems/cocoapods-1.8.1/lib/cocoapods/installer.rb:752:in `write_lockfiles\\'\\r\\n/Library/Ruby/Gems/2.3.0/gems/cocoapods-1.8.1/lib/cocoapods/installer.rb:299:in `generate_pods_project\\'\\r\\n/Library/Ruby/Gems/2.3.0/gems/cocoapods-1.8.1/lib/cocoapods/installer.rb:173:in `integrate\\'\\r\\n/Library/Ruby/Gems/2.3.0/gems/cocoapods-1.8.1/lib/cocoapods/installer.rb:162:in `install!\\'\\r\\n/Library/Ruby/Gems/2.3.0/gems/cocoapods-1.8.1/lib/cocoapods/command/install.rb:52:in `run\\'\\r\\n/Library/Ruby/Gems/2.3.0/gems/claide-1.0.3/lib/claide/command.rb:334:in `run\\'\\r\\n/Library/Ruby/Gems/2.3.0/gems/cocoapods-1.8.1/lib/cocoapods/command.rb:52:in `run\\'\\r\\n/Library/Ruby/Gems/2.3.0/gems/cocoapods-1.8.1/bin/pod:55:in `<top (required)>\\'\\r\\n/usr/local/bin/pod:22:in `load\\'\\r\\n/usr/local/bin/pod:22:in `<main>\\'\\r\\n```\\r\\n\\r\\nEXTRA NOTES: \\r\\nAppCenter was not autolinked when I installed it with npm after upgrading to the most recent version of react native. I manually added the import lines to my Podfile. I am positive though that the appcenter.podspec file is present in the path being looked at.  No combination of cache clearing, Pod folder deleting, npm installing, or repo-updating has helped me. These are the only suggestions I have found on solving the error `No such file or directory @ rb_sysopen`\\r\\n\\r\\nThanks in advance!'},\n",
       "   'comment': {'url': 'https://api.github.com/repos/CocoaPods/CocoaPods/issues/comments/560487855',\n",
       "    'html_url': 'https://github.com/CocoaPods/CocoaPods/issues/9214#issuecomment-560487855',\n",
       "    'issue_url': 'https://api.github.com/repos/CocoaPods/CocoaPods/issues/9214',\n",
       "    'id': 560487855,\n",
       "    'node_id': 'MDEyOklzc3VlQ29tbWVudDU2MDQ4Nzg1NQ==',\n",
       "    'user': {'login': 'codeithuman',\n",
       "     'id': 3494509,\n",
       "     'node_id': 'MDQ6VXNlcjM0OTQ1MDk=',\n",
       "     'avatar_url': 'https://avatars3.githubusercontent.com/u/3494509?v=4',\n",
       "     'gravatar_id': '',\n",
       "     'url': 'https://api.github.com/users/codeithuman',\n",
       "     'html_url': 'https://github.com/codeithuman',\n",
       "     'followers_url': 'https://api.github.com/users/codeithuman/followers',\n",
       "     'following_url': 'https://api.github.com/users/codeithuman/following{/other_user}',\n",
       "     'gists_url': 'https://api.github.com/users/codeithuman/gists{/gist_id}',\n",
       "     'starred_url': 'https://api.github.com/users/codeithuman/starred{/owner}{/repo}',\n",
       "     'subscriptions_url': 'https://api.github.com/users/codeithuman/subscriptions',\n",
       "     'organizations_url': 'https://api.github.com/users/codeithuman/orgs',\n",
       "     'repos_url': 'https://api.github.com/users/codeithuman/repos',\n",
       "     'events_url': 'https://api.github.com/users/codeithuman/events{/privacy}',\n",
       "     'received_events_url': 'https://api.github.com/users/codeithuman/received_events',\n",
       "     'type': 'User',\n",
       "     'site_admin': False},\n",
       "    'created_at': '2019-12-02T17:07:20Z',\n",
       "    'updated_at': '2019-12-02T17:07:20Z',\n",
       "    'author_association': 'NONE',\n",
       "    'body': \"We are having the same issue with the following versions:\\r\\n\\r\\n- Cocoapods 1.8.4\\r\\n- Yarn 1.16.0\\r\\n- React Native 0.60.6\\r\\n- App Center packages 2.4.0\\r\\n\\r\\nUpgrading our App Center packages to 2.6.0 did not resolve the issue, but the [instructions above](https://github.com/CocoaPods/CocoaPods/issues/9214#issuecomment-548392866) from @sm1th did work. \\r\\n\\r\\nWe do not want the extra yarn remove/add steps in our workflow so we're just going to downgrade cocoapods to 1.7.x till we upgrade React Native and/or the issue is resolved another way. \"}},\n",
       "  'public': True,\n",
       "  'created_at': '2019-12-02T17:07:21Z',\n",
       "  'org': {'id': 1189714,\n",
       "   'login': 'CocoaPods',\n",
       "   'gravatar_id': '',\n",
       "   'url': 'https://api.github.com/orgs/CocoaPods',\n",
       "   'avatar_url': 'https://avatars.githubusercontent.com/u/1189714?'}},\n",
       " {'id': '10991521667',\n",
       "  'type': 'CreateEvent',\n",
       "  'actor': {'id': 25086506,\n",
       "   'login': 'jbraunschweiger',\n",
       "   'display_login': 'jbraunschweiger',\n",
       "   'gravatar_id': '',\n",
       "   'url': 'https://api.github.com/users/jbraunschweiger',\n",
       "   'avatar_url': 'https://avatars.githubusercontent.com/u/25086506?'},\n",
       "  'repo': {'id': 222589226,\n",
       "   'name': 'carejeanies/Snacc',\n",
       "   'url': 'https://api.github.com/repos/carejeanies/Snacc'},\n",
       "  'payload': {'ref': 'final',\n",
       "   'ref_type': 'branch',\n",
       "   'master_branch': 'master',\n",
       "   'description': 'WUSTL 438 final project - SNACC the cooking app you need. ',\n",
       "   'pusher_type': 'user'},\n",
       "  'public': True,\n",
       "  'created_at': '2019-12-02T17:07:21Z'},\n",
       " {'id': '10991521656',\n",
       "  'type': 'IssueCommentEvent',\n",
       "  'actor': {'id': 14909267,\n",
       "   'login': 'lidiasm',\n",
       "   'display_login': 'lidiasm',\n",
       "   'gravatar_id': '',\n",
       "   'url': 'https://api.github.com/users/lidiasm',\n",
       "   'avatar_url': 'https://avatars.githubusercontent.com/u/14909267?'},\n",
       "  'repo': {'id': 213888199,\n",
       "   'name': 'lidiasm/ProyectoCC',\n",
       "   'url': 'https://api.github.com/repos/lidiasm/ProyectoCC'},\n",
       "  'payload': {'action': 'created',\n",
       "   'issue': {'url': 'https://api.github.com/repos/lidiasm/ProyectoCC/issues/52',\n",
       "    'repository_url': 'https://api.github.com/repos/lidiasm/ProyectoCC',\n",
       "    'labels_url': 'https://api.github.com/repos/lidiasm/ProyectoCC/issues/52/labels{/name}',\n",
       "    'comments_url': 'https://api.github.com/repos/lidiasm/ProyectoCC/issues/52/comments',\n",
       "    'events_url': 'https://api.github.com/repos/lidiasm/ProyectoCC/issues/52/events',\n",
       "    'html_url': 'https://github.com/lidiasm/ProyectoCC/issues/52',\n",
       "    'id': 529601974,\n",
       "    'node_id': 'MDU6SXNzdWU1Mjk2MDE5NzQ=',\n",
       "    'number': 52,\n",
       "    'title': 'Despliegue del contenedor en la nube.',\n",
       "    'user': {'login': 'lidiasm',\n",
       "     'id': 14909267,\n",
       "     'node_id': 'MDQ6VXNlcjE0OTA5MjY3',\n",
       "     'avatar_url': 'https://avatars0.githubusercontent.com/u/14909267?v=4',\n",
       "     'gravatar_id': '',\n",
       "     'url': 'https://api.github.com/users/lidiasm',\n",
       "     'html_url': 'https://github.com/lidiasm',\n",
       "     'followers_url': 'https://api.github.com/users/lidiasm/followers',\n",
       "     'following_url': 'https://api.github.com/users/lidiasm/following{/other_user}',\n",
       "     'gists_url': 'https://api.github.com/users/lidiasm/gists{/gist_id}',\n",
       "     'starred_url': 'https://api.github.com/users/lidiasm/starred{/owner}{/repo}',\n",
       "     'subscriptions_url': 'https://api.github.com/users/lidiasm/subscriptions',\n",
       "     'organizations_url': 'https://api.github.com/users/lidiasm/orgs',\n",
       "     'repos_url': 'https://api.github.com/users/lidiasm/repos',\n",
       "     'events_url': 'https://api.github.com/users/lidiasm/events{/privacy}',\n",
       "     'received_events_url': 'https://api.github.com/users/lidiasm/received_events',\n",
       "     'type': 'User',\n",
       "     'site_admin': False},\n",
       "    'labels': [],\n",
       "    'state': 'open',\n",
       "    'locked': False,\n",
       "    'assignee': None,\n",
       "    'assignees': [],\n",
       "    'milestone': {'url': 'https://api.github.com/repos/lidiasm/ProyectoCC/milestones/2',\n",
       "     'html_url': 'https://github.com/lidiasm/ProyectoCC/milestone/2',\n",
       "     'labels_url': 'https://api.github.com/repos/lidiasm/ProyectoCC/milestones/2/labels',\n",
       "     'id': 4739796,\n",
       "     'node_id': 'MDk6TWlsZXN0b25lNDczOTc5Ng==',\n",
       "     'number': 2,\n",
       "     'title': 'Contenedores para microservicios y despliegue.',\n",
       "     'description': 'En este hito se diseñarán los microframeworks necesarios para proporcionarle a las clases las peticiones que vayan llegando con el fin de devolver la correspondiente respuesta. \\r\\nExiste un caso particular en el que para obtener los datos se utilizará el servidor de tareas Celery.\\r\\n\\r\\nPor último se empaquetarán cada microservicio y sus clases asociadas en un contenedor para su posterior despliegue en la nube. ',\n",
       "     'creator': {'login': 'lidiasm',\n",
       "      'id': 14909267,\n",
       "      'node_id': 'MDQ6VXNlcjE0OTA5MjY3',\n",
       "      'avatar_url': 'https://avatars0.githubusercontent.com/u/14909267?v=4',\n",
       "      'gravatar_id': '',\n",
       "      'url': 'https://api.github.com/users/lidiasm',\n",
       "      'html_url': 'https://github.com/lidiasm',\n",
       "      'followers_url': 'https://api.github.com/users/lidiasm/followers',\n",
       "      'following_url': 'https://api.github.com/users/lidiasm/following{/other_user}',\n",
       "      'gists_url': 'https://api.github.com/users/lidiasm/gists{/gist_id}',\n",
       "      'starred_url': 'https://api.github.com/users/lidiasm/starred{/owner}{/repo}',\n",
       "      'subscriptions_url': 'https://api.github.com/users/lidiasm/subscriptions',\n",
       "      'organizations_url': 'https://api.github.com/users/lidiasm/orgs',\n",
       "      'repos_url': 'https://api.github.com/users/lidiasm/repos',\n",
       "      'events_url': 'https://api.github.com/users/lidiasm/events{/privacy}',\n",
       "      'received_events_url': 'https://api.github.com/users/lidiasm/received_events',\n",
       "      'type': 'User',\n",
       "      'site_admin': False},\n",
       "     'open_issues': 1,\n",
       "     'closed_issues': 11,\n",
       "     'state': 'open',\n",
       "     'created_at': '2019-10-10T12:20:37Z',\n",
       "     'updated_at': '2019-12-02T17:06:47Z',\n",
       "     'due_on': None,\n",
       "     'closed_at': None},\n",
       "    'comments': 1,\n",
       "    'created_at': '2019-11-27T22:36:20Z',\n",
       "    'updated_at': '2019-12-02T17:07:21Z',\n",
       "    'closed_at': None,\n",
       "    'author_association': 'OWNER',\n",
       "    'body': ''},\n",
       "   'comment': {'url': 'https://api.github.com/repos/lidiasm/ProyectoCC/issues/comments/560487858',\n",
       "    'html_url': 'https://github.com/lidiasm/ProyectoCC/issues/52#issuecomment-560487858',\n",
       "    'issue_url': 'https://api.github.com/repos/lidiasm/ProyectoCC/issues/52',\n",
       "    'id': 560487858,\n",
       "    'node_id': 'MDEyOklzc3VlQ29tbWVudDU2MDQ4Nzg1OA==',\n",
       "    'user': {'login': 'lidiasm',\n",
       "     'id': 14909267,\n",
       "     'node_id': 'MDQ6VXNlcjE0OTA5MjY3',\n",
       "     'avatar_url': 'https://avatars0.githubusercontent.com/u/14909267?v=4',\n",
       "     'gravatar_id': '',\n",
       "     'url': 'https://api.github.com/users/lidiasm',\n",
       "     'html_url': 'https://github.com/lidiasm',\n",
       "     'followers_url': 'https://api.github.com/users/lidiasm/followers',\n",
       "     'following_url': 'https://api.github.com/users/lidiasm/following{/other_user}',\n",
       "     'gists_url': 'https://api.github.com/users/lidiasm/gists{/gist_id}',\n",
       "     'starred_url': 'https://api.github.com/users/lidiasm/starred{/owner}{/repo}',\n",
       "     'subscriptions_url': 'https://api.github.com/users/lidiasm/subscriptions',\n",
       "     'organizations_url': 'https://api.github.com/users/lidiasm/orgs',\n",
       "     'repos_url': 'https://api.github.com/users/lidiasm/repos',\n",
       "     'events_url': 'https://api.github.com/users/lidiasm/events{/privacy}',\n",
       "     'received_events_url': 'https://api.github.com/users/lidiasm/received_events',\n",
       "     'type': 'User',\n",
       "     'site_admin': False},\n",
       "    'created_at': '2019-12-02T17:07:21Z',\n",
       "    'updated_at': '2019-12-02T17:07:21Z',\n",
       "    'author_association': 'OWNER',\n",
       "    'body': 'Para ello se utilizará Heroku conectado al repositorio de GitHub del proyecto.'}},\n",
       "  'public': True,\n",
       "  'created_at': '2019-12-02T17:07:21Z'},\n",
       " {'id': '10991521652',\n",
       "  'type': 'PushEvent',\n",
       "  'actor': {'id': 3150,\n",
       "   'login': 'shlomif',\n",
       "   'display_login': 'shlomif',\n",
       "   'gravatar_id': '',\n",
       "   'url': 'https://api.github.com/users/shlomif',\n",
       "   'avatar_url': 'https://avatars.githubusercontent.com/u/3150?'},\n",
       "  'repo': {'id': 9723343,\n",
       "   'name': 'shlomif/Fiction-XML',\n",
       "   'url': 'https://api.github.com/repos/shlomif/Fiction-XML'},\n",
       "  'payload': {'push_id': 4344828975,\n",
       "   'size': 1,\n",
       "   'distinct_size': 1,\n",
       "   'ref': 'refs/heads/master',\n",
       "   'head': '6ad81ed818f803c989b85e20e2a1b26c63e8c4d9',\n",
       "   'before': 'd4a38dcf7be7f79b1d0116835a23748464a7c7fb',\n",
       "   'commits': [{'sha': '6ad81ed818f803c989b85e20e2a1b26c63e8c4d9',\n",
       "     'author': {'email': 'shlomif@shlomifish.org', 'name': 'Shlomi Fish'},\n",
       "     'message': 'explicit imports and avoid cruft.',\n",
       "     'distinct': True,\n",
       "     'url': 'https://api.github.com/repos/shlomif/Fiction-XML/commits/6ad81ed818f803c989b85e20e2a1b26c63e8c4d9'}]},\n",
       "  'public': True,\n",
       "  'created_at': '2019-12-02T17:07:21Z'},\n",
       " {'id': '10991521634',\n",
       "  'type': 'WatchEvent',\n",
       "  'actor': {'id': 6471372,\n",
       "   'login': 'Jacobh2',\n",
       "   'display_login': 'Jacobh2',\n",
       "   'gravatar_id': '',\n",
       "   'url': 'https://api.github.com/users/Jacobh2',\n",
       "   'avatar_url': 'https://avatars.githubusercontent.com/u/6471372?'},\n",
       "  'repo': {'id': 225174708,\n",
       "   'name': 'plankt/advent-of-code-2019',\n",
       "   'url': 'https://api.github.com/repos/plankt/advent-of-code-2019'},\n",
       "  'payload': {'action': 'started'},\n",
       "  'public': True,\n",
       "  'created_at': '2019-12-02T17:07:21Z'},\n",
       " {'id': '10991521614',\n",
       "  'type': 'PushEvent',\n",
       "  'actor': {'id': 37777543,\n",
       "   'login': 'FreddieWarren',\n",
       "   'display_login': 'FreddieWarren',\n",
       "   'gravatar_id': '',\n",
       "   'url': 'https://api.github.com/users/FreddieWarren',\n",
       "   'avatar_url': 'https://avatars.githubusercontent.com/u/37777543?'},\n",
       "  'repo': {'id': 223345421,\n",
       "   'name': 'YelloJW/rails-podfast',\n",
       "   'url': 'https://api.github.com/repos/YelloJW/rails-podfast'},\n",
       "  'payload': {'push_id': 4344828962,\n",
       "   'size': 2,\n",
       "   'distinct_size': 1,\n",
       "   'ref': 'refs/heads/master',\n",
       "   'head': 'e8c1d6590389815018a67ffeae261aff76546e63',\n",
       "   'before': '3b00d2b27d1d3293db5462c351ecd82878956f94',\n",
       "   'commits': [{'sha': '1b55cfb3c71400c79ea2863b024db547ee671443',\n",
       "     'author': {'email': 'douglasjmnoble@googlemail.com',\n",
       "      'name': 'Doug Noble'},\n",
       "     'message': 'formatting of code',\n",
       "     'distinct': False,\n",
       "     'url': 'https://api.github.com/repos/YelloJW/rails-podfast/commits/1b55cfb3c71400c79ea2863b024db547ee671443'},\n",
       "    {'sha': 'e8c1d6590389815018a67ffeae261aff76546e63',\n",
       "     'author': {'email': '37777543+FreddieWarren@users.noreply.github.com',\n",
       "      'name': 'Freddie Warren'},\n",
       "     'message': 'Merge pull request #127 from YelloJW/formatting_followable_avatar\\n\\nformatting of code',\n",
       "     'distinct': True,\n",
       "     'url': 'https://api.github.com/repos/YelloJW/rails-podfast/commits/e8c1d6590389815018a67ffeae261aff76546e63'}]},\n",
       "  'public': True,\n",
       "  'created_at': '2019-12-02T17:07:20Z'},\n",
       " {'id': '10991521624',\n",
       "  'type': 'ForkEvent',\n",
       "  'actor': {'id': 4339937,\n",
       "   'login': 'kmil0',\n",
       "   'display_login': 'kmil0',\n",
       "   'gravatar_id': '',\n",
       "   'url': 'https://api.github.com/users/kmil0',\n",
       "   'avatar_url': 'https://avatars.githubusercontent.com/u/4339937?'},\n",
       "  'repo': {'id': 206854866,\n",
       "   'name': 'pauldipietro/CarouselViewChallenge',\n",
       "   'url': 'https://api.github.com/repos/pauldipietro/CarouselViewChallenge'},\n",
       "  'payload': {'forkee': {'id': 225427460,\n",
       "    'node_id': 'MDEwOlJlcG9zaXRvcnkyMjU0Mjc0NjA=',\n",
       "    'name': 'CarouselViewChallenge',\n",
       "    'full_name': 'kmil0/CarouselViewChallenge',\n",
       "    'private': False,\n",
       "    'owner': {'login': 'kmil0',\n",
       "     'id': 4339937,\n",
       "     'node_id': 'MDQ6VXNlcjQzMzk5Mzc=',\n",
       "     'avatar_url': 'https://avatars1.githubusercontent.com/u/4339937?v=4',\n",
       "     'gravatar_id': '',\n",
       "     'url': 'https://api.github.com/users/kmil0',\n",
       "     'html_url': 'https://github.com/kmil0',\n",
       "     'followers_url': 'https://api.github.com/users/kmil0/followers',\n",
       "     'following_url': 'https://api.github.com/users/kmil0/following{/other_user}',\n",
       "     'gists_url': 'https://api.github.com/users/kmil0/gists{/gist_id}',\n",
       "     'starred_url': 'https://api.github.com/users/kmil0/starred{/owner}{/repo}',\n",
       "     'subscriptions_url': 'https://api.github.com/users/kmil0/subscriptions',\n",
       "     'organizations_url': 'https://api.github.com/users/kmil0/orgs',\n",
       "     'repos_url': 'https://api.github.com/users/kmil0/repos',\n",
       "     'events_url': 'https://api.github.com/users/kmil0/events{/privacy}',\n",
       "     'received_events_url': 'https://api.github.com/users/kmil0/received_events',\n",
       "     'type': 'User',\n",
       "     'site_admin': False},\n",
       "    'html_url': 'https://github.com/kmil0/CarouselViewChallenge',\n",
       "    'description': None,\n",
       "    'fork': True,\n",
       "    'url': 'https://api.github.com/repos/kmil0/CarouselViewChallenge',\n",
       "    'forks_url': 'https://api.github.com/repos/kmil0/CarouselViewChallenge/forks',\n",
       "    'keys_url': 'https://api.github.com/repos/kmil0/CarouselViewChallenge/keys{/key_id}',\n",
       "    'collaborators_url': 'https://api.github.com/repos/kmil0/CarouselViewChallenge/collaborators{/collaborator}',\n",
       "    'teams_url': 'https://api.github.com/repos/kmil0/CarouselViewChallenge/teams',\n",
       "    'hooks_url': 'https://api.github.com/repos/kmil0/CarouselViewChallenge/hooks',\n",
       "    'issue_events_url': 'https://api.github.com/repos/kmil0/CarouselViewChallenge/issues/events{/number}',\n",
       "    'events_url': 'https://api.github.com/repos/kmil0/CarouselViewChallenge/events',\n",
       "    'assignees_url': 'https://api.github.com/repos/kmil0/CarouselViewChallenge/assignees{/user}',\n",
       "    'branches_url': 'https://api.github.com/repos/kmil0/CarouselViewChallenge/branches{/branch}',\n",
       "    'tags_url': 'https://api.github.com/repos/kmil0/CarouselViewChallenge/tags',\n",
       "    'blobs_url': 'https://api.github.com/repos/kmil0/CarouselViewChallenge/git/blobs{/sha}',\n",
       "    'git_tags_url': 'https://api.github.com/repos/kmil0/CarouselViewChallenge/git/tags{/sha}',\n",
       "    'git_refs_url': 'https://api.github.com/repos/kmil0/CarouselViewChallenge/git/refs{/sha}',\n",
       "    'trees_url': 'https://api.github.com/repos/kmil0/CarouselViewChallenge/git/trees{/sha}',\n",
       "    'statuses_url': 'https://api.github.com/repos/kmil0/CarouselViewChallenge/statuses/{sha}',\n",
       "    'languages_url': 'https://api.github.com/repos/kmil0/CarouselViewChallenge/languages',\n",
       "    'stargazers_url': 'https://api.github.com/repos/kmil0/CarouselViewChallenge/stargazers',\n",
       "    'contributors_url': 'https://api.github.com/repos/kmil0/CarouselViewChallenge/contributors',\n",
       "    'subscribers_url': 'https://api.github.com/repos/kmil0/CarouselViewChallenge/subscribers',\n",
       "    'subscription_url': 'https://api.github.com/repos/kmil0/CarouselViewChallenge/subscription',\n",
       "    'commits_url': 'https://api.github.com/repos/kmil0/CarouselViewChallenge/commits{/sha}',\n",
       "    'git_commits_url': 'https://api.github.com/repos/kmil0/CarouselViewChallenge/git/commits{/sha}',\n",
       "    'comments_url': 'https://api.github.com/repos/kmil0/CarouselViewChallenge/comments{/number}',\n",
       "    'issue_comment_url': 'https://api.github.com/repos/kmil0/CarouselViewChallenge/issues/comments{/number}',\n",
       "    'contents_url': 'https://api.github.com/repos/kmil0/CarouselViewChallenge/contents/{+path}',\n",
       "    'compare_url': 'https://api.github.com/repos/kmil0/CarouselViewChallenge/compare/{base}...{head}',\n",
       "    'merges_url': 'https://api.github.com/repos/kmil0/CarouselViewChallenge/merges',\n",
       "    'archive_url': 'https://api.github.com/repos/kmil0/CarouselViewChallenge/{archive_format}{/ref}',\n",
       "    'downloads_url': 'https://api.github.com/repos/kmil0/CarouselViewChallenge/downloads',\n",
       "    'issues_url': 'https://api.github.com/repos/kmil0/CarouselViewChallenge/issues{/number}',\n",
       "    'pulls_url': 'https://api.github.com/repos/kmil0/CarouselViewChallenge/pulls{/number}',\n",
       "    'milestones_url': 'https://api.github.com/repos/kmil0/CarouselViewChallenge/milestones{/number}',\n",
       "    'notifications_url': 'https://api.github.com/repos/kmil0/CarouselViewChallenge/notifications{?since,all,participating}',\n",
       "    'labels_url': 'https://api.github.com/repos/kmil0/CarouselViewChallenge/labels{/name}',\n",
       "    'releases_url': 'https://api.github.com/repos/kmil0/CarouselViewChallenge/releases{/id}',\n",
       "    'deployments_url': 'https://api.github.com/repos/kmil0/CarouselViewChallenge/deployments',\n",
       "    'created_at': '2019-12-02T17:07:20Z',\n",
       "    'updated_at': '2019-11-06T23:20:57Z',\n",
       "    'pushed_at': '2019-10-10T06:23:10Z',\n",
       "    'git_url': 'git://github.com/kmil0/CarouselViewChallenge.git',\n",
       "    'ssh_url': 'git@github.com:kmil0/CarouselViewChallenge.git',\n",
       "    'clone_url': 'https://github.com/kmil0/CarouselViewChallenge.git',\n",
       "    'svn_url': 'https://github.com/kmil0/CarouselViewChallenge',\n",
       "    'homepage': None,\n",
       "    'size': 518,\n",
       "    'stargazers_count': 0,\n",
       "    'watchers_count': 0,\n",
       "    'language': None,\n",
       "    'has_issues': False,\n",
       "    'has_projects': True,\n",
       "    'has_downloads': True,\n",
       "    'has_wiki': True,\n",
       "    'has_pages': False,\n",
       "    'forks_count': 0,\n",
       "    'mirror_url': None,\n",
       "    'archived': False,\n",
       "    'disabled': False,\n",
       "    'open_issues_count': 0,\n",
       "    'license': None,\n",
       "    'forks': 0,\n",
       "    'open_issues': 0,\n",
       "    'watchers': 0,\n",
       "    'default_branch': 'master',\n",
       "    'public': True}},\n",
       "  'public': True,\n",
       "  'created_at': '2019-12-02T17:07:20Z'},\n",
       " {'id': '10991521609',\n",
       "  'type': 'PushEvent',\n",
       "  'actor': {'id': 24938324,\n",
       "   'login': 'glekner',\n",
       "   'display_login': 'glekner',\n",
       "   'gravatar_id': '',\n",
       "   'url': 'https://api.github.com/users/glekner',\n",
       "   'avatar_url': 'https://avatars.githubusercontent.com/u/24938324?'},\n",
       "  'repo': {'id': 195652055,\n",
       "   'name': 'glekner/console',\n",
       "   'url': 'https://api.github.com/repos/glekner/console'},\n",
       "  'payload': {'push_id': 4344828963,\n",
       "   'size': 1,\n",
       "   'distinct_size': 1,\n",
       "   'ref': 'refs/heads/non-admin-flow',\n",
       "   'head': '38f88ec11751da505c3e6eff6c83c00dbeda554b',\n",
       "   'before': '1749eaf9a84cfc79a5f85a50cde68b7c5ef2fcaf',\n",
       "   'commits': [{'sha': '38f88ec11751da505c3e6eff6c83c00dbeda554b',\n",
       "     'author': {'email': 'glekner@Gilads-i9-Hackintosh.local',\n",
       "      'name': 'Gilad Lekner'},\n",
       "     'message': 'add non-admin user create-vm flow',\n",
       "     'distinct': True,\n",
       "     'url': 'https://api.github.com/repos/glekner/console/commits/38f88ec11751da505c3e6eff6c83c00dbeda554b'}]},\n",
       "  'public': True,\n",
       "  'created_at': '2019-12-02T17:07:20Z'},\n",
       " {'id': '10991521601',\n",
       "  'type': 'PushEvent',\n",
       "  'actor': {'id': 57976910,\n",
       "   'login': 'riya007-code',\n",
       "   'display_login': 'riya007-code',\n",
       "   'gravatar_id': '',\n",
       "   'url': 'https://api.github.com/users/riya007-code',\n",
       "   'avatar_url': 'https://avatars.githubusercontent.com/u/57976910?'},\n",
       "  'repo': {'id': 225370117,\n",
       "   'name': 'riya007-code/dss-assignment',\n",
       "   'url': 'https://api.github.com/repos/riya007-code/dss-assignment'},\n",
       "  'payload': {'push_id': 4344828955,\n",
       "   'size': 1,\n",
       "   'distinct_size': 1,\n",
       "   'ref': 'refs/heads/master',\n",
       "   'head': '3880c5d66f351f3359b58ac414ece6c73ed9ce7e',\n",
       "   'before': 'e95d6768d5fcd8f80a60db71099dcb1766eb15df',\n",
       "   'commits': [{'sha': '3880c5d66f351f3359b58ac414ece6c73ed9ce7e',\n",
       "     'author': {'email': '57976910+riya007-code@users.noreply.github.com',\n",
       "      'name': 'riya007-code'},\n",
       "     'message': 'Rename Dss-Assignment1.html to DSS_assignment1.html',\n",
       "     'distinct': True,\n",
       "     'url': 'https://api.github.com/repos/riya007-code/dss-assignment/commits/3880c5d66f351f3359b58ac414ece6c73ed9ce7e'}]},\n",
       "  'public': True,\n",
       "  'created_at': '2019-12-02T17:07:20Z'},\n",
       " {'id': '10991521605',\n",
       "  'type': 'CreateEvent',\n",
       "  'actor': {'id': 46568484,\n",
       "   'login': 'AaronLucasBone',\n",
       "   'display_login': 'AaronLucasBone',\n",
       "   'gravatar_id': '',\n",
       "   'url': 'https://api.github.com/users/AaronLucasBone',\n",
       "   'avatar_url': 'https://avatars.githubusercontent.com/u/46568484?'},\n",
       "  'repo': {'id': 225427458,\n",
       "   'name': 'AaronLucasBone/MerkleTreeALB',\n",
       "   'url': 'https://api.github.com/repos/AaronLucasBone/MerkleTreeALB'},\n",
       "  'payload': {'ref': None,\n",
       "   'ref_type': 'repository',\n",
       "   'master_branch': 'master',\n",
       "   'description': None,\n",
       "   'pusher_type': 'user'},\n",
       "  'public': True,\n",
       "  'created_at': '2019-12-02T17:07:20Z'},\n",
       " {'id': '10991521585',\n",
       "  'type': 'PushEvent',\n",
       "  'actor': {'id': 29249523,\n",
       "   'login': 'Cjay-Chou',\n",
       "   'display_login': 'Cjay-Chou',\n",
       "   'gravatar_id': '',\n",
       "   'url': 'https://api.github.com/users/Cjay-Chou',\n",
       "   'avatar_url': 'https://avatars.githubusercontent.com/u/29249523?'},\n",
       "  'repo': {'id': 225023658,\n",
       "   'name': 'Chouweizhong2/Contour_marker',\n",
       "   'url': 'https://api.github.com/repos/Chouweizhong2/Contour_marker'},\n",
       "  'payload': {'push_id': 4344828950,\n",
       "   'size': 1,\n",
       "   'distinct_size': 1,\n",
       "   'ref': 'refs/heads/master',\n",
       "   'head': 'dcf6d6edb17928a68b741723dc154c9be6cb3016',\n",
       "   'before': 'e631c45bb65f3094b86e9a1720c15aceb871b897',\n",
       "   'commits': [{'sha': 'dcf6d6edb17928a68b741723dc154c9be6cb3016',\n",
       "     'author': {'email': 'chouweizhong2@gmail.com', 'name': 'Cjay-Chou'},\n",
       "     'message': 'update',\n",
       "     'distinct': True,\n",
       "     'url': 'https://api.github.com/repos/Chouweizhong2/Contour_marker/commits/dcf6d6edb17928a68b741723dc154c9be6cb3016'}]},\n",
       "  'public': True,\n",
       "  'created_at': '2019-12-02T17:07:20Z',\n",
       "  'org': {'id': 58365271,\n",
       "   'login': 'Chouweizhong2',\n",
       "   'gravatar_id': '',\n",
       "   'url': 'https://api.github.com/orgs/Chouweizhong2',\n",
       "   'avatar_url': 'https://avatars.githubusercontent.com/u/58365271?'}},\n",
       " {'id': '10991521602',\n",
       "  'type': 'CreateEvent',\n",
       "  'actor': {'id': 55330019,\n",
       "   'login': 'ptrckbrown94',\n",
       "   'display_login': 'ptrckbrown94',\n",
       "   'gravatar_id': '',\n",
       "   'url': 'https://api.github.com/users/ptrckbrown94',\n",
       "   'avatar_url': 'https://avatars.githubusercontent.com/u/55330019?'},\n",
       "  'repo': {'id': 223995740,\n",
       "   'name': 'SirPotatoIV/pikachu-posse',\n",
       "   'url': 'https://api.github.com/repos/SirPotatoIV/pikachu-posse'},\n",
       "  'payload': {'ref': 'created-search-object',\n",
       "   'ref_type': 'branch',\n",
       "   'master_branch': 'master',\n",
       "   'description': 'Purpose of repository is to store files for our first web development boot camp project.',\n",
       "   'pusher_type': 'user'},\n",
       "  'public': True,\n",
       "  'created_at': '2019-12-02T17:07:20Z'},\n",
       " {'id': '10991521581',\n",
       "  'type': 'PushEvent',\n",
       "  'actor': {'id': 56198872,\n",
       "   'login': 'betyadamkova',\n",
       "   'display_login': 'betyadamkova',\n",
       "   'gravatar_id': '',\n",
       "   'url': 'https://api.github.com/users/betyadamkova',\n",
       "   'avatar_url': 'https://avatars.githubusercontent.com/u/56198872?'},\n",
       "  'repo': {'id': 213021989,\n",
       "   'name': 'betyadamkova/uloziste',\n",
       "   'url': 'https://api.github.com/repos/betyadamkova/uloziste'},\n",
       "  'payload': {'push_id': 4344828947,\n",
       "   'size': 1,\n",
       "   'distinct_size': 1,\n",
       "   'ref': 'refs/heads/master',\n",
       "   'head': 'e0b18f34309897065367f56e7d2253e2b0c55b40',\n",
       "   'before': 'dd88217192052cd0c8db6b3e32d900521c374b74',\n",
       "   'commits': [{'sha': 'e0b18f34309897065367f56e7d2253e2b0c55b40',\n",
       "     'author': {'email': 'bety.adamkova@gmail.com',\n",
       "      'name': 'Alžběta Adámková'},\n",
       "     'message': 'test cycle',\n",
       "     'distinct': True,\n",
       "     'url': 'https://api.github.com/repos/betyadamkova/uloziste/commits/e0b18f34309897065367f56e7d2253e2b0c55b40'}]},\n",
       "  'public': True,\n",
       "  'created_at': '2019-12-02T17:07:20Z'},\n",
       " {'id': '10991521570',\n",
       "  'type': 'PushEvent',\n",
       "  'actor': {'id': 32373099,\n",
       "   'login': 'MysterieDev',\n",
       "   'display_login': 'MysterieDev',\n",
       "   'gravatar_id': '',\n",
       "   'url': 'https://api.github.com/users/MysterieDev',\n",
       "   'avatar_url': 'https://avatars.githubusercontent.com/u/32373099?'},\n",
       "  'repo': {'id': 222284510,\n",
       "   'name': 'MysterieDev/cocktailDB-Angular',\n",
       "   'url': 'https://api.github.com/repos/MysterieDev/cocktailDB-Angular'},\n",
       "  'payload': {'push_id': 4344828942,\n",
       "   'size': 2,\n",
       "   'distinct_size': 2,\n",
       "   'ref': 'refs/heads/master',\n",
       "   'head': '4d49372178249f80692159532523e3512899a09f',\n",
       "   'before': '8c2dd397e03f7fb707314ee883e86bfc449fbc1f',\n",
       "   'commits': [{'sha': 'ee4a49eac8a8eecd6924106e186f2f5a8cdb3a3d',\n",
       "     'author': {'email': 'josefslezak@Josefs-MacBook-Pro.local',\n",
       "      'name': 'Josef Slezak'},\n",
       "     'message': 'search now shows empty search results instead of error',\n",
       "     'distinct': True,\n",
       "     'url': 'https://api.github.com/repos/MysterieDev/cocktailDB-Angular/commits/ee4a49eac8a8eecd6924106e186f2f5a8cdb3a3d'},\n",
       "    {'sha': '4d49372178249f80692159532523e3512899a09f',\n",
       "     'author': {'email': 'josefslezak@Josefs-MacBook-Pro.local',\n",
       "      'name': 'Josef Slezak'},\n",
       "     'message': 'removed instructions from search results',\n",
       "     'distinct': True,\n",
       "     'url': 'https://api.github.com/repos/MysterieDev/cocktailDB-Angular/commits/4d49372178249f80692159532523e3512899a09f'}]},\n",
       "  'public': True,\n",
       "  'created_at': '2019-12-02T17:07:20Z'},\n",
       " {'id': '10991521554',\n",
       "  'type': 'PushEvent',\n",
       "  'actor': {'id': 34555510,\n",
       "   'login': 'RDIL',\n",
       "   'display_login': 'RDIL',\n",
       "   'gravatar_id': '',\n",
       "   'url': 'https://api.github.com/users/RDIL',\n",
       "   'avatar_url': 'https://avatars.githubusercontent.com/u/34555510?'},\n",
       "  'repo': {'id': 225406874,\n",
       "   'name': 'ourforks/cirrus-ci-web',\n",
       "   'url': 'https://api.github.com/repos/ourforks/cirrus-ci-web'},\n",
       "  'payload': {'push_id': 4344828931,\n",
       "   'size': 1,\n",
       "   'distinct_size': 1,\n",
       "   'ref': 'refs/heads/tweaks',\n",
       "   'head': '21af20d019b53f21662c888bcaa14aa57fb3dd92',\n",
       "   'before': '9a288c74dfcfc9a661146ce2c33196614005f864',\n",
       "   'commits': [{'sha': '21af20d019b53f21662c888bcaa14aa57fb3dd92',\n",
       "     'author': {'email': 'me@rdil.rocks', 'name': 'Reece Dunham'},\n",
       "     'message': 'tweaks',\n",
       "     'distinct': True,\n",
       "     'url': 'https://api.github.com/repos/ourforks/cirrus-ci-web/commits/21af20d019b53f21662c888bcaa14aa57fb3dd92'}]},\n",
       "  'public': True,\n",
       "  'created_at': '2019-12-02T17:07:20Z',\n",
       "  'org': {'id': 57116881,\n",
       "   'login': 'ourforks',\n",
       "   'gravatar_id': '',\n",
       "   'url': 'https://api.github.com/orgs/ourforks',\n",
       "   'avatar_url': 'https://avatars.githubusercontent.com/u/57116881?'}},\n",
       " {'id': '10991521545',\n",
       "  'type': 'PushEvent',\n",
       "  'actor': {'id': 55929657,\n",
       "   'login': 'muslehm',\n",
       "   'display_login': 'muslehm',\n",
       "   'gravatar_id': '',\n",
       "   'url': 'https://api.github.com/users/muslehm',\n",
       "   'avatar_url': 'https://avatars.githubusercontent.com/u/55929657?'},\n",
       "  'repo': {'id': 225409019,\n",
       "   'name': 'muslehm/assignment2',\n",
       "   'url': 'https://api.github.com/repos/muslehm/assignment2'},\n",
       "  'payload': {'push_id': 4344828938,\n",
       "   'size': 1,\n",
       "   'distinct_size': 1,\n",
       "   'ref': 'refs/heads/master',\n",
       "   'head': '910014533a055cf3fbe1780e39b3842830d30acc',\n",
       "   'before': '3fbcada194bb7729b575a105146d072c3f6453d3',\n",
       "   'commits': [{'sha': '910014533a055cf3fbe1780e39b3842830d30acc',\n",
       "     'author': {'email': 'mm223wa@student.lnu.se', 'name': 'Maath'},\n",
       "     'message': 'updates to deploy to heroku',\n",
       "     'distinct': True,\n",
       "     'url': 'https://api.github.com/repos/muslehm/assignment2/commits/910014533a055cf3fbe1780e39b3842830d30acc'}]},\n",
       "  'public': True,\n",
       "  'created_at': '2019-12-02T17:07:20Z'},\n",
       " {'id': '10991521561',\n",
       "  'type': 'PushEvent',\n",
       "  'actor': {'id': 58338818,\n",
       "   'login': 'sreeparnabanerjee53',\n",
       "   'display_login': 'sreeparnabanerjee53',\n",
       "   'gravatar_id': '',\n",
       "   'url': 'https://api.github.com/users/sreeparnabanerjee53',\n",
       "   'avatar_url': 'https://avatars.githubusercontent.com/u/58338818?'},\n",
       "  'repo': {'id': 224883749,\n",
       "   'name': 'sreeparnabanerjee53/sendSMS',\n",
       "   'url': 'https://api.github.com/repos/sreeparnabanerjee53/sendSMS'},\n",
       "  'payload': {'push_id': 4344828937,\n",
       "   'size': 1,\n",
       "   'distinct_size': 1,\n",
       "   'ref': 'refs/heads/master',\n",
       "   'head': 'e55f818b25686f9dfbc22a1407c509e161d2ae25',\n",
       "   'before': 'f54fcce6196de8ba7d12af186c80543d6550cf98',\n",
       "   'commits': [{'sha': 'e55f818b25686f9dfbc22a1407c509e161d2ae25',\n",
       "     'author': {'email': 'sreeparna.banerjee@sap.com', 'name': 'I502404'},\n",
       "     'message': 'test',\n",
       "     'distinct': True,\n",
       "     'url': 'https://api.github.com/repos/sreeparnabanerjee53/sendSMS/commits/e55f818b25686f9dfbc22a1407c509e161d2ae25'}]},\n",
       "  'public': True,\n",
       "  'created_at': '2019-12-02T17:07:20Z'},\n",
       " {'id': '10991521551',\n",
       "  'type': 'PushEvent',\n",
       "  'actor': {'id': 45512128,\n",
       "   'login': 'mig1023',\n",
       "   'display_login': 'mig1023',\n",
       "   'gravatar_id': '',\n",
       "   'url': 'https://api.github.com/users/mig1023',\n",
       "   'avatar_url': 'https://avatars.githubusercontent.com/u/45512128?'},\n",
       "  'repo': {'id': 160043808,\n",
       "   'name': 'mig1023/autoform',\n",
       "   'url': 'https://api.github.com/repos/mig1023/autoform'},\n",
       "  'payload': {'push_id': 4344828935,\n",
       "   'size': 1,\n",
       "   'distinct_size': 1,\n",
       "   'ref': 'refs/heads/master',\n",
       "   'head': '895d52196ec2845b287e3096bed7b8b4b4eb9c62',\n",
       "   'before': '7496cdc5d503501404c6f45b7b4cba8091515cf4',\n",
       "   'commits': [{'sha': '895d52196ec2845b287e3096bed7b8b4b4eb9c62',\n",
       "     'author': {'email': 'mig1023@yandex.ru', 'name': 'mig1023'},\n",
       "     'message': 'fingerprint save',\n",
       "     'distinct': True,\n",
       "     'url': 'https://api.github.com/repos/mig1023/autoform/commits/895d52196ec2845b287e3096bed7b8b4b4eb9c62'}]},\n",
       "  'public': True,\n",
       "  'created_at': '2019-12-02T17:07:20Z'},\n",
       " {'id': '10991521537',\n",
       "  'type': 'PushEvent',\n",
       "  'actor': {'id': 48299200,\n",
       "   'login': 'herb-kuta-lge',\n",
       "   'display_login': 'herb-kuta-lge',\n",
       "   'gravatar_id': '',\n",
       "   'url': 'https://api.github.com/users/herb-kuta-lge',\n",
       "   'avatar_url': 'https://avatars.githubusercontent.com/u/48299200?'},\n",
       "  'repo': {'id': 223518629,\n",
       "   'name': 'herb-kuta-lge/meta-ros-webos',\n",
       "   'url': 'https://api.github.com/repos/herb-kuta-lge/meta-ros-webos'},\n",
       "  'payload': {'push_id': 4344828922,\n",
       "   'size': 7,\n",
       "   'distinct_size': 2,\n",
       "   'ref': 'refs/heads/master-draft-ms11',\n",
       "   'head': '45984b5430b87d36512d593e9b93ae29ce01cbdc',\n",
       "   'before': 'fc1692ec6b19b2feca6c91dbfb09e3150c307348',\n",
       "   'commits': [{'sha': '6df0383183fc88c7cb2c9bdc936fc50d99d5ba71',\n",
       "     'author': {'email': 'herb.kuta@lge.com', 'name': 'Herb Kuta'},\n",
       "     'message': 'DRAFT Import from meta-ros without history',\n",
       "     'distinct': False,\n",
       "     'url': 'https://api.github.com/repos/herb-kuta-lge/meta-ros-webos/commits/6df0383183fc88c7cb2c9bdc936fc50d99d5ba71'},\n",
       "    {'sha': '63b019cc2feb0bda5a41d596bb20037290cad86b',\n",
       "     'author': {'email': 'herb.kuta@lge.com', 'name': 'Herb Kuta'},\n",
       "     'message': 'DRAFT layer.conf: Update for new layer name',\n",
       "     'distinct': False,\n",
       "     'url': 'https://api.github.com/repos/herb-kuta-lge/meta-ros-webos/commits/63b019cc2feb0bda5a41d596bb20037290cad86b'},\n",
       "    {'sha': '39ac23debdc9dd33fb288d8f24fd5be4a999aecc',\n",
       "     'author': {'email': 'herb.kuta@lge.com', 'name': 'Herb Kuta'},\n",
       "     'message': '[[master-draft]] README.md: Indicate branch',\n",
       "     'distinct': False,\n",
       "     'url': 'https://api.github.com/repos/herb-kuta-lge/meta-ros-webos/commits/39ac23debdc9dd33fb288d8f24fd5be4a999aecc'},\n",
       "    {'sha': 'cf045f8606f2316bdc0b26d6846f0280d4ac4e36',\n",
       "     'author': {'email': 'martin.jansa@lge.com', 'name': 'Martin Jansa'},\n",
       "     'message': 'webos-compat.inc: make do_configure_prepend_pn-webos-initscripts compatible with webOS OSE build 91\\n\\nSigned-off-by: Martin Jansa <martin.jansa@lge.com>',\n",
       "     'distinct': False,\n",
       "     'url': 'https://api.github.com/repos/herb-kuta-lge/meta-ros-webos/commits/cf045f8606f2316bdc0b26d6846f0280d4ac4e36'},\n",
       "    {'sha': '63cac4bcc0849c2ae045181bbc12a167f2115813',\n",
       "     'author': {'email': 'herb.kuta@lge.com', 'name': 'Herb Kuta'},\n",
       "     'message': '[[master-draft-ms9]] README.md: Update branch',\n",
       "     'distinct': False,\n",
       "     'url': 'https://api.github.com/repos/herb-kuta-lge/meta-ros-webos/commits/63cac4bcc0849c2ae045181bbc12a167f2115813'},\n",
       "    {'sha': '42208bdb86aa6e6f5d77a2a3afa147e94398751f',\n",
       "     'author': {'email': 'martin.jansa@lge.com', 'name': 'Martin Jansa'},\n",
       "     'message': 'DRAFT [warrior] Add linux-raspberrypi-4.19\\n\\nSigned-off-by: Martin Jansa <martin.jansa@lge.com>',\n",
       "     'distinct': True,\n",
       "     'url': 'https://api.github.com/repos/herb-kuta-lge/meta-ros-webos/commits/42208bdb86aa6e6f5d77a2a3afa147e94398751f'},\n",
       "    {'sha': '45984b5430b87d36512d593e9b93ae29ce01cbdc',\n",
       "     'author': {'email': 'herb.kuta@lge.com', 'name': 'Herb Kuta'},\n",
       "     'message': '[[master-draft-ms11]] TEMP README.md: Update branch',\n",
       "     'distinct': True,\n",
       "     'url': 'https://api.github.com/repos/herb-kuta-lge/meta-ros-webos/commits/45984b5430b87d36512d593e9b93ae29ce01cbdc'}]},\n",
       "  'public': True,\n",
       "  'created_at': '2019-12-02T17:07:20Z'}]"
      ]
     },
     "execution_count": 7,
     "metadata": {},
     "output_type": "execute_result"
    }
   ],
   "source": [
    "# Going back to our working request - how does this look, compared to text?\n",
    "r.json()"
   ]
  },
  {
   "cell_type": "markdown",
   "metadata": {
    "slideshow": {
     "slide_type": "slide"
    }
   },
   "source": [
    "#### A note on errors and exceptions with the Requests library\n",
    "\n",
    "There are a number of exceptions and error codes you need to be familiar with when using the Requests library in Python.\n",
    "\n",
    "- The Requests library will raise a ConnectionError exception if there is a network problem like a DNS failure, or refused connection.\n",
    "- These are rare, but with invalid HTTP responses, Requests will also raise an HTTPError exception. \n",
    "- A Timeout exception will be raised if a request times out.\n",
    "- If and when a request exceeds the preconfigured number of maximum redirections, then a TooManyRedirects exception will be raised"
   ]
  },
  {
   "cell_type": "markdown",
   "metadata": {},
   "source": [
    "## Another Way to Deal with APIs\n",
    "\n",
    "Check out [Postman](https://www.getpostman.com/).\n",
    "\n",
    "(Cue Lindsey showing you how to use Postman with the [Dark Sky API](https://darksky.net/dev))"
   ]
  },
  {
   "cell_type": "code",
   "execution_count": 10,
   "metadata": {},
   "outputs": [],
   "source": [
    "import json"
   ]
  },
  {
   "cell_type": "code",
   "execution_count": 11,
   "metadata": {},
   "outputs": [],
   "source": [
    "def get_keys(path):\n",
    "    with open(path) as f:\n",
    "        return json.load(f)"
   ]
  },
  {
   "cell_type": "code",
   "execution_count": 13,
   "metadata": {},
   "outputs": [],
   "source": [
    "api_key_path = get_keys(\"/Users/lberlin/secrets/api.json\")"
   ]
  },
  {
   "cell_type": "code",
   "execution_count": 23,
   "metadata": {},
   "outputs": [],
   "source": [
    "ds_key = list(api_key_path.values())[0]"
   ]
  },
  {
   "cell_type": "code",
   "execution_count": 25,
   "metadata": {},
   "outputs": [],
   "source": [
    "hou_lat = \"29.7604\"\n",
    "hou_long = \"-95.3698\""
   ]
  },
  {
   "cell_type": "code",
   "execution_count": 26,
   "metadata": {},
   "outputs": [],
   "source": [
    "url = f\"https://api.darksky.net/forecast/{ds_key}/{hou_lat},{hou_long}\""
   ]
  },
  {
   "cell_type": "code",
   "execution_count": null,
   "metadata": {},
   "outputs": [],
   "source": [
    "# url = \"https://api.darksky.net/forecast/{}/{},{}\".format(ds_key, hou_lat, hou_long)"
   ]
  },
  {
   "cell_type": "code",
   "execution_count": 27,
   "metadata": {},
   "outputs": [],
   "source": [
    "ds_r = requests.get(url) "
   ]
  },
  {
   "cell_type": "code",
   "execution_count": 33,
   "metadata": {},
   "outputs": [
    {
     "data": {
      "text/plain": [
       "{'time': 1575308667,\n",
       " 'summary': 'Clear',\n",
       " 'icon': 'clear-day',\n",
       " 'precipIntensity': 0,\n",
       " 'precipProbability': 0,\n",
       " 'temperature': 58.03,\n",
       " 'apparentTemperature': 58.03,\n",
       " 'dewPoint': 25.91,\n",
       " 'humidity': 0.29,\n",
       " 'pressure': 1025.8,\n",
       " 'windSpeed': 11.04,\n",
       " 'windGust': 11.04,\n",
       " 'windBearing': 341,\n",
       " 'cloudCover': 0.08,\n",
       " 'uvIndex': 4,\n",
       " 'visibility': 10,\n",
       " 'ozone': 276.6}"
      ]
     },
     "execution_count": 33,
     "metadata": {},
     "output_type": "execute_result"
    }
   ],
   "source": [
    "ds_r.json()[\"currently\"]"
   ]
  },
  {
   "cell_type": "markdown",
   "metadata": {},
   "source": [
    "## Back to the requests Library: Another Example\n",
    "\n",
    "To start, go over to the API documentation [here](https://dev.socrata.com/foundry/data.cityofnewyork.us/fhrw-4uyv)\n",
    "\n",
    "![311 api documentation screenshot](311_api_docs.png)"
   ]
  },
  {
   "cell_type": "markdown",
   "metadata": {
    "slideshow": {
     "slide_type": "slide"
    }
   },
   "source": [
    "### Make an initial API call to retrieve 311 complaints from a zip code of your choice in New York City\n",
    "\n",
    "We arrived at this URL by checking out the documentation here [here](https://data.cityofnewyork.us/Social-Services/311-Service-Requests-from-2010-to-Present/erm2-nwe9) and clicking API."
   ]
  },
  {
   "cell_type": "code",
   "execution_count": 34,
   "metadata": {
    "slideshow": {
     "slide_type": "-"
    }
   },
   "outputs": [],
   "source": [
    "import requests\n",
    "import pandas as pd\n",
    "\n",
    "# Defining the variable to be changed\n",
    "zip_code = '11004' # you can put any NYC zip code here\n",
    "url = \"https://data.cityofnewyork.us/resource/fhrw-4uyv.json?incident_zip={}\".format(zip_code)\n",
    "\n",
    "# Pull from the API\n",
    "response = requests.get(url)\n",
    "if response.status_code == 200:\n",
    "    data = response.json()\n",
    "else:\n",
    "    print('Hit an error.')"
   ]
  },
  {
   "cell_type": "markdown",
   "metadata": {
    "slideshow": {
     "slide_type": "slide"
    }
   },
   "source": [
    "### Briefly explore the structure of the response you received"
   ]
  },
  {
   "cell_type": "code",
   "execution_count": 35,
   "metadata": {
    "slideshow": {
     "slide_type": "-"
    }
   },
   "outputs": [
    {
     "name": "stdout",
     "output_type": "stream",
     "text": [
      "<class 'list'>\n"
     ]
    }
   ],
   "source": [
    "# What type is our data?\n",
    "print(type(data))"
   ]
  },
  {
   "cell_type": "code",
   "execution_count": 36,
   "metadata": {
    "slideshow": {
     "slide_type": "-"
    }
   },
   "outputs": [
    {
     "data": {
      "text/plain": [
       "1000"
      ]
     },
     "execution_count": 36,
     "metadata": {},
     "output_type": "execute_result"
    }
   ],
   "source": [
    "# Size?\n",
    "len(data)"
   ]
  },
  {
   "cell_type": "code",
   "execution_count": 37,
   "metadata": {
    "slideshow": {
     "slide_type": "fragment"
    }
   },
   "outputs": [
    {
     "data": {
      "text/plain": [
       "{'unique_key': '45024065',\n",
       " 'created_date': '2019-11-26T17:56:37.000',\n",
       " 'agency': 'DOT',\n",
       " 'agency_name': 'Department of Transportation',\n",
       " 'complaint_type': 'Street Condition',\n",
       " 'descriptor': 'Cave-in',\n",
       " 'location_type': 'Street',\n",
       " 'incident_zip': '11004',\n",
       " 'incident_address': '79-47 263 STREET',\n",
       " 'street_name': '263 STREET',\n",
       " 'cross_street_1': '79 AVENUE',\n",
       " 'cross_street_2': '80 AVENUE',\n",
       " 'intersection_street_1': '79 AVENUE',\n",
       " 'intersection_street_2': '80 AVENUE',\n",
       " 'city': 'GLEN OAKS',\n",
       " 'landmark': '263 STREET',\n",
       " 'status': 'In Progress',\n",
       " 'resolution_description': 'The Department of Transportation will inspect the condition and will determine the next action.',\n",
       " 'resolution_action_updated_date': '2019-11-27T14:28:18.000',\n",
       " 'community_board': '13 QUEENS',\n",
       " 'bbl': '4087000008',\n",
       " 'borough': 'QUEENS',\n",
       " 'x_coordinate_state_plane': '1064963',\n",
       " 'y_coordinate_state_plane': '211338',\n",
       " 'open_data_channel_type': 'PHONE',\n",
       " 'park_facility_name': 'Unspecified',\n",
       " 'park_borough': 'QUEENS',\n",
       " 'latitude': '40.746382225334045',\n",
       " 'longitude': '-73.70870924420058',\n",
       " 'location': {'type': 'Point',\n",
       "  'coordinates': [-73.70870924420058, 40.746382225334045]},\n",
       " 'location_address': '',\n",
       " 'location_city': '',\n",
       " 'location_state': '',\n",
       " 'location_zip': ''}"
      ]
     },
     "execution_count": 37,
     "metadata": {},
     "output_type": "execute_result"
    }
   ],
   "source": [
    "# Let's check one of the items out\n",
    "data[20]"
   ]
  },
  {
   "cell_type": "markdown",
   "metadata": {
    "slideshow": {
     "slide_type": "slide"
    }
   },
   "source": [
    "### Create a DataFrame of the data from the response"
   ]
  },
  {
   "cell_type": "code",
   "execution_count": 38,
   "metadata": {
    "slideshow": {
     "slide_type": "-"
    }
   },
   "outputs": [],
   "source": [
    "df = pd.DataFrame(data)"
   ]
  },
  {
   "cell_type": "code",
   "execution_count": 42,
   "metadata": {},
   "outputs": [
    {
     "name": "stdout",
     "output_type": "stream",
     "text": [
      "1000\n",
      "Index(['unique_key', 'created_date', 'closed_date', 'agency', 'agency_name',\n",
      "       'complaint_type', 'descriptor', 'location_type', 'incident_zip',\n",
      "       'incident_address', 'street_name', 'cross_street_1', 'cross_street_2',\n",
      "       'intersection_street_1', 'intersection_street_2', 'city', 'landmark',\n",
      "       'status', 'resolution_description', 'resolution_action_updated_date',\n",
      "       'community_board', 'bbl', 'borough', 'x_coordinate_state_plane',\n",
      "       'y_coordinate_state_plane', 'open_data_channel_type',\n",
      "       'park_facility_name', 'park_borough', 'latitude', 'longitude',\n",
      "       'location', 'location_address', 'location_city', 'location_state',\n",
      "       'location_zip', 'address_type', 'facility_type', 'due_date',\n",
      "       'taxi_pick_up_location'],\n",
      "      dtype='object')\n"
     ]
    },
    {
     "data": {
      "text/html": [
       "<div>\n",
       "<style scoped>\n",
       "    .dataframe tbody tr th:only-of-type {\n",
       "        vertical-align: middle;\n",
       "    }\n",
       "\n",
       "    .dataframe tbody tr th {\n",
       "        vertical-align: top;\n",
       "    }\n",
       "\n",
       "    .dataframe thead th {\n",
       "        text-align: right;\n",
       "    }\n",
       "</style>\n",
       "<table border=\"1\" class=\"dataframe\">\n",
       "  <thead>\n",
       "    <tr style=\"text-align: right;\">\n",
       "      <th></th>\n",
       "      <th>unique_key</th>\n",
       "      <th>created_date</th>\n",
       "      <th>closed_date</th>\n",
       "      <th>agency</th>\n",
       "      <th>agency_name</th>\n",
       "      <th>complaint_type</th>\n",
       "      <th>descriptor</th>\n",
       "      <th>location_type</th>\n",
       "      <th>incident_zip</th>\n",
       "      <th>incident_address</th>\n",
       "      <th>...</th>\n",
       "      <th>longitude</th>\n",
       "      <th>location</th>\n",
       "      <th>location_address</th>\n",
       "      <th>location_city</th>\n",
       "      <th>location_state</th>\n",
       "      <th>location_zip</th>\n",
       "      <th>address_type</th>\n",
       "      <th>facility_type</th>\n",
       "      <th>due_date</th>\n",
       "      <th>taxi_pick_up_location</th>\n",
       "    </tr>\n",
       "  </thead>\n",
       "  <tbody>\n",
       "    <tr>\n",
       "      <td>995</td>\n",
       "      <td>40641297</td>\n",
       "      <td>2018-10-24T09:48:46.000</td>\n",
       "      <td>2018-11-07T10:03:49.000</td>\n",
       "      <td>DOT</td>\n",
       "      <td>Department of Transportation</td>\n",
       "      <td>Street Sign - Dangling</td>\n",
       "      <td>St Name - Attached to Pole</td>\n",
       "      <td>Street</td>\n",
       "      <td>11004</td>\n",
       "      <td>NaN</td>\n",
       "      <td>...</td>\n",
       "      <td>-73.71370109072407</td>\n",
       "      <td>{'type': 'Point', 'coordinates': [-73.71370109...</td>\n",
       "      <td></td>\n",
       "      <td></td>\n",
       "      <td></td>\n",
       "      <td></td>\n",
       "      <td>INTERSECTION</td>\n",
       "      <td>N/A</td>\n",
       "      <td>2018-11-08T11:15:23.000</td>\n",
       "      <td>NaN</td>\n",
       "    </tr>\n",
       "    <tr>\n",
       "      <td>996</td>\n",
       "      <td>40632793</td>\n",
       "      <td>2018-10-23T13:50:38.000</td>\n",
       "      <td>2018-10-24T01:30:31.000</td>\n",
       "      <td>NYPD</td>\n",
       "      <td>New York City Police Department</td>\n",
       "      <td>Illegal Parking</td>\n",
       "      <td>Posted Parking Sign Violation</td>\n",
       "      <td>Street/Sidewalk</td>\n",
       "      <td>11004</td>\n",
       "      <td>79-03 262 STREET</td>\n",
       "      <td>...</td>\n",
       "      <td>-73.70985172513718</td>\n",
       "      <td>{'type': 'Point', 'coordinates': [-73.70985172...</td>\n",
       "      <td></td>\n",
       "      <td></td>\n",
       "      <td></td>\n",
       "      <td></td>\n",
       "      <td>ADDRESS</td>\n",
       "      <td>Precinct</td>\n",
       "      <td>2018-10-23T21:50:38.000</td>\n",
       "      <td>NaN</td>\n",
       "    </tr>\n",
       "    <tr>\n",
       "      <td>997</td>\n",
       "      <td>40632061</td>\n",
       "      <td>2018-10-23T14:47:24.000</td>\n",
       "      <td>2018-10-24T16:43:13.000</td>\n",
       "      <td>DOT</td>\n",
       "      <td>Department of Transportation</td>\n",
       "      <td>Street Condition</td>\n",
       "      <td>Failed Street Repair</td>\n",
       "      <td>Street</td>\n",
       "      <td>11004</td>\n",
       "      <td>82-45 261 STREET</td>\n",
       "      <td>...</td>\n",
       "      <td>-73.7084862412389</td>\n",
       "      <td>{'type': 'Point', 'coordinates': [-73.70848624...</td>\n",
       "      <td></td>\n",
       "      <td></td>\n",
       "      <td></td>\n",
       "      <td></td>\n",
       "      <td>ADDRESS</td>\n",
       "      <td>N/A</td>\n",
       "      <td>NaN</td>\n",
       "      <td>NaN</td>\n",
       "    </tr>\n",
       "    <tr>\n",
       "      <td>998</td>\n",
       "      <td>40622425</td>\n",
       "      <td>2018-10-22T16:35:59.000</td>\n",
       "      <td>2018-12-12T14:15:23.000</td>\n",
       "      <td>DPR</td>\n",
       "      <td>Department of Parks and Recreation</td>\n",
       "      <td>Dead/Dying Tree</td>\n",
       "      <td>Planted More Than 2 Years Ago</td>\n",
       "      <td>Street</td>\n",
       "      <td>11004</td>\n",
       "      <td>80-20 257 STREET</td>\n",
       "      <td>...</td>\n",
       "      <td>-73.71362888723172</td>\n",
       "      <td>{'type': 'Point', 'coordinates': [-73.71362888...</td>\n",
       "      <td></td>\n",
       "      <td></td>\n",
       "      <td></td>\n",
       "      <td></td>\n",
       "      <td>ADDRESS</td>\n",
       "      <td>N/A</td>\n",
       "      <td>2018-11-15T09:22:40.000</td>\n",
       "      <td>NaN</td>\n",
       "    </tr>\n",
       "    <tr>\n",
       "      <td>999</td>\n",
       "      <td>40622424</td>\n",
       "      <td>2018-10-22T17:57:22.000</td>\n",
       "      <td>2018-10-23T09:21:40.000</td>\n",
       "      <td>DPR</td>\n",
       "      <td>Department of Parks and Recreation</td>\n",
       "      <td>Dead/Dying Tree</td>\n",
       "      <td>Planted More Than 2 Years Ago</td>\n",
       "      <td>Street</td>\n",
       "      <td>11004</td>\n",
       "      <td>82-02 256 STREET</td>\n",
       "      <td>...</td>\n",
       "      <td>-73.71324760769916</td>\n",
       "      <td>{'type': 'Point', 'coordinates': [-73.71324760...</td>\n",
       "      <td></td>\n",
       "      <td></td>\n",
       "      <td></td>\n",
       "      <td></td>\n",
       "      <td>ADDRESS</td>\n",
       "      <td>N/A</td>\n",
       "      <td>2018-10-29T17:57:22.000</td>\n",
       "      <td>NaN</td>\n",
       "    </tr>\n",
       "  </tbody>\n",
       "</table>\n",
       "<p>5 rows × 39 columns</p>\n",
       "</div>"
      ],
      "text/plain": [
       "    unique_key             created_date              closed_date agency  \\\n",
       "995   40641297  2018-10-24T09:48:46.000  2018-11-07T10:03:49.000    DOT   \n",
       "996   40632793  2018-10-23T13:50:38.000  2018-10-24T01:30:31.000   NYPD   \n",
       "997   40632061  2018-10-23T14:47:24.000  2018-10-24T16:43:13.000    DOT   \n",
       "998   40622425  2018-10-22T16:35:59.000  2018-12-12T14:15:23.000    DPR   \n",
       "999   40622424  2018-10-22T17:57:22.000  2018-10-23T09:21:40.000    DPR   \n",
       "\n",
       "                            agency_name          complaint_type  \\\n",
       "995        Department of Transportation  Street Sign - Dangling   \n",
       "996     New York City Police Department         Illegal Parking   \n",
       "997        Department of Transportation        Street Condition   \n",
       "998  Department of Parks and Recreation         Dead/Dying Tree   \n",
       "999  Department of Parks and Recreation         Dead/Dying Tree   \n",
       "\n",
       "                        descriptor    location_type incident_zip  \\\n",
       "995     St Name - Attached to Pole           Street        11004   \n",
       "996  Posted Parking Sign Violation  Street/Sidewalk        11004   \n",
       "997           Failed Street Repair           Street        11004   \n",
       "998  Planted More Than 2 Years Ago           Street        11004   \n",
       "999  Planted More Than 2 Years Ago           Street        11004   \n",
       "\n",
       "     incident_address  ...           longitude  \\\n",
       "995               NaN  ...  -73.71370109072407   \n",
       "996  79-03 262 STREET  ...  -73.70985172513718   \n",
       "997  82-45 261 STREET  ...   -73.7084862412389   \n",
       "998  80-20 257 STREET  ...  -73.71362888723172   \n",
       "999  82-02 256 STREET  ...  -73.71324760769916   \n",
       "\n",
       "                                              location location_address  \\\n",
       "995  {'type': 'Point', 'coordinates': [-73.71370109...                    \n",
       "996  {'type': 'Point', 'coordinates': [-73.70985172...                    \n",
       "997  {'type': 'Point', 'coordinates': [-73.70848624...                    \n",
       "998  {'type': 'Point', 'coordinates': [-73.71362888...                    \n",
       "999  {'type': 'Point', 'coordinates': [-73.71324760...                    \n",
       "\n",
       "    location_city location_state location_zip  address_type facility_type  \\\n",
       "995                                            INTERSECTION           N/A   \n",
       "996                                                 ADDRESS      Precinct   \n",
       "997                                                 ADDRESS           N/A   \n",
       "998                                                 ADDRESS           N/A   \n",
       "999                                                 ADDRESS           N/A   \n",
       "\n",
       "                    due_date taxi_pick_up_location  \n",
       "995  2018-11-08T11:15:23.000                   NaN  \n",
       "996  2018-10-23T21:50:38.000                   NaN  \n",
       "997                      NaN                   NaN  \n",
       "998  2018-11-15T09:22:40.000                   NaN  \n",
       "999  2018-10-29T17:57:22.000                   NaN  \n",
       "\n",
       "[5 rows x 39 columns]"
      ]
     },
     "execution_count": 42,
     "metadata": {},
     "output_type": "execute_result"
    }
   ],
   "source": [
    "# Let's look at some details\n",
    "print(len(df))\n",
    "print(df.columns)\n",
    "df.tail()"
   ]
  },
  {
   "cell_type": "markdown",
   "metadata": {
    "slideshow": {
     "slide_type": "slide"
    }
   },
   "source": [
    "### Create a Chart of Complaint Types "
   ]
  },
  {
   "cell_type": "code",
   "execution_count": 40,
   "metadata": {
    "slideshow": {
     "slide_type": "fragment"
    }
   },
   "outputs": [],
   "source": [
    "import matplotlib.pyplot as plt\n",
    "%matplotlib inline"
   ]
  },
  {
   "cell_type": "code",
   "execution_count": 43,
   "metadata": {
    "slideshow": {
     "slide_type": "fragment"
    }
   },
   "outputs": [
    {
     "data": {
      "image/png": "[encoded data removed]",
      "text/plain": [
       "<Figure size 576x864 with 1 Axes>"
      ]
     },
     "metadata": {
      "needs_background": "light"
     },
     "output_type": "display_data"
    }
   ],
   "source": [
    "# Can you break down how this plot is generated?\n",
    "df.complaint_type.value_counts(ascending=True).plot(kind='barh', figsize=(8,12))\n",
    "plt.show()"
   ]
  },
  {
   "cell_type": "markdown",
   "metadata": {
    "slideshow": {
     "slide_type": "slide"
    }
   },
   "source": [
    "## Extra credit - Further Practice\n",
    "\n",
    "There are many ways to access data through APIs! [Sodapy](https://github.com/xmunoz/sodapy) is the Python client for the Socrata Open Data API."
   ]
  },
  {
   "cell_type": "code",
   "execution_count": null,
   "metadata": {},
   "outputs": [],
   "source": [
    "# Install before running \n",
    "# !pip install sodapy"
   ]
  },
  {
   "cell_type": "markdown",
   "metadata": {
    "slideshow": {
     "slide_type": "-"
    }
   },
   "source": [
    "#### Tokenize yourself!\n",
    "\n",
    "https://dev.socrata.com/foundry/data.cityofnewyork.us/fhrw-4uyv\n",
    "\n",
    "Scroll down and click to sign up for an app token! No credit cards required!"
   ]
  },
  {
   "cell_type": "code",
   "execution_count": null,
   "metadata": {},
   "outputs": [],
   "source": [
    "token = '' # paste your token here \n",
    "\n",
    "import pandas as pd\n",
    "from sodapy import Socrata\n",
    "\n",
    "# Unauthenticated client only works with public data sets. Note 'None'\n",
    "# in place of application token, and no username or password:\n",
    "client = Socrata(\"data.cityofnewyork.us\", token)\n",
    "\n",
    "# Example authenticated client (needed for non-public datasets):\n",
    "# client = Socrata(data.cityofnewyork.us,\n",
    "#                  MyAppToken,\n",
    "#                  userame=\"user@example.com\",\n",
    "#                  password=\"AFakePassword\")\n",
    "\n",
    "# First 2000 results, returned as JSON from API / converted to Python list of\n",
    "# dictionaries by sodapy.\n",
    "results = client.get(\"fhrw-4uyv\", incident_zip = '11004', limit=1000)"
   ]
  },
  {
   "cell_type": "code",
   "execution_count": null,
   "metadata": {
    "slideshow": {
     "slide_type": "-"
    }
   },
   "outputs": [],
   "source": [
    "type(results)"
   ]
  },
  {
   "cell_type": "code",
   "execution_count": null,
   "metadata": {
    "slideshow": {
     "slide_type": "-"
    }
   },
   "outputs": [],
   "source": [
    "len(results)"
   ]
  },
  {
   "cell_type": "code",
   "execution_count": null,
   "metadata": {
    "slideshow": {
     "slide_type": "-"
    }
   },
   "outputs": [],
   "source": [
    "results[0]"
   ]
  },
  {
   "cell_type": "code",
   "execution_count": null,
   "metadata": {
    "slideshow": {
     "slide_type": "-"
    }
   },
   "outputs": [],
   "source": [
    "df_soda = pd.DataFrame(results)\n",
    "\n",
    "print(len(df_soda))\n",
    "print(df_soda.columns)\n",
    "df_soda.head()"
   ]
  },
  {
   "cell_type": "markdown",
   "metadata": {
    "slideshow": {
     "slide_type": "slide"
    }
   },
   "source": [
    "## Even Further Practice\n",
    "\n",
    "https://github.com/toddmotto/public-apis\n",
    "\n",
    "Find a buddy, find a free api, get a key, and do a GET. Try to transform the response into a dataframe."
   ]
  },
  {
   "cell_type": "code",
   "execution_count": null,
   "metadata": {},
   "outputs": [],
   "source": []
  }
 ],
 "metadata": {
  "kernelspec": {
   "display_name": "Python 3",
   "language": "python",
   "name": "python3"
  },
  "language_info": {
   "codemirror_mode": {
    "name": "ipython",
    "version": 3
   },
   "file_extension": ".py",
   "mimetype": "text/x-python",
   "name": "python",
   "nbconvert_exporter": "python",
   "pygments_lexer": "ipython3",
   "version": "3.6.9"
  }
 },
 "nbformat": 4,
 "nbformat_minor": 2
}
